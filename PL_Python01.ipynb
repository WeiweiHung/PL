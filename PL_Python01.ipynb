{
 "cells": [
  {
   "cell_type": "code",
   "execution_count": 4,
   "id": "618396bd",
   "metadata": {},
   "outputs": [],
   "source": [
    "str1 = \"將所得稅法第111條第2項所定之罰鍰1500元，依罰金罰鍰提高標準條例第1條、第3條之規定提高五倍為罰鍰7500元\""
   ]
  },
  {
   "cell_type": "code",
   "execution_count": 5,
   "id": "7eda1b00",
   "metadata": {},
   "outputs": [
    {
     "name": "stdout",
     "output_type": "stream",
     "text": [
      "將所得稅法第111條第2項所定之罰鍰1500元，依罰金罰鍰提高標準條例第1條、第3條之規定提高五倍為罰鍰7500元\n"
     ]
    }
   ],
   "source": [
    "print(str1)"
   ]
  },
  {
   "cell_type": "code",
   "execution_count": 6,
   "id": "1336c602",
   "metadata": {},
   "outputs": [],
   "source": [
    "money = 1500\n",
    "r = 5\n",
    "total_money = money*r"
   ]
  },
  {
   "cell_type": "code",
   "execution_count": 7,
   "id": "28fa6856",
   "metadata": {},
   "outputs": [
    {
     "name": "stdout",
     "output_type": "stream",
     "text": [
      "7500\n"
     ]
    }
   ],
   "source": [
    "print(total_money)"
   ]
  },
  {
   "cell_type": "code",
   "execution_count": 8,
   "id": "bbf50502",
   "metadata": {},
   "outputs": [
    {
     "name": "stdout",
     "output_type": "stream",
     "text": [
      "總罰鍰為 7500 元\n"
     ]
    }
   ],
   "source": [
    "print(\"總罰鍰為\",total_money,\"元\")"
   ]
  },
  {
   "cell_type": "code",
   "execution_count": null,
   "id": "13c21cbd",
   "metadata": {},
   "outputs": [],
   "source": []
  }
 ],
 "metadata": {
  "kernelspec": {
   "display_name": "Python 3 (ipykernel)",
   "language": "python",
   "name": "python3"
  },
  "language_info": {
   "codemirror_mode": {
    "name": "ipython",
    "version": 3
   },
   "file_extension": ".py",
   "mimetype": "text/x-python",
   "name": "python",
   "nbconvert_exporter": "python",
   "pygments_lexer": "ipython3",
   "version": "3.9.12"
  }
 },
 "nbformat": 4,
 "nbformat_minor": 5
}
