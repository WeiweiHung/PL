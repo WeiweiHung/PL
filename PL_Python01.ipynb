{
 "cells": [
  {
   "cell_type": "code",
   "execution_count": 4,
   "id": "a7c0d094",
   "metadata": {},
   "outputs": [],
   "source": [
    "#例題\n",
    "str1 = \"將所得稅法第111條第2項所定之罰鍰1500元，依罰金罰鍰提高標準條例第1條、第3條之規定提高五倍為罰鍰7500元\""
   ]
  },
  {
   "cell_type": "code",
   "execution_count": 5,
   "id": "b4c11da3",
   "metadata": {},
   "outputs": [
    {
     "name": "stdout",
     "output_type": "stream",
     "text": [
      "將所得稅法第111條第2項所定之罰鍰1500元，依罰金罰鍰提高標準條例第1條、第3條之規定提高五倍為罰鍰7500元\n"
     ]
    }
   ],
   "source": [
    "print(str1)"
   ]
  },
  {
   "cell_type": "code",
   "execution_count": 6,
   "id": "caf292f8",
   "metadata": {},
   "outputs": [],
   "source": [
    "money = 1500\n",
    "r = 5\n",
    "total_money = money*r"
   ]
  },
  {
   "cell_type": "code",
   "execution_count": 7,
   "id": "1dcf47ce",
   "metadata": {},
   "outputs": [
    {
     "name": "stdout",
     "output_type": "stream",
     "text": [
      "7500\n"
     ]
    }
   ],
   "source": [
    "print(total_money)"
   ]
  },
  {
   "cell_type": "code",
   "execution_count": 8,
   "id": "07cbd9b3",
   "metadata": {},
   "outputs": [
    {
     "name": "stdout",
     "output_type": "stream",
     "text": [
      "總罰鍰為 7500 元\n"
     ]
    }
   ],
   "source": [
    "print(\"總罰鍰為\",total_money,\"元\")"
   ]
  },
  {
   "cell_type": "code",
   "execution_count": 9,
   "id": "c4f90dcf",
   "metadata": {},
   "outputs": [],
   "source": [
    "#練習一\n",
    "str2 = \"總判賠金額為25688，判賠比例為被告七成、原告三成\""
   ]
  },
  {
   "cell_type": "code",
   "execution_count": 10,
   "id": "fc264237",
   "metadata": {},
   "outputs": [],
   "source": [
    "t_money = 25688\n",
    "b_money = t_money*0.7  #被告\n",
    "r_money = t_money*0.3  #原告"
   ]
  },
  {
   "cell_type": "code",
   "execution_count": 13,
   "id": "97d51dbe",
   "metadata": {},
   "outputs": [
    {
     "name": "stdout",
     "output_type": "stream",
     "text": [
      "被告須繳罰金為 17981 元\n",
      "原告需繳罰金為 7706 元\n"
     ]
    }
   ],
   "source": [
    "print(\"被告須繳罰金為\",int(b_money),\"元\")\n",
    "print(\"原告需繳罰金為\",int(r_money),\"元\")"
   ]
  },
  {
   "cell_type": "code",
   "execution_count": 14,
   "id": "0f7a6405",
   "metadata": {},
   "outputs": [
    {
     "name": "stdout",
     "output_type": "stream",
     "text": [
      "被告應付原告違約金1805元，利息以日利息0.0005計算，從判賠日1/19到3/19付款日，被告函違約金和利息應給原告多少\n"
     ]
    }
   ],
   "source": [
    "#練習二\n",
    "str3 = \"被告應付原告違約金11805元，利息以日利息複利0.0005計算，從判賠日1/19到3/19付款日，被告函違約金和利息應給原告多少\"\n",
    "print(str3)"
   ]
  },
  {
   "cell_type": "code",
   "execution_count": 25,
   "id": "6be3a6e8",
   "metadata": {},
   "outputs": [
    {
     "name": "stdout",
     "output_type": "stream",
     "text": [
      "被告應給原告 12378 元\n"
     ]
    }
   ],
   "source": [
    "rmoney = 11805\n",
    "R = 0.0005\n",
    "days = 59\n",
    "month = 2\n",
    "monthr = ((1 + month)*1/2)*150\n",
    "tmoney = rmoney*(1 + 0.0005*days) + monthr\n",
    "print(\"被告應給原告\",int(tmoney),\"元\")"
   ]
  },
  {
   "cell_type": "code",
   "execution_count": null,
   "id": "22265909",
   "metadata": {},
   "outputs": [],
   "source": [
    "#練習三\n",
    "str4 = \"輸入被告闖紅燈、原告闖紅燈、被告原告接闖紅燈，並顯示出各項判例判賠比例\"\n",
    "print(str4)"
   ]
  },
  {
   "cell_type": "code",
   "execution_count": 13,
   "id": "9276346a",
   "metadata": {},
   "outputs": [
    {
     "name": "stdout",
     "output_type": "stream",
     "text": [
      "請出入狀況：原告闖紅燈\n",
      "原告多被告少\n"
     ]
    }
   ],
   "source": [
    "event = input(\"請出入狀況：\")\n",
    "\n",
    "if event == \"被告闖紅燈\":\n",
    "    print(\"被告賠100%\")\n",
    "elif event == \"原告闖紅燈\":\n",
    "    print(\"原告多被告少\")\n",
    "elif event == \"被告原告皆闖紅燈\":\n",
    "    print(\"原告與被告各50%\")\n",
    "else :\n",
    "        print(\"請填入有效信息\")\n",
    "   "
   ]
  },
  {
   "cell_type": "code",
   "execution_count": 20,
   "id": "981e0776",
   "metadata": {},
   "outputs": [
    {
     "data": {
      "text/html": [
       "<div>\n",
       "<style scoped>\n",
       "    .dataframe tbody tr th:only-of-type {\n",
       "        vertical-align: middle;\n",
       "    }\n",
       "\n",
       "    .dataframe tbody tr th {\n",
       "        vertical-align: top;\n",
       "    }\n",
       "\n",
       "    .dataframe thead th {\n",
       "        text-align: right;\n",
       "    }\n",
       "</style>\n",
       "<table border=\"1\" class=\"dataframe\">\n",
       "  <thead>\n",
       "    <tr style=\"text-align: right;\">\n",
       "      <th></th>\n",
       "      <th>學號\\t性別\\t分發宿舍\\t分發寢室\\t分發床號</th>\n",
       "    </tr>\n",
       "  </thead>\n",
       "  <tbody>\n",
       "    <tr>\n",
       "      <th>0</th>\n",
       "      <td>40909026E\\t女\\t女一舍\\t5111\\t3</td>\n",
       "    </tr>\n",
       "    <tr>\n",
       "      <th>1</th>\n",
       "      <td>40920120L\\t女\\t女一舍\\t5111\\t4</td>\n",
       "    </tr>\n",
       "    <tr>\n",
       "      <th>2</th>\n",
       "      <td>40820124L\\t女\\t女一舍\\t5112\\t2</td>\n",
       "    </tr>\n",
       "    <tr>\n",
       "      <th>3</th>\n",
       "      <td>40826013L\\t女\\t女一舍\\t5112\\t3</td>\n",
       "    </tr>\n",
       "    <tr>\n",
       "      <th>4</th>\n",
       "      <td>40707218E\\t女\\t女一舍\\t5113\\t3</td>\n",
       "    </tr>\n",
       "  </tbody>\n",
       "</table>\n",
       "</div>"
      ],
      "text/plain": [
       "     學號\\t性別\\t分發宿舍\\t分發寢室\\t分發床號\n",
       "0  40909026E\\t女\\t女一舍\\t5111\\t3\n",
       "1  40920120L\\t女\\t女一舍\\t5111\\t4\n",
       "2  40820124L\\t女\\t女一舍\\t5112\\t2\n",
       "3  40826013L\\t女\\t女一舍\\t5112\\t3\n",
       "4  40707218E\\t女\\t女一舍\\t5113\\t3"
      ]
     },
     "execution_count": 20,
     "metadata": {},
     "output_type": "execute_result"
    }
   ],
   "source": [
    "# 練習篩選列表\n",
    "import pandas as pd\n",
    "data = pd.read_csv(\"data.csv\")\n",
    "data.head()"
   ]
  },
  {
   "cell_type": "markdown",
   "id": "539c8b89",
   "metadata": {},
   "source": [
    "導入分發寢室和所有學號，並輸入使用者學號"
   ]
  },
  {
   "cell_type": "code",
   "execution_count": 11,
   "id": "33eb9a63",
   "metadata": {},
   "outputs": [
    {
     "data": {
      "text/html": [
       "<div>\n",
       "<style scoped>\n",
       "    .dataframe tbody tr th:only-of-type {\n",
       "        vertical-align: middle;\n",
       "    }\n",
       "\n",
       "    .dataframe tbody tr th {\n",
       "        vertical-align: top;\n",
       "    }\n",
       "\n",
       "    .dataframe thead th {\n",
       "        text-align: right;\n",
       "    }\n",
       "</style>\n",
       "<table border=\"1\" class=\"dataframe\">\n",
       "  <thead>\n",
       "    <tr style=\"text-align: right;\">\n",
       "      <th></th>\n",
       "      <th>學號</th>\n",
       "    </tr>\n",
       "  </thead>\n",
       "  <tbody>\n",
       "    <tr>\n",
       "      <th>0</th>\n",
       "      <td>40909026E</td>\n",
       "    </tr>\n",
       "    <tr>\n",
       "      <th>1</th>\n",
       "      <td>40920120L</td>\n",
       "    </tr>\n",
       "    <tr>\n",
       "      <th>2</th>\n",
       "      <td>40820124L</td>\n",
       "    </tr>\n",
       "    <tr>\n",
       "      <th>3</th>\n",
       "      <td>40826013L</td>\n",
       "    </tr>\n",
       "    <tr>\n",
       "      <th>4</th>\n",
       "      <td>40707218E</td>\n",
       "    </tr>\n",
       "  </tbody>\n",
       "</table>\n",
       "</div>"
      ],
      "text/plain": [
       "          學號\n",
       "0  40909026E\n",
       "1  40920120L\n",
       "2  40820124L\n",
       "3  40826013L\n",
       "4  40707218E"
      ]
     },
     "execution_count": 11,
     "metadata": {},
     "output_type": "execute_result"
    }
   ],
   "source": [
    "sub = input(\"請輸入學號？\")\n",
    "    "
   ]
  },
  {
   "cell_type": "code",
   "execution_count": 9,
   "id": "ca979c12",
   "metadata": {},
   "outputs": [
    {
     "data": {
      "text/html": [
       "<div>\n",
       "<style scoped>\n",
       "    .dataframe tbody tr th:only-of-type {\n",
       "        vertical-align: middle;\n",
       "    }\n",
       "\n",
       "    .dataframe tbody tr th {\n",
       "        vertical-align: top;\n",
       "    }\n",
       "\n",
       "    .dataframe thead th {\n",
       "        text-align: right;\n",
       "    }\n",
       "</style>\n",
       "<table border=\"1\" class=\"dataframe\">\n",
       "  <thead>\n",
       "    <tr style=\"text-align: right;\">\n",
       "      <th></th>\n",
       "      <th>分發寢室</th>\n",
       "    </tr>\n",
       "  </thead>\n",
       "  <tbody>\n",
       "    <tr>\n",
       "      <th>3093</th>\n",
       "      <td>70630</td>\n",
       "    </tr>\n",
       "    <tr>\n",
       "      <th>3094</th>\n",
       "      <td>70714</td>\n",
       "    </tr>\n",
       "    <tr>\n",
       "      <th>3095</th>\n",
       "      <td>70714</td>\n",
       "    </tr>\n",
       "    <tr>\n",
       "      <th>3096</th>\n",
       "      <td>70714</td>\n",
       "    </tr>\n",
       "    <tr>\n",
       "      <th>3097</th>\n",
       "      <td>70714</td>\n",
       "    </tr>\n",
       "  </tbody>\n",
       "</table>\n",
       "</div>"
      ],
      "text/plain": [
       "       分發寢室\n",
       "3093  70630\n",
       "3094  70714\n",
       "3095  70714\n",
       "3096  70714\n",
       "3097  70714"
      ]
     },
     "execution_count": 9,
     "metadata": {},
     "output_type": "execute_result"
    }
   ],
   "source": [
    "roomnumber.tail()"
   ]
  },
  {
   "cell_type": "code",
   "execution_count": null,
   "id": "b6bcb978",
   "metadata": {},
   "outputs": [],
   "source": []
  }
 ],
 "metadata": {
  "kernelspec": {
   "display_name": "Python 3",
   "language": "python",
   "name": "python3"
  },
  "language_info": {
   "codemirror_mode": {
    "name": "ipython",
    "version": 3
   },
   "file_extension": ".py",
   "mimetype": "text/x-python",
   "name": "python",
   "nbconvert_exporter": "python",
   "pygments_lexer": "ipython3",
   "version": "3.10.7 (tags/v3.10.7:6cc6b13, Sep  5 2022, 14:08:36) [MSC v.1933 64 bit (AMD64)]"
  },
  "vscode": {
   "interpreter": {
    "hash": "369f2c481f4da34e4445cda3fffd2e751bd1c4d706f27375911949ba6bb62e1c"
   }
  }
 },
 "nbformat": 4,
 "nbformat_minor": 5
}
