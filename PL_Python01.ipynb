{
 "cells": [
  {
   "cell_type": "code",
   "execution_count": 4,
   "id": "6f061c52",
   "metadata": {},
   "outputs": [],
   "source": [
    "str1 = \"將所得稅法第111條第2項所定之罰鍰1500元，依罰金罰鍰提高標準條例第1條、第3條之規定提高五倍為罰鍰7500元\""
   ]
  },
  {
   "cell_type": "code",
   "execution_count": 5,
   "id": "78661b6a",
   "metadata": {},
   "outputs": [
    {
     "name": "stdout",
     "output_type": "stream",
     "text": [
      "將所得稅法第111條第2項所定之罰鍰1500元，依罰金罰鍰提高標準條例第1條、第3條之規定提高五倍為罰鍰7500元\n"
     ]
    }
   ],
   "source": [
    "print(str1)"
   ]
  },
  {
   "cell_type": "code",
   "execution_count": 6,
   "id": "fe842e13",
   "metadata": {},
   "outputs": [],
   "source": [
    "money = 1500\n",
    "r = 5\n",
    "total_money = money*r"
   ]
  },
  {
   "cell_type": "code",
   "execution_count": 7,
   "id": "7a75ac11",
   "metadata": {},
   "outputs": [
    {
     "name": "stdout",
     "output_type": "stream",
     "text": [
      "7500\n"
     ]
    }
   ],
   "source": [
    "print(total_money)"
   ]
  },
  {
   "cell_type": "code",
   "execution_count": 8,
   "id": "b8889d26",
   "metadata": {},
   "outputs": [
    {
     "name": "stdout",
     "output_type": "stream",
     "text": [
      "總罰鍰為 7500 元\n"
     ]
    }
   ],
   "source": [
    "print(\"總罰鍰為\",total_money,\"元\")"
   ]
  },
  {
   "cell_type": "code",
   "execution_count": 9,
   "id": "9a500bb9",
   "metadata": {},
   "outputs": [],
   "source": [
    "str2 = \"總判賠金額為25688，判賠比例為被告七成、原告三成\""
   ]
  },
  {
   "cell_type": "code",
   "execution_count": 10,
   "id": "5a796640",
   "metadata": {},
   "outputs": [],
   "source": [
    "t_money = 25688\n",
    "b_money = t_money*0.7  #被告\n",
    "r_money = t_money*0.3  #原告"
   ]
  },
  {
   "cell_type": "code",
   "execution_count": 12,
   "id": "99844805",
   "metadata": {},
   "outputs": [
    {
     "name": "stdout",
     "output_type": "stream",
     "text": [
      "被告須繳罰金為 17981.6 元\n",
      "原告需繳罰金為 7706.4 元\n"
     ]
    }
   ],
   "source": [
    "print(\"被告須繳罰金為\",b_money,\"元\")\n",
    "print(\"原告需繳罰金為\",r_money,\"元\")"
   ]
  },
  {
   "cell_type": "code",
   "execution_count": null,
   "id": "bb4c8fd6",
   "metadata": {},
   "outputs": [],
   "source": []
  }
 ],
 "metadata": {
  "kernelspec": {
   "display_name": "Python 3 (ipykernel)",
   "language": "python",
   "name": "python3"
  },
  "language_info": {
   "codemirror_mode": {
    "name": "ipython",
    "version": 3
   },
   "file_extension": ".py",
   "mimetype": "text/x-python",
   "name": "python",
   "nbconvert_exporter": "python",
   "pygments_lexer": "ipython3",
   "version": "3.9.12"
  }
 },
 "nbformat": 4,
 "nbformat_minor": 5
}
