{
 "cells": [
  {
   "cell_type": "code",
   "execution_count": 6,
   "id": "de13f084",
   "metadata": {},
   "outputs": [
    {
     "name": "stdout",
     "output_type": "stream",
     "text": [
      "學號40909026E\n"
     ]
    }
   ],
   "source": [
    "## \n",
    "d = {\"學號\" : [\"40909026E\",\"40826013L\",\"40707218E\",\"40830043A\",\"40957004O\"],\n",
    "     \"分發寢室\" : [\"5111\",\"5112\",\"5113\",\"5116\",\"5118\"]}\n",
    "n = 0\n",
    "s = input(\"學號\")\n",
    "for s in \"學號\":\n",
    "    if s == \"學號\":\n",
    "        print(d[\"分發寢室\"][n])\n",
    "    else:\n",
    "        n = n+1\n",
    "        \n",
    "    "
   ]
  },
  {
   "cell_type": "code",
   "execution_count": null,
   "id": "93baf8ae",
   "metadata": {},
   "outputs": [],
   "source": []
  }
 ],
 "metadata": {
  "kernelspec": {
   "display_name": "Python 3 (ipykernel)",
   "language": "python",
   "name": "python3"
  },
  "language_info": {
   "codemirror_mode": {
    "name": "ipython",
    "version": 3
   },
   "file_extension": ".py",
   "mimetype": "text/x-python",
   "name": "python",
   "nbconvert_exporter": "python",
   "pygments_lexer": "ipython3",
   "version": "3.9.12"
  }
 },
 "nbformat": 4,
 "nbformat_minor": 5
}
