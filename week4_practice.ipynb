{
 "cells": [
  {
   "cell_type": "code",
   "execution_count": 15,
   "id": "b7c40eb6",
   "metadata": {},
   "outputs": [],
   "source": [
    "## 界定、輸入、執行分開比較好除錯\n",
    "#d = {\"學號\" : [\"40909026E\",\"40826013L\",\"40707218E\",\"40830043A\",\"40957004O\"],\n",
    "     #\"分發寢室\" : [\"5111\",\"5112\",\"5113\",\"5116\",\"5118\"]}"
   ]
  },
  {
   "cell_type": "code",
   "execution_count": 16,
   "id": "0a647854",
   "metadata": {},
   "outputs": [],
   "source": [
    "#s = input(\"輸入學號\")"
   ]
  },
  {
   "cell_type": "code",
   "execution_count": 17,
   "id": "16ab061a",
   "metadata": {},
   "outputs": [],
   "source": [
    "#n = 0\n",
    "#for i in d[\"學號\"]:    \n",
    "    #print(i)\n",
    "    #if s == i:\n",
    "        #print(d[\"分發寢室\"][n])\n",
    "   # else:\n",
    "       # n = n+1  "
   ]
  },
  {
   "cell_type": "code",
   "execution_count": 18,
   "id": "410d8b06",
   "metadata": {},
   "outputs": [],
   "source": [
    "#已知有阿程、阿力、阿瑤三人，分别分別年齡為4、29、58，他們分別觸犯多條道路交\n",
    "#通管理處罰條例。\n",
    "#甲：第16條 裝置高音量喇叭或其他產生噪音器物，被罰了1600元、\n",
    "#第17條汽車不依限期參加定期檢驗或臨時檢驗，被罰 了1500元、\n",
    "#第62條汽車駕駛人駕駛汽車肇事，被罰 了2500元、\n",
    "#第21條 未領有駕駛執照駕駛小型車或機車，被罰 了10500元\n",
    "#乙：第12條汽車使用吊銷、註銷之牌照，被罰了5000元\n",
    "#丙：第82條 未經許可在道路擺設攤位，被罰 了2000元、\n",
    "#第56條 在禁止臨時停車處所停車，被罰 了1000元"
   ]
  },
  {
   "cell_type": "code",
   "execution_count": 2,
   "id": "2b3e0856",
   "metadata": {},
   "outputs": [],
   "source": [
    "#建檔\n",
    "person1 = {\"name\" : \"阿程\",\n",
    "           \"age\" : 40,\n",
    "           \"law\" : {\"第16條\":\"裝置高音量喇叭或其他產生噪音器物\",\n",
    "                    \"第17條\":\"汽車不依限期參加定期檢驗或臨時檢驗\",\n",
    "                    \"第62條\":\"汽車駕駛人駕駛汽車肇事\",\n",
    "                    \"第21條\":\"未領有駕駛執照駕駛小型車或機車\"},\n",
    "           \"money\" : {\"第16條\":1600,\n",
    "                      \"第17條\":1500,\n",
    "                      \"第62條\":2500,\n",
    "                      \"第21條\":10500}}\n",
    "person2 = {\"name\" : \"阿力\",\n",
    "           \"age\" : 29,\n",
    "           \"law\" : {\"第12條\":\"汽車使用吊銷、註銷之牌照\"},\n",
    "           \"money\" : {\"第12條\":5000}}\n",
    "person3 = {\"name\" : \"阿瑤\",\n",
    "           \"age\" : 58,\n",
    "           \"law\" : {\"第82條\":\"未經許可在道路擺設攤位\",\n",
    "                    \"第56條\":\"在禁止臨時停車處所停車\"},\n",
    "           \"money\" : {\"第82條\":2000,\n",
    "                      \"第56條\":1000}}\n",
    "person = [person1[\"name\"],person2[\"name\"],person3[\"name\"]]"
   ]
  },
  {
   "cell_type": "code",
   "execution_count": 3,
   "id": "297462ec",
   "metadata": {},
   "outputs": [
    {
     "name": "stdout",
     "output_type": "stream",
     "text": [
      "['阿程', '阿力', '阿瑤']\n"
     ]
    }
   ],
   "source": [
    "print(person)"
   ]
  },
  {
   "cell_type": "code",
   "execution_count": null,
   "id": "e8f8b346",
   "metadata": {},
   "outputs": [],
   "source": [
    "sub = input(\"請輸入人名/(阿程、阿力、阿瑤)/？\")\n",
    "print(sub)"
   ]
  },
  {
   "cell_type": "code",
   "execution_count": 14,
   "id": "56f7dd26",
   "metadata": {},
   "outputs": [
    {
     "name": "stdout",
     "output_type": "stream",
     "text": [
      "err\n",
      "err\n",
      "err\n"
     ]
    }
   ],
   "source": [
    "for i in person:\n",
    "    if sub == person1[\"name\"]:\n",
    "        print(person1)\n",
    "    elif sub == person2[\"name\"]:\n",
    "        print(person2)\n",
    "    elif sub == person3[\"name\"]:\n",
    "        print(person3)\n",
    "    else:\n",
    "        print(\"err\")"
   ]
  },
  {
   "cell_type": "code",
   "execution_count": null,
   "id": "d9c5fee9",
   "metadata": {},
   "outputs": [],
   "source": []
  }
 ],
 "metadata": {
  "kernelspec": {
   "display_name": "Python 3 (ipykernel)",
   "language": "python",
   "name": "python3"
  },
  "language_info": {
   "codemirror_mode": {
    "name": "ipython",
    "version": 3
   },
   "file_extension": ".py",
   "mimetype": "text/x-python",
   "name": "python",
   "nbconvert_exporter": "python",
   "pygments_lexer": "ipython3",
   "version": "3.9.12"
  }
 },
 "nbformat": 4,
 "nbformat_minor": 5
}
