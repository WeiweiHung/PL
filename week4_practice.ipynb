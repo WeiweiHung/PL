{
 "cells": [
  {
   "cell_type": "code",
   "execution_count": 38,
   "id": "b7c40eb6",
   "metadata": {},
   "outputs": [],
   "source": [
    "## 界定、輸入、執行分開比較好除錯\n",
    "d = {\"學號\" : [\"40909026E\",\"40826013L\",\"40707218E\",\"40830043A\",\"40957004O\"],\n",
    "     \"分發寢室\" : [\"5111\",\"5112\",\"5113\",\"5116\",\"5118\"]}"
   ]
  },
  {
   "cell_type": "code",
   "execution_count": 39,
   "id": "0a647854",
   "metadata": {},
   "outputs": [
    {
     "name": "stdout",
     "output_type": "stream",
     "text": [
      "輸入學號40707218E\n"
     ]
    }
   ],
   "source": [
    "s = input(\"輸入學號\")"
   ]
  },
  {
   "cell_type": "code",
   "execution_count": 40,
   "id": "16ab061a",
   "metadata": {},
   "outputs": [
    {
     "name": "stdout",
     "output_type": "stream",
     "text": [
      "5113\n"
     ]
    }
   ],
   "source": [
    "n = 0\n",
    "for i in d[\"學號\"]:    \n",
    "    #print(i)\n",
    "    if s == i:\n",
    "        print(d[\"分發寢室\"][n])\n",
    "    else:\n",
    "        n = n+1  "
   ]
  }
 ],
 "metadata": {
  "kernelspec": {
   "display_name": "Python 3 (ipykernel)",
   "language": "python",
   "name": "python3"
  },
  "language_info": {
   "codemirror_mode": {
    "name": "ipython",
    "version": 3
   },
   "file_extension": ".py",
   "mimetype": "text/x-python",
   "name": "python",
   "nbconvert_exporter": "python",
   "pygments_lexer": "ipython3",
   "version": "3.9.12"
  }
 },
 "nbformat": 4,
 "nbformat_minor": 5
}
