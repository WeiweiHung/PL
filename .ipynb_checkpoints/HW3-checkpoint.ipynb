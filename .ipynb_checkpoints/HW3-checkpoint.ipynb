{
 "cells": [
  {
   "cell_type": "markdown",
   "metadata": {},
   "source": [
    "[使用的網站](https://minniejplyrics.wordpress.com/)"
   ]
  },
  {
   "cell_type": "code",
   "execution_count": 58,
   "metadata": {},
   "outputs": [
    {
     "ename": "URLError",
     "evalue": "<urlopen error [Errno 11001] getaddrinfo failed>",
     "output_type": "error",
     "traceback": [
      "\u001b[1;31m---------------------------------------------------------------------------\u001b[0m",
      "\u001b[1;31mgaierror\u001b[0m                                  Traceback (most recent call last)",
      "File \u001b[1;32m~\\anaconda3\\lib\\urllib\\request.py:1346\u001b[0m, in \u001b[0;36mAbstractHTTPHandler.do_open\u001b[1;34m(self, http_class, req, **http_conn_args)\u001b[0m\n\u001b[0;32m   1345\u001b[0m \u001b[38;5;28;01mtry\u001b[39;00m:\n\u001b[1;32m-> 1346\u001b[0m     \u001b[43mh\u001b[49m\u001b[38;5;241;43m.\u001b[39;49m\u001b[43mrequest\u001b[49m\u001b[43m(\u001b[49m\u001b[43mreq\u001b[49m\u001b[38;5;241;43m.\u001b[39;49m\u001b[43mget_method\u001b[49m\u001b[43m(\u001b[49m\u001b[43m)\u001b[49m\u001b[43m,\u001b[49m\u001b[43m \u001b[49m\u001b[43mreq\u001b[49m\u001b[38;5;241;43m.\u001b[39;49m\u001b[43mselector\u001b[49m\u001b[43m,\u001b[49m\u001b[43m \u001b[49m\u001b[43mreq\u001b[49m\u001b[38;5;241;43m.\u001b[39;49m\u001b[43mdata\u001b[49m\u001b[43m,\u001b[49m\u001b[43m \u001b[49m\u001b[43mheaders\u001b[49m\u001b[43m,\u001b[49m\n\u001b[0;32m   1347\u001b[0m \u001b[43m              \u001b[49m\u001b[43mencode_chunked\u001b[49m\u001b[38;5;241;43m=\u001b[39;49m\u001b[43mreq\u001b[49m\u001b[38;5;241;43m.\u001b[39;49m\u001b[43mhas_header\u001b[49m\u001b[43m(\u001b[49m\u001b[38;5;124;43m'\u001b[39;49m\u001b[38;5;124;43mTransfer-encoding\u001b[39;49m\u001b[38;5;124;43m'\u001b[39;49m\u001b[43m)\u001b[49m\u001b[43m)\u001b[49m\n\u001b[0;32m   1348\u001b[0m \u001b[38;5;28;01mexcept\u001b[39;00m \u001b[38;5;167;01mOSError\u001b[39;00m \u001b[38;5;28;01mas\u001b[39;00m err: \u001b[38;5;66;03m# timeout error\u001b[39;00m\n",
      "File \u001b[1;32m~\\anaconda3\\lib\\http\\client.py:1285\u001b[0m, in \u001b[0;36mHTTPConnection.request\u001b[1;34m(self, method, url, body, headers, encode_chunked)\u001b[0m\n\u001b[0;32m   1284\u001b[0m \u001b[38;5;124;03m\"\"\"Send a complete request to the server.\"\"\"\u001b[39;00m\n\u001b[1;32m-> 1285\u001b[0m \u001b[38;5;28;43mself\u001b[39;49m\u001b[38;5;241;43m.\u001b[39;49m\u001b[43m_send_request\u001b[49m\u001b[43m(\u001b[49m\u001b[43mmethod\u001b[49m\u001b[43m,\u001b[49m\u001b[43m \u001b[49m\u001b[43murl\u001b[49m\u001b[43m,\u001b[49m\u001b[43m \u001b[49m\u001b[43mbody\u001b[49m\u001b[43m,\u001b[49m\u001b[43m \u001b[49m\u001b[43mheaders\u001b[49m\u001b[43m,\u001b[49m\u001b[43m \u001b[49m\u001b[43mencode_chunked\u001b[49m\u001b[43m)\u001b[49m\n",
      "File \u001b[1;32m~\\anaconda3\\lib\\http\\client.py:1331\u001b[0m, in \u001b[0;36mHTTPConnection._send_request\u001b[1;34m(self, method, url, body, headers, encode_chunked)\u001b[0m\n\u001b[0;32m   1330\u001b[0m     body \u001b[38;5;241m=\u001b[39m _encode(body, \u001b[38;5;124m'\u001b[39m\u001b[38;5;124mbody\u001b[39m\u001b[38;5;124m'\u001b[39m)\n\u001b[1;32m-> 1331\u001b[0m \u001b[38;5;28;43mself\u001b[39;49m\u001b[38;5;241;43m.\u001b[39;49m\u001b[43mendheaders\u001b[49m\u001b[43m(\u001b[49m\u001b[43mbody\u001b[49m\u001b[43m,\u001b[49m\u001b[43m \u001b[49m\u001b[43mencode_chunked\u001b[49m\u001b[38;5;241;43m=\u001b[39;49m\u001b[43mencode_chunked\u001b[49m\u001b[43m)\u001b[49m\n",
      "File \u001b[1;32m~\\anaconda3\\lib\\http\\client.py:1280\u001b[0m, in \u001b[0;36mHTTPConnection.endheaders\u001b[1;34m(self, message_body, encode_chunked)\u001b[0m\n\u001b[0;32m   1279\u001b[0m     \u001b[38;5;28;01mraise\u001b[39;00m CannotSendHeader()\n\u001b[1;32m-> 1280\u001b[0m \u001b[38;5;28;43mself\u001b[39;49m\u001b[38;5;241;43m.\u001b[39;49m\u001b[43m_send_output\u001b[49m\u001b[43m(\u001b[49m\u001b[43mmessage_body\u001b[49m\u001b[43m,\u001b[49m\u001b[43m \u001b[49m\u001b[43mencode_chunked\u001b[49m\u001b[38;5;241;43m=\u001b[39;49m\u001b[43mencode_chunked\u001b[49m\u001b[43m)\u001b[49m\n",
      "File \u001b[1;32m~\\anaconda3\\lib\\http\\client.py:1040\u001b[0m, in \u001b[0;36mHTTPConnection._send_output\u001b[1;34m(self, message_body, encode_chunked)\u001b[0m\n\u001b[0;32m   1039\u001b[0m \u001b[38;5;28;01mdel\u001b[39;00m \u001b[38;5;28mself\u001b[39m\u001b[38;5;241m.\u001b[39m_buffer[:]\n\u001b[1;32m-> 1040\u001b[0m \u001b[38;5;28;43mself\u001b[39;49m\u001b[38;5;241;43m.\u001b[39;49m\u001b[43msend\u001b[49m\u001b[43m(\u001b[49m\u001b[43mmsg\u001b[49m\u001b[43m)\u001b[49m\n\u001b[0;32m   1042\u001b[0m \u001b[38;5;28;01mif\u001b[39;00m message_body \u001b[38;5;129;01mis\u001b[39;00m \u001b[38;5;129;01mnot\u001b[39;00m \u001b[38;5;28;01mNone\u001b[39;00m:\n\u001b[0;32m   1043\u001b[0m \n\u001b[0;32m   1044\u001b[0m     \u001b[38;5;66;03m# create a consistent interface to message_body\u001b[39;00m\n",
      "File \u001b[1;32m~\\anaconda3\\lib\\http\\client.py:980\u001b[0m, in \u001b[0;36mHTTPConnection.send\u001b[1;34m(self, data)\u001b[0m\n\u001b[0;32m    979\u001b[0m \u001b[38;5;28;01mif\u001b[39;00m \u001b[38;5;28mself\u001b[39m\u001b[38;5;241m.\u001b[39mauto_open:\n\u001b[1;32m--> 980\u001b[0m     \u001b[38;5;28;43mself\u001b[39;49m\u001b[38;5;241;43m.\u001b[39;49m\u001b[43mconnect\u001b[49m\u001b[43m(\u001b[49m\u001b[43m)\u001b[49m\n\u001b[0;32m    981\u001b[0m \u001b[38;5;28;01melse\u001b[39;00m:\n",
      "File \u001b[1;32m~\\anaconda3\\lib\\http\\client.py:1447\u001b[0m, in \u001b[0;36mHTTPSConnection.connect\u001b[1;34m(self)\u001b[0m\n\u001b[0;32m   1445\u001b[0m \u001b[38;5;124m\"\u001b[39m\u001b[38;5;124mConnect to a host on a given (SSL) port.\u001b[39m\u001b[38;5;124m\"\u001b[39m\n\u001b[1;32m-> 1447\u001b[0m \u001b[38;5;28;43msuper\u001b[39;49m\u001b[43m(\u001b[49m\u001b[43m)\u001b[49m\u001b[38;5;241;43m.\u001b[39;49m\u001b[43mconnect\u001b[49m\u001b[43m(\u001b[49m\u001b[43m)\u001b[49m\n\u001b[0;32m   1449\u001b[0m \u001b[38;5;28;01mif\u001b[39;00m \u001b[38;5;28mself\u001b[39m\u001b[38;5;241m.\u001b[39m_tunnel_host:\n",
      "File \u001b[1;32m~\\anaconda3\\lib\\http\\client.py:946\u001b[0m, in \u001b[0;36mHTTPConnection.connect\u001b[1;34m(self)\u001b[0m\n\u001b[0;32m    945\u001b[0m \u001b[38;5;124;03m\"\"\"Connect to the host and port specified in __init__.\"\"\"\u001b[39;00m\n\u001b[1;32m--> 946\u001b[0m \u001b[38;5;28mself\u001b[39m\u001b[38;5;241m.\u001b[39msock \u001b[38;5;241m=\u001b[39m \u001b[38;5;28;43mself\u001b[39;49m\u001b[38;5;241;43m.\u001b[39;49m\u001b[43m_create_connection\u001b[49m\u001b[43m(\u001b[49m\n\u001b[0;32m    947\u001b[0m \u001b[43m    \u001b[49m\u001b[43m(\u001b[49m\u001b[38;5;28;43mself\u001b[39;49m\u001b[38;5;241;43m.\u001b[39;49m\u001b[43mhost\u001b[49m\u001b[43m,\u001b[49m\u001b[38;5;28;43mself\u001b[39;49m\u001b[38;5;241;43m.\u001b[39;49m\u001b[43mport\u001b[49m\u001b[43m)\u001b[49m\u001b[43m,\u001b[49m\u001b[43m \u001b[49m\u001b[38;5;28;43mself\u001b[39;49m\u001b[38;5;241;43m.\u001b[39;49m\u001b[43mtimeout\u001b[49m\u001b[43m,\u001b[49m\u001b[43m \u001b[49m\u001b[38;5;28;43mself\u001b[39;49m\u001b[38;5;241;43m.\u001b[39;49m\u001b[43msource_address\u001b[49m\u001b[43m)\u001b[49m\n\u001b[0;32m    948\u001b[0m \u001b[38;5;66;03m# Might fail in OSs that don't implement TCP_NODELAY\u001b[39;00m\n",
      "File \u001b[1;32m~\\anaconda3\\lib\\socket.py:823\u001b[0m, in \u001b[0;36mcreate_connection\u001b[1;34m(address, timeout, source_address)\u001b[0m\n\u001b[0;32m    822\u001b[0m err \u001b[38;5;241m=\u001b[39m \u001b[38;5;28;01mNone\u001b[39;00m\n\u001b[1;32m--> 823\u001b[0m \u001b[38;5;28;01mfor\u001b[39;00m res \u001b[38;5;129;01min\u001b[39;00m \u001b[43mgetaddrinfo\u001b[49m\u001b[43m(\u001b[49m\u001b[43mhost\u001b[49m\u001b[43m,\u001b[49m\u001b[43m \u001b[49m\u001b[43mport\u001b[49m\u001b[43m,\u001b[49m\u001b[43m \u001b[49m\u001b[38;5;241;43m0\u001b[39;49m\u001b[43m,\u001b[49m\u001b[43m \u001b[49m\u001b[43mSOCK_STREAM\u001b[49m\u001b[43m)\u001b[49m:\n\u001b[0;32m    824\u001b[0m     af, socktype, proto, canonname, sa \u001b[38;5;241m=\u001b[39m res\n",
      "File \u001b[1;32m~\\anaconda3\\lib\\socket.py:954\u001b[0m, in \u001b[0;36mgetaddrinfo\u001b[1;34m(host, port, family, type, proto, flags)\u001b[0m\n\u001b[0;32m    953\u001b[0m addrlist \u001b[38;5;241m=\u001b[39m []\n\u001b[1;32m--> 954\u001b[0m \u001b[38;5;28;01mfor\u001b[39;00m res \u001b[38;5;129;01min\u001b[39;00m \u001b[43m_socket\u001b[49m\u001b[38;5;241;43m.\u001b[39;49m\u001b[43mgetaddrinfo\u001b[49m\u001b[43m(\u001b[49m\u001b[43mhost\u001b[49m\u001b[43m,\u001b[49m\u001b[43m \u001b[49m\u001b[43mport\u001b[49m\u001b[43m,\u001b[49m\u001b[43m \u001b[49m\u001b[43mfamily\u001b[49m\u001b[43m,\u001b[49m\u001b[43m \u001b[49m\u001b[38;5;28;43mtype\u001b[39;49m\u001b[43m,\u001b[49m\u001b[43m \u001b[49m\u001b[43mproto\u001b[49m\u001b[43m,\u001b[49m\u001b[43m \u001b[49m\u001b[43mflags\u001b[49m\u001b[43m)\u001b[49m:\n\u001b[0;32m    955\u001b[0m     af, socktype, proto, canonname, sa \u001b[38;5;241m=\u001b[39m res\n",
      "\u001b[1;31mgaierror\u001b[0m: [Errno 11001] getaddrinfo failed",
      "\nDuring handling of the above exception, another exception occurred:\n",
      "\u001b[1;31mURLError\u001b[0m                                  Traceback (most recent call last)",
      "Input \u001b[1;32mIn [58]\u001b[0m, in \u001b[0;36m<cell line: 8>\u001b[1;34m()\u001b[0m\n\u001b[0;32m      6\u001b[0m \u001b[38;5;66;03m#抓取網頁\u001b[39;00m\n\u001b[0;32m      7\u001b[0m url \u001b[38;5;241m=\u001b[39m \u001b[38;5;124m\"\u001b[39m\u001b[38;5;124mhttps://minniejplyrics.wordpress.com/\u001b[39m\u001b[38;5;124m\"\u001b[39m\n\u001b[1;32m----> 8\u001b[0m \u001b[38;5;28;01mwith\u001b[39;00m \u001b[43mreq\u001b[49m\u001b[38;5;241;43m.\u001b[39;49m\u001b[43murlopen\u001b[49m\u001b[43m(\u001b[49m\u001b[43murl\u001b[49m\u001b[43m)\u001b[49m \u001b[38;5;28;01mas\u001b[39;00m response:\n\u001b[0;32m      9\u001b[0m     data \u001b[38;5;241m=\u001b[39m response\u001b[38;5;241m.\u001b[39mread()\u001b[38;5;241m.\u001b[39mdecode(\u001b[38;5;124m\"\u001b[39m\u001b[38;5;124mutf-8\u001b[39m\u001b[38;5;124m\"\u001b[39m)\n",
      "File \u001b[1;32m~\\anaconda3\\lib\\urllib\\request.py:214\u001b[0m, in \u001b[0;36murlopen\u001b[1;34m(url, data, timeout, cafile, capath, cadefault, context)\u001b[0m\n\u001b[0;32m    212\u001b[0m \u001b[38;5;28;01melse\u001b[39;00m:\n\u001b[0;32m    213\u001b[0m     opener \u001b[38;5;241m=\u001b[39m _opener\n\u001b[1;32m--> 214\u001b[0m \u001b[38;5;28;01mreturn\u001b[39;00m \u001b[43mopener\u001b[49m\u001b[38;5;241;43m.\u001b[39;49m\u001b[43mopen\u001b[49m\u001b[43m(\u001b[49m\u001b[43murl\u001b[49m\u001b[43m,\u001b[49m\u001b[43m \u001b[49m\u001b[43mdata\u001b[49m\u001b[43m,\u001b[49m\u001b[43m \u001b[49m\u001b[43mtimeout\u001b[49m\u001b[43m)\u001b[49m\n",
      "File \u001b[1;32m~\\anaconda3\\lib\\urllib\\request.py:517\u001b[0m, in \u001b[0;36mOpenerDirector.open\u001b[1;34m(self, fullurl, data, timeout)\u001b[0m\n\u001b[0;32m    514\u001b[0m     req \u001b[38;5;241m=\u001b[39m meth(req)\n\u001b[0;32m    516\u001b[0m sys\u001b[38;5;241m.\u001b[39maudit(\u001b[38;5;124m'\u001b[39m\u001b[38;5;124murllib.Request\u001b[39m\u001b[38;5;124m'\u001b[39m, req\u001b[38;5;241m.\u001b[39mfull_url, req\u001b[38;5;241m.\u001b[39mdata, req\u001b[38;5;241m.\u001b[39mheaders, req\u001b[38;5;241m.\u001b[39mget_method())\n\u001b[1;32m--> 517\u001b[0m response \u001b[38;5;241m=\u001b[39m \u001b[38;5;28;43mself\u001b[39;49m\u001b[38;5;241;43m.\u001b[39;49m\u001b[43m_open\u001b[49m\u001b[43m(\u001b[49m\u001b[43mreq\u001b[49m\u001b[43m,\u001b[49m\u001b[43m \u001b[49m\u001b[43mdata\u001b[49m\u001b[43m)\u001b[49m\n\u001b[0;32m    519\u001b[0m \u001b[38;5;66;03m# post-process response\u001b[39;00m\n\u001b[0;32m    520\u001b[0m meth_name \u001b[38;5;241m=\u001b[39m protocol\u001b[38;5;241m+\u001b[39m\u001b[38;5;124m\"\u001b[39m\u001b[38;5;124m_response\u001b[39m\u001b[38;5;124m\"\u001b[39m\n",
      "File \u001b[1;32m~\\anaconda3\\lib\\urllib\\request.py:534\u001b[0m, in \u001b[0;36mOpenerDirector._open\u001b[1;34m(self, req, data)\u001b[0m\n\u001b[0;32m    531\u001b[0m     \u001b[38;5;28;01mreturn\u001b[39;00m result\n\u001b[0;32m    533\u001b[0m protocol \u001b[38;5;241m=\u001b[39m req\u001b[38;5;241m.\u001b[39mtype\n\u001b[1;32m--> 534\u001b[0m result \u001b[38;5;241m=\u001b[39m \u001b[38;5;28;43mself\u001b[39;49m\u001b[38;5;241;43m.\u001b[39;49m\u001b[43m_call_chain\u001b[49m\u001b[43m(\u001b[49m\u001b[38;5;28;43mself\u001b[39;49m\u001b[38;5;241;43m.\u001b[39;49m\u001b[43mhandle_open\u001b[49m\u001b[43m,\u001b[49m\u001b[43m \u001b[49m\u001b[43mprotocol\u001b[49m\u001b[43m,\u001b[49m\u001b[43m \u001b[49m\u001b[43mprotocol\u001b[49m\u001b[43m \u001b[49m\u001b[38;5;241;43m+\u001b[39;49m\n\u001b[0;32m    535\u001b[0m \u001b[43m                          \u001b[49m\u001b[38;5;124;43m'\u001b[39;49m\u001b[38;5;124;43m_open\u001b[39;49m\u001b[38;5;124;43m'\u001b[39;49m\u001b[43m,\u001b[49m\u001b[43m \u001b[49m\u001b[43mreq\u001b[49m\u001b[43m)\u001b[49m\n\u001b[0;32m    536\u001b[0m \u001b[38;5;28;01mif\u001b[39;00m result:\n\u001b[0;32m    537\u001b[0m     \u001b[38;5;28;01mreturn\u001b[39;00m result\n",
      "File \u001b[1;32m~\\anaconda3\\lib\\urllib\\request.py:494\u001b[0m, in \u001b[0;36mOpenerDirector._call_chain\u001b[1;34m(self, chain, kind, meth_name, *args)\u001b[0m\n\u001b[0;32m    492\u001b[0m \u001b[38;5;28;01mfor\u001b[39;00m handler \u001b[38;5;129;01min\u001b[39;00m handlers:\n\u001b[0;32m    493\u001b[0m     func \u001b[38;5;241m=\u001b[39m \u001b[38;5;28mgetattr\u001b[39m(handler, meth_name)\n\u001b[1;32m--> 494\u001b[0m     result \u001b[38;5;241m=\u001b[39m \u001b[43mfunc\u001b[49m\u001b[43m(\u001b[49m\u001b[38;5;241;43m*\u001b[39;49m\u001b[43margs\u001b[49m\u001b[43m)\u001b[49m\n\u001b[0;32m    495\u001b[0m     \u001b[38;5;28;01mif\u001b[39;00m result \u001b[38;5;129;01mis\u001b[39;00m \u001b[38;5;129;01mnot\u001b[39;00m \u001b[38;5;28;01mNone\u001b[39;00m:\n\u001b[0;32m    496\u001b[0m         \u001b[38;5;28;01mreturn\u001b[39;00m result\n",
      "File \u001b[1;32m~\\anaconda3\\lib\\urllib\\request.py:1389\u001b[0m, in \u001b[0;36mHTTPSHandler.https_open\u001b[1;34m(self, req)\u001b[0m\n\u001b[0;32m   1388\u001b[0m \u001b[38;5;28;01mdef\u001b[39;00m \u001b[38;5;21mhttps_open\u001b[39m(\u001b[38;5;28mself\u001b[39m, req):\n\u001b[1;32m-> 1389\u001b[0m     \u001b[38;5;28;01mreturn\u001b[39;00m \u001b[38;5;28;43mself\u001b[39;49m\u001b[38;5;241;43m.\u001b[39;49m\u001b[43mdo_open\u001b[49m\u001b[43m(\u001b[49m\u001b[43mhttp\u001b[49m\u001b[38;5;241;43m.\u001b[39;49m\u001b[43mclient\u001b[49m\u001b[38;5;241;43m.\u001b[39;49m\u001b[43mHTTPSConnection\u001b[49m\u001b[43m,\u001b[49m\u001b[43m \u001b[49m\u001b[43mreq\u001b[49m\u001b[43m,\u001b[49m\n\u001b[0;32m   1390\u001b[0m \u001b[43m        \u001b[49m\u001b[43mcontext\u001b[49m\u001b[38;5;241;43m=\u001b[39;49m\u001b[38;5;28;43mself\u001b[39;49m\u001b[38;5;241;43m.\u001b[39;49m\u001b[43m_context\u001b[49m\u001b[43m,\u001b[49m\u001b[43m \u001b[49m\u001b[43mcheck_hostname\u001b[49m\u001b[38;5;241;43m=\u001b[39;49m\u001b[38;5;28;43mself\u001b[39;49m\u001b[38;5;241;43m.\u001b[39;49m\u001b[43m_check_hostname\u001b[49m\u001b[43m)\u001b[49m\n",
      "File \u001b[1;32m~\\anaconda3\\lib\\urllib\\request.py:1349\u001b[0m, in \u001b[0;36mAbstractHTTPHandler.do_open\u001b[1;34m(self, http_class, req, **http_conn_args)\u001b[0m\n\u001b[0;32m   1346\u001b[0m         h\u001b[38;5;241m.\u001b[39mrequest(req\u001b[38;5;241m.\u001b[39mget_method(), req\u001b[38;5;241m.\u001b[39mselector, req\u001b[38;5;241m.\u001b[39mdata, headers,\n\u001b[0;32m   1347\u001b[0m                   encode_chunked\u001b[38;5;241m=\u001b[39mreq\u001b[38;5;241m.\u001b[39mhas_header(\u001b[38;5;124m'\u001b[39m\u001b[38;5;124mTransfer-encoding\u001b[39m\u001b[38;5;124m'\u001b[39m))\n\u001b[0;32m   1348\u001b[0m     \u001b[38;5;28;01mexcept\u001b[39;00m \u001b[38;5;167;01mOSError\u001b[39;00m \u001b[38;5;28;01mas\u001b[39;00m err: \u001b[38;5;66;03m# timeout error\u001b[39;00m\n\u001b[1;32m-> 1349\u001b[0m         \u001b[38;5;28;01mraise\u001b[39;00m URLError(err)\n\u001b[0;32m   1350\u001b[0m     r \u001b[38;5;241m=\u001b[39m h\u001b[38;5;241m.\u001b[39mgetresponse()\n\u001b[0;32m   1351\u001b[0m \u001b[38;5;28;01mexcept\u001b[39;00m:\n",
      "\u001b[1;31mURLError\u001b[0m: <urlopen error [Errno 11001] getaddrinfo failed>"
     ]
    }
   ],
   "source": [
    "import urllib.request as req #導入連線網站的模組\n",
    "import json\n",
    "import csv\n",
    "import pandas as pd\n",
    "import re\n",
    "#抓取網頁\n",
    "url = \"https://minniejplyrics.wordpress.com/\"\n",
    "with req.urlopen(url) as response:\n",
    "    data = response.read().decode(\"utf-8\")\n",
    "#print(data) #(備註:並無出現教學影片中的連線錯誤問題，所以沒再加request headers)"
   ]
  },
  {
   "cell_type": "code",
   "execution_count": 59,
   "metadata": {},
   "outputs": [
    {
     "name": "stdout",
     "output_type": "stream",
     "text": [
      "櫻色落日\n"
     ]
    }
   ],
   "source": [
    "#解析原始碼\n",
    "import bs4\n",
    "home = bs4.BeautifulSoup(data,\"html.parser\") #解析\n",
    "print(home.title.string) #嘗試抓網站名稱"
   ]
  },
  {
   "cell_type": "markdown",
   "metadata": {},
   "source": [
    "# 印出的首頁的歌"
   ]
  },
  {
   "cell_type": "code",
   "execution_count": 60,
   "metadata": {},
   "outputs": [
    {
     "name": "stdout",
     "output_type": "stream",
     "text": [
      "【中文歌詞翻譯】King & Prince「ツキヨミ」\n"
     ]
    }
   ],
   "source": [
    "title_test = home.find(\"h2\",class_=\"entry-title\") #備註:class後有底線。find()找到第一個符合條件的\n",
    "print(title_test.a.string)"
   ]
  },
  {
   "cell_type": "code",
   "execution_count": 61,
   "metadata": {},
   "outputs": [
    {
     "name": "stdout",
     "output_type": "stream",
     "text": [
      "[<h2 class=\"entry-title\"><a href=\"https://minniejplyrics.wordpress.com/2022/10/29/%e3%80%90%e4%b8%ad%e6%96%87%e6%ad%8c%e8%a9%9e%e7%bf%bb%e8%ad%af%e3%80%91king-prince%e3%80%8c%e3%83%84%e3%82%ad%e3%83%a8%e3%83%9f%e3%80%8d/\" rel=\"bookmark\">【中文歌詞翻譯】King &amp; Prince「ツキヨミ」</a></h2>, <h2 class=\"entry-title\"><a href=\"https://minniejplyrics.wordpress.com/2022/10/28/%e3%80%90%e4%b8%ad%e6%96%87%e6%ad%8c%e8%a9%9e%e7%bf%bb%e8%ad%af%e3%80%91%e3%81%aa%e3%81%ab%e3%82%8f%e7%94%b7%e5%ad%90%e3%80%8c%e3%83%8f%e3%83%83%e3%83%94%e3%83%bc%e3%82%b5%e3%83%97%e3%83%a9%e3%82%a4/\" rel=\"bookmark\">【中文歌詞翻譯】なにわ男子「ハッピーサプライズ」</a></h2>, <h2 class=\"entry-title\"><a href=\"https://minniejplyrics.wordpress.com/2022/09/02/%e3%80%90%e4%b8%ad%e6%96%87%e6%ad%8c%e8%a9%9e%e7%bf%bb%e8%ad%af%e3%80%91snow-man%e3%80%8c%e3%83%9c%e3%82%af%e3%81%a8%e3%82%ad%e3%83%9f%e3%81%a8%e3%80%8d/\" rel=\"bookmark\">【中文歌詞翻譯】Snow Man「ボクとキミと」</a></h2>, <h2 class=\"entry-title\"><a href=\"https://minniejplyrics.wordpress.com/2022/08/26/%e3%80%90%e4%b8%ad%e6%96%87%e6%ad%8c%e8%a9%9e%e7%bf%bb%e8%ad%af%e3%80%91hey-say-jump%e3%80%8cfate-or-destiny%e3%80%8d/\" rel=\"bookmark\">【中文歌詞翻譯】Hey! Say! JUMP「Fate or Destiny」</a></h2>, <h2 class=\"entry-title\"><a href=\"https://minniejplyrics.wordpress.com/2022/08/18/%e3%80%90%e4%b8%ad%e6%96%87%e6%ad%8c%e8%a9%9e%e7%bf%bb%e8%ad%af%e3%80%91king-prince%e3%80%8ctracetrace%e3%80%8d/\" rel=\"bookmark\">【中文歌詞翻譯】King &amp; Prince「TraceTrace」</a></h2>, <h2 class=\"entry-title\"><a href=\"https://minniejplyrics.wordpress.com/2022/07/30/%e3%80%90%e4%b8%ad%e6%96%87%e6%ad%8c%e8%a9%9e%e7%bf%bb%e8%ad%af%e3%80%91%e3%81%aa%e3%81%ab%e3%82%8f%e7%94%b7%e5%ad%90%e3%80%8cemerald%e3%80%8d/\" rel=\"bookmark\">【中文歌詞翻譯】なにわ男子「Emerald」</a></h2>, <h2 class=\"entry-title\"><a href=\"https://minniejplyrics.wordpress.com/2022/07/28/%e3%80%90%e4%b8%ad%e6%96%87%e6%ad%8c%e8%a9%9e%e7%bf%bb%e8%ad%af%e3%80%91snow-man%e3%80%8c%e5%83%95%e3%81%ab%e5%a4%a7%e5%88%87%e3%81%ab%e3%81%95%e3%82%8c%e3%81%a6%e3%81%ad%e3%80%82%e3%80%8d/\" rel=\"bookmark\">【中文歌詞翻譯】Snow Man「僕に大切にされてね。」</a></h2>, <h2 class=\"entry-title\"><a href=\"https://minniejplyrics.wordpress.com/2022/07/13/%e3%80%90%e4%b8%ad%e6%96%87%e6%ad%8c%e8%a9%9e%e7%bf%bb%e8%ad%af%e3%80%91king-prince%e3%80%8cdream-in%e3%80%8d/\" rel=\"bookmark\">【中文歌詞翻譯】King &amp; Prince「Dream in」</a></h2>, <h2 class=\"entry-title\"><a href=\"https://minniejplyrics.wordpress.com/2022/07/10/%e3%80%90%e4%b8%ad%e6%96%87%e6%ad%8c%e8%a9%9e%e7%bf%bb%e8%ad%af%e3%80%91%e3%82%b8%e3%83%a3%e3%83%8b%e3%83%bc%e3%82%bawest%e3%80%8c%e6%98%9f%e3%81%ae%e9%9b%a8%e3%80%8d/\" rel=\"bookmark\">【中文歌詞翻譯】ジャニーズWEST「星の雨」</a></h2>, <h2 class=\"entry-title\"><a href=\"https://minniejplyrics.wordpress.com/2022/07/06/%e3%80%90%e4%b8%ad%e6%96%87%e6%ad%8c%e8%a9%9e%e7%bf%bb%e8%ad%af%e3%80%91%e3%81%aa%e3%81%ab%e3%82%8f%e7%94%b7%e5%ad%90%e3%80%8ctimeless-love%e3%80%8d/\" rel=\"bookmark\">【中文歌詞翻譯】なにわ男子「Timeless Love」</a></h2>]\n"
     ]
    }
   ],
   "source": [
    "titles = home.find_all(\"h2\",class_=\"entry-title\") #找到第一頁所有歌\n",
    "print(titles)"
   ]
  },
  {
   "cell_type": "code",
   "execution_count": 62,
   "metadata": {},
   "outputs": [
    {
     "name": "stdout",
     "output_type": "stream",
     "text": [
      "【中文歌詞翻譯】King & Prince「ツキヨミ」\n",
      "【中文歌詞翻譯】なにわ男子「ハッピーサプライズ」\n",
      "【中文歌詞翻譯】Snow Man「ボクとキミと」\n",
      "【中文歌詞翻譯】Hey! Say! JUMP「Fate or Destiny」\n",
      "【中文歌詞翻譯】King & Prince「TraceTrace」\n",
      "【中文歌詞翻譯】なにわ男子「Emerald」\n",
      "【中文歌詞翻譯】Snow Man「僕に大切にされてね。」\n",
      "【中文歌詞翻譯】King & Prince「Dream in」\n",
      "【中文歌詞翻譯】ジャニーズWEST「星の雨」\n",
      "【中文歌詞翻譯】なにわ男子「Timeless Love」\n"
     ]
    },
    {
     "data": {
      "text/plain": [
       "['【中文歌詞翻譯】King & Prince「ツキヨミ」',\n",
       " '【中文歌詞翻譯】なにわ男子「ハッピーサプライズ」',\n",
       " '【中文歌詞翻譯】Snow Man「ボクとキミと」',\n",
       " '【中文歌詞翻譯】Hey! Say! JUMP「Fate or\\xa0Destiny」',\n",
       " '【中文歌詞翻譯】King & Prince「TraceTrace」',\n",
       " '【中文歌詞翻譯】なにわ男子「Emerald」',\n",
       " '【中文歌詞翻譯】Snow Man「僕に大切にされてね。」',\n",
       " '【中文歌詞翻譯】King & Prince「Dream\\xa0in」',\n",
       " '【中文歌詞翻譯】ジャニーズWEST「星の雨」',\n",
       " '【中文歌詞翻譯】なにわ男子「Timeless Love」']"
      ]
     },
     "execution_count": 62,
     "metadata": {},
     "output_type": "execute_result"
    }
   ],
   "source": [
    "songs = []\n",
    "for title in titles:\n",
    "    print(title.a.string) #第一頁所有歌印出\n",
    "    songs.append(title.a.string)\n",
    "songs"
   ]
  },
  {
   "cell_type": "code",
   "execution_count": 63,
   "metadata": {},
   "outputs": [
    {
     "name": "stdout",
     "output_type": "stream",
     "text": [
      "['「ツキヨミ」']\n",
      "['「ハッピーサプライズ」']\n",
      "['「ボクとキミと」']\n",
      "['「Fate or\\xa0Destiny」']\n",
      "['「TraceTrace」']\n",
      "['「Emerald」']\n",
      "['「僕に大切にされてね。」']\n",
      "['「Dream\\xa0in」']\n",
      "['「星の雨」']\n",
      "['「Timeless Love」']\n"
     ]
    }
   ],
   "source": [
    "songs = []\n",
    "for title in titles:\n",
    "    #print(title.a.string) #第一頁所有歌名印出\n",
    "    song = re.findall(\"「[^\\x00-\\xff]+」|「[a-zA-Z .\\xa0]+」|「[^\\x00-\\xff]+[a-zA-Z .]+」\",title.a.string)#正則化\n",
    "    print(song)"
   ]
  },
  {
   "cell_type": "markdown",
   "metadata": {},
   "source": [
    "# 嘗試依團體翻頁找歌"
   ]
  },
  {
   "cell_type": "code",
   "execution_count": 64,
   "metadata": {},
   "outputs": [
    {
     "data": {
      "text/plain": [
       "['なにわ男子',\n",
       " 'ジャニーズWEST',\n",
       " 'Hey! Say! JUMP',\n",
       " 'King & Prince',\n",
       " 'SEVENTEEN',\n",
       " 'Snow Man']"
      ]
     },
     "execution_count": 64,
     "metadata": {},
     "output_type": "execute_result"
    }
   ],
   "source": [
    "#嘗試翻頁，從文章分類下的團體下手\n",
    "groups_list = [\"cat-item cat-item-651000862\",\"cat-item cat-item-212885610\",\"cat-item cat-item-1863887\",\"cat-item cat-item-53466192\",\"cat-item cat-item-92515\",\"cat-item cat-item-2597269\"]\n",
    "groups = []\n",
    "for group in groups_list:\n",
    "    groups.append(home.find(\"li\",class_= group).a.string)\n",
    "#groups = root.find_all(\"li\",class_= \"cat-item cat-item-651000862\")\n",
    "groups"
   ]
  },
  {
   "cell_type": "markdown",
   "metadata": {},
   "source": [
    "## 翻頁進每個團體"
   ]
  },
  {
   "cell_type": "code",
   "execution_count": 65,
   "metadata": {},
   "outputs": [
    {
     "name": "stdout",
     "output_type": "stream",
     "text": [
      "輸入團體名稱(なにわ男子、ジャニーズWEST、Hey! Say! JUMP、King & Prince、SEVENTEEN、Snow Man)SEVENTEEN\n"
     ]
    }
   ],
   "source": [
    "group = input(\"輸入團體名稱(なにわ男子、ジャニーズWEST、Hey! Say! JUMP、King & Prince、SEVENTEEN、Snow Man)\")#輸入"
   ]
  },
  {
   "cell_type": "code",
   "execution_count": 66,
   "metadata": {},
   "outputs": [
    {
     "name": "stdout",
     "output_type": "stream",
     "text": [
      "SEVENTEEN\n",
      "cat-item cat-item-92515\n"
     ]
    }
   ],
   "source": [
    "#將輸入團體對照相應代碼\n",
    "n = 0\n",
    "for i in groups:\n",
    "    if i == group:\n",
    "        print(group)#group name test\n",
    "        print(groups_list[n])#group code test\n",
    "        groupcode = groups_list[n]\n",
    "    n = n + 1"
   ]
  },
  {
   "cell_type": "code",
   "execution_count": 67,
   "metadata": {},
   "outputs": [],
   "source": [
    "#依團體更新網址\n",
    "url = home.find(\"li\",class_= groupcode).a[\"href\"]#find new url and updata\n",
    "with req.urlopen(url) as response:\n",
    "    data = response.read().decode(\"utf-8\")\n",
    "#print(data)"
   ]
  },
  {
   "cell_type": "code",
   "execution_count": 68,
   "metadata": {},
   "outputs": [
    {
     "name": "stdout",
     "output_type": "stream",
     "text": [
      "SEVENTEEN – 櫻色落日\n"
     ]
    }
   ],
   "source": [
    "#解析原始碼\n",
    "import bs4\n",
    "grouplink = bs4.BeautifulSoup(data,\"html.parser\") #解析\n",
    "print(grouplink.title.string) #嘗試抓網站名稱\n"
   ]
  },
  {
   "cell_type": "markdown",
   "metadata": {},
   "source": [
    "## 找出團體的歌"
   ]
  },
  {
   "cell_type": "code",
   "execution_count": 71,
   "metadata": {},
   "outputs": [
    {
     "name": "stdout",
     "output_type": "stream",
     "text": [
      "[['「あいのちから」']]\n",
      "[<h2 class=\"entry-title\"><a href=\"https://minniejplyrics.wordpress.com/2022/02/04/%e3%80%90%e4%b8%ad%e6%96%87%e6%ad%8c%e8%a9%9e%e7%bf%bb%e8%ad%af%e3%80%91seventeen%e3%80%8c%e3%81%82%e3%81%84%e3%81%ae%e3%81%a1%e3%81%8b%e3%82%89%e3%80%8d/\" rel=\"bookmark\">【中文歌詞翻譯】SEVENTEEN「あいのちから」</a></h2>]\n",
      "['https://minniejplyrics.wordpress.com/2022/02/04/%e3%80%90%e4%b8%ad%e6%96%87%e6%ad%8c%e8%a9%9e%e7%bf%bb%e8%ad%af%e3%80%91seventeen%e3%80%8c%e3%81%82%e3%81%84%e3%81%ae%e3%81%a1%e3%81%8b%e3%82%89%e3%80%8d/']\n"
     ]
    }
   ],
   "source": [
    "songs = []\n",
    "songs_link = []\n",
    "songs_list = grouplink.find_all(\"h2\",class_=\"entry-title\")\n",
    "for song in songs_list:\n",
    "    songs.append(re.findall(\"「[^\\x00-\\xff]+」|「[a-zA-Z .\\xa0]+」|「[^\\x00-\\xff]+[a-zA-Z .]+」\",song.a.string))\n",
    "    songs_link.append(song.a[\"href\"])\n",
    "print(songs)\n",
    "print(songs_list)\n",
    "print(songs_link )\n",
    "\n"
   ]
  },
  {
   "cell_type": "code",
   "execution_count": 73,
   "metadata": {},
   "outputs": [
    {
     "name": "stdout",
     "output_type": "stream",
     "text": [
      "輸入歌名あいのちから\n"
     ]
    }
   ],
   "source": [
    "song =\"「\" + input(\"輸入歌名\") + \"」\"\n"
   ]
  },
  {
   "cell_type": "code",
   "execution_count": 74,
   "metadata": {},
   "outputs": [
    {
     "ename": "NameError",
     "evalue": "name 'songlink' is not defined",
     "output_type": "error",
     "traceback": [
      "\u001b[1;31m---------------------------------------------------------------------------\u001b[0m",
      "\u001b[1;31mNameError\u001b[0m                                 Traceback (most recent call last)",
      "Input \u001b[1;32mIn [74]\u001b[0m, in \u001b[0;36m<cell line: 6>\u001b[1;34m()\u001b[0m\n\u001b[0;32m      4\u001b[0m         songlink \u001b[38;5;241m=\u001b[39m songs_link[s]\n\u001b[0;32m      5\u001b[0m     s \u001b[38;5;241m=\u001b[39m s \u001b[38;5;241m+\u001b[39m \u001b[38;5;241m1\u001b[39m\n\u001b[1;32m----> 6\u001b[0m \u001b[38;5;28mprint\u001b[39m(\u001b[43msonglink\u001b[49m)\n",
      "\u001b[1;31mNameError\u001b[0m: name 'songlink' is not defined"
     ]
    }
   ],
   "source": [
    "\n",
    "s = 0\n",
    "for i in songs:\n",
    "    if i == song:\n",
    "        songlink = songs_link[s]\n",
    "    s = s + 1\n",
    "print(songlink)"
   ]
  },
  {
   "cell_type": "code",
   "execution_count": 75,
   "metadata": {},
   "outputs": [
    {
     "ename": "NameError",
     "evalue": "name 'songlink' is not defined",
     "output_type": "error",
     "traceback": [
      "\u001b[1;31m---------------------------------------------------------------------------\u001b[0m",
      "\u001b[1;31mNameError\u001b[0m                                 Traceback (most recent call last)",
      "Input \u001b[1;32mIn [75]\u001b[0m, in \u001b[0;36m<cell line: 1>\u001b[1;34m()\u001b[0m\n\u001b[1;32m----> 1\u001b[0m url \u001b[38;5;241m=\u001b[39m \u001b[43msonglink\u001b[49m\u001b[38;5;66;03m#find new url and updata\u001b[39;00m\n\u001b[0;32m      2\u001b[0m \u001b[38;5;28;01mwith\u001b[39;00m req\u001b[38;5;241m.\u001b[39murlopen(url) \u001b[38;5;28;01mas\u001b[39;00m response:\n\u001b[0;32m      3\u001b[0m     data \u001b[38;5;241m=\u001b[39m response\u001b[38;5;241m.\u001b[39mread()\u001b[38;5;241m.\u001b[39mdecode(\u001b[38;5;124m\"\u001b[39m\u001b[38;5;124mutf-8\u001b[39m\u001b[38;5;124m\"\u001b[39m)\n",
      "\u001b[1;31mNameError\u001b[0m: name 'songlink' is not defined"
     ]
    }
   ],
   "source": [
    "url = songlink#find new url and updata\n",
    "with req.urlopen(url) as response:\n",
    "    data = response.read().decode(\"utf-8\")\n",
    "#print(data)"
   ]
  },
  {
   "cell_type": "code",
   "execution_count": 76,
   "metadata": {},
   "outputs": [
    {
     "name": "stdout",
     "output_type": "stream",
     "text": [
      "SEVENTEEN – 櫻色落日\n"
     ]
    }
   ],
   "source": [
    "#解析原始碼\n",
    "import bs4\n",
    "lyriclink = bs4.BeautifulSoup(data,\"html.parser\") #解析\n",
    "print(lyriclink.title.string) #嘗試抓網站名稱"
   ]
  },
  {
   "cell_type": "markdown",
   "metadata": {},
   "source": [
    "### 歌詞"
   ]
  },
  {
   "cell_type": "code",
   "execution_count": 77,
   "metadata": {},
   "outputs": [
    {
     "data": {
      "text/plain": [
       "[]"
      ]
     },
     "execution_count": 77,
     "metadata": {},
     "output_type": "execute_result"
    }
   ],
   "source": [
    "lyric = lyriclink.find(\"div\", class_=\"entry-content\").find_all(\"strong\")\n",
    "lyric \n",
    "#疑問:怎麼去掉<strong>，只取出歌詞\n",
    "#lyric.strong.string\n",
    "#re.findall(\"[^\\x00-\\xff ]+\",lyrics)\n",
    "#|<strong>[^\\x00-\\xff …]+[a-zA-Z ]+|<strong>[a-zA-Z -]+"
   ]
  },
  {
   "cell_type": "code",
   "execution_count": 78,
   "metadata": {},
   "outputs": [
    {
     "data": {
      "text/plain": [
       "bs4.element.ResultSet"
      ]
     },
     "execution_count": 78,
     "metadata": {},
     "output_type": "execute_result"
    }
   ],
   "source": [
    "type(lyric)"
   ]
  },
  {
   "cell_type": "markdown",
   "metadata": {},
   "source": [
    "# 整理資料"
   ]
  },
  {
   "cell_type": "code",
   "execution_count": 79,
   "metadata": {},
   "outputs": [],
   "source": [
    "groups_dict = {}\n",
    "url = \"https://minniejplyrics.wordpress.com/\"#back home page\n",
    "with req.urlopen(url) as response:\n",
    "    data = response.read().decode(\"utf-8\")\n",
    "home = bs4.BeautifulSoup(data,\"html.parser\") #解析"
   ]
  },
  {
   "cell_type": "code",
   "execution_count": 80,
   "metadata": {},
   "outputs": [
    {
     "data": {
      "text/plain": [
       "['なにわ男子',\n",
       " 'ジャニーズWEST',\n",
       " 'Hey! Say! JUMP',\n",
       " 'King & Prince',\n",
       " 'SEVENTEEN',\n",
       " 'Snow Man']"
      ]
     },
     "execution_count": 80,
     "metadata": {},
     "output_type": "execute_result"
    }
   ],
   "source": [
    "#列出所有團體(等等要把牠們變KEY)\n",
    "groups_code = [\"cat-item cat-item-651000862\",\"cat-item cat-item-212885610\",\"cat-item cat-item-1863887\",\"cat-item cat-item-53466192\",\"cat-item cat-item-92515\",\"cat-item cat-item-2597269\"]\n",
    "groups_list = []\n",
    "for group in groups_code:\n",
    "    groups_list.append(home.find(\"li\",class_= group).a.string)\n",
    "groups_list"
   ]
  },
  {
   "cell_type": "code",
   "execution_count": 83,
   "metadata": {},
   "outputs": [
    {
     "data": {
      "text/plain": [
       "{'なにわ男子': [['「ハッピーサプライズ」'],\n",
       "  ['「Emerald」'],\n",
       "  ['「Timeless Love」'],\n",
       "  ['「シンシア」'],\n",
       "  ['「サチアレ」'],\n",
       "  ['「The Answer」'],\n",
       "  ['「Soda Pop Love」'],\n",
       "  ['「僕空～足跡のない未来～」'],\n",
       "  ['「夢わたし」'],\n",
       "  ['「ダイヤモンドスマイル」']],\n",
       " 'ジャニーズWEST': [['「星の雨」'], ['「黎明」'], ['「証拠」']],\n",
       " 'Hey! Say! JUMP': [['「Fate or\\xa0Destiny」'], ['「春玄鳥」'], ['「恋をするんだ」']],\n",
       " 'King & Prince': [['「ツキヨミ」'],\n",
       "  ['「TraceTrace」'],\n",
       "  ['「Dream\\xa0in」'],\n",
       "  ['「ichiban」'],\n",
       "  ['「踊るように人生を。」'],\n",
       "  [],\n",
       "  ['「恋降る月夜に君想ふ」'],\n",
       "  []],\n",
       " 'SEVENTEEN': [['「あいのちから」']],\n",
       " 'Snow Man': [['「ボクとキミと」'],\n",
       "  ['「僕に大切にされてね。」'],\n",
       "  ['「オレンジkiss」'],\n",
       "  ['「ブラザービート」'],\n",
       "  ['「D.D.」'],\n",
       "  ['「Christmas wishes」'],\n",
       "  ['「HELLO HELLO」'],\n",
       "  ['「Secret Touch」']]}"
      ]
     },
     "execution_count": 83,
     "metadata": {},
     "output_type": "execute_result"
    }
   ],
   "source": [
    "r = 0 #groupcode counter\n",
    "for g in groups_list:\n",
    "    url = home.find(\"li\",class_= groups_code[r]).a[\"href\"]#find new url and updata\n",
    "    #print(url)\n",
    "    with req.urlopen(url) as response:\n",
    "        data = response.read().decode(\"utf-8\")\n",
    "    group_link = bs4.BeautifulSoup(data,\"html.parser\") #解析\n",
    "    songslist = group_link.find_all(\"h2\",class_=\"entry-title\")#找出歌\n",
    "    #print(songslist)\n",
    "    songs = []\n",
    "    for song in songslist:\n",
    "        songs.append(re.findall(\"「[^\\x00-\\xff]+」|「[a-zA-Z .\\xa0]+」|「[^\\x00-\\xff]+[a-zA-Z .]+」\",song.a.string))\n",
    "    groups_dict[g] = songs\n",
    "    r = r + 1#換團體\n",
    "groups_dict"
   ]
  },
  {
   "cell_type": "markdown",
   "metadata": {},
   "source": [
    "## 轉檔"
   ]
  },
  {
   "cell_type": "markdown",
   "metadata": {},
   "source": [
    "### json"
   ]
  },
  {
   "cell_type": "code",
   "execution_count": 84,
   "metadata": {},
   "outputs": [],
   "source": [
    "with open('Data.json', 'w', encoding='utf-8') as file:\n",
    "    json.dump(groups_dict, file, ensure_ascii=False)"
   ]
  },
  {
   "cell_type": "markdown",
   "metadata": {},
   "source": [
    "### csv"
   ]
  },
  {
   "cell_type": "code",
   "execution_count": 86,
   "metadata": {},
   "outputs": [],
   "source": [
    "(pd.DataFrame.from_dict(data=groups_dict, orient='index')\n",
    "   .to_csv('Data.csv', header=1))"
   ]
  },
  {
   "cell_type": "code",
   "execution_count": null,
   "metadata": {},
   "outputs": [],
   "source": []
  }
 ],
 "metadata": {
  "kernelspec": {
   "display_name": "Python 3 (ipykernel)",
   "language": "python",
   "name": "python3"
  },
  "language_info": {
   "codemirror_mode": {
    "name": "ipython",
    "version": 3
   },
   "file_extension": ".py",
   "mimetype": "text/x-python",
   "name": "python",
   "nbconvert_exporter": "python",
   "pygments_lexer": "ipython3",
   "version": "3.9.12"
  },
  "vscode": {
   "interpreter": {
    "hash": "369f2c481f4da34e4445cda3fffd2e751bd1c4d706f27375911949ba6bb62e1c"
   }
  }
 },
 "nbformat": 4,
 "nbformat_minor": 2
}
