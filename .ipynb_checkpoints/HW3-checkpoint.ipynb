{
 "cells": [
  {
   "cell_type": "markdown",
   "metadata": {},
   "source": [
    "[使用的網站](https://minniejplyrics.wordpress.com/)"
   ]
  },
  {
   "cell_type": "code",
   "execution_count": 4,
   "metadata": {},
   "outputs": [],
   "source": [
    "import urllib.request as req #導入連線網站的模組\n",
    "import json\n",
    "import csv\n",
    "import pandas as pd\n",
    "import re\n",
    "#抓取網頁\n",
    "url = \"https://minniejplyrics.wordpress.com/\"\n",
    "with req.urlopen(url) as response:\n",
    "    data = response.read().decode(\"utf-8\")\n",
    "#print(data) #(備註:並無出現教學影片中的連線錯誤問題，所以沒再加request headers)"
   ]
  },
  {
   "cell_type": "code",
   "execution_count": 5,
   "metadata": {},
   "outputs": [
    {
     "name": "stdout",
     "output_type": "stream",
     "text": [
      "櫻色落日\n"
     ]
    }
   ],
   "source": [
    "#解析原始碼\n",
    "import bs4\n",
    "home = bs4.BeautifulSoup(data,\"html.parser\") #解析\n",
    "print(home.title.string) #嘗試抓網站名稱"
   ]
  },
  {
   "cell_type": "markdown",
   "metadata": {},
   "source": [
    "# 印出的首頁的歌"
   ]
  },
  {
   "cell_type": "code",
   "execution_count": 6,
   "metadata": {},
   "outputs": [
    {
     "name": "stdout",
     "output_type": "stream",
     "text": [
      "【中文歌詞翻譯】King & Prince「ツキヨミ」\n"
     ]
    }
   ],
   "source": [
    "title_test = home.find(\"h2\",class_=\"entry-title\") #備註:class後有底線。find()找到第一個符合條件的\n",
    "print(title_test.a.string)"
   ]
  },
  {
   "cell_type": "code",
   "execution_count": 7,
   "metadata": {},
   "outputs": [
    {
     "name": "stdout",
     "output_type": "stream",
     "text": [
      "[<h2 class=\"entry-title\"><a href=\"https://minniejplyrics.wordpress.com/2022/10/29/%e3%80%90%e4%b8%ad%e6%96%87%e6%ad%8c%e8%a9%9e%e7%bf%bb%e8%ad%af%e3%80%91king-prince%e3%80%8c%e3%83%84%e3%82%ad%e3%83%a8%e3%83%9f%e3%80%8d/\" rel=\"bookmark\">【中文歌詞翻譯】King &amp; Prince「ツキヨミ」</a></h2>, <h2 class=\"entry-title\"><a href=\"https://minniejplyrics.wordpress.com/2022/10/28/%e3%80%90%e4%b8%ad%e6%96%87%e6%ad%8c%e8%a9%9e%e7%bf%bb%e8%ad%af%e3%80%91%e3%81%aa%e3%81%ab%e3%82%8f%e7%94%b7%e5%ad%90%e3%80%8c%e3%83%8f%e3%83%83%e3%83%94%e3%83%bc%e3%82%b5%e3%83%97%e3%83%a9%e3%82%a4/\" rel=\"bookmark\">【中文歌詞翻譯】なにわ男子「ハッピーサプライズ」</a></h2>, <h2 class=\"entry-title\"><a href=\"https://minniejplyrics.wordpress.com/2022/09/02/%e3%80%90%e4%b8%ad%e6%96%87%e6%ad%8c%e8%a9%9e%e7%bf%bb%e8%ad%af%e3%80%91snow-man%e3%80%8c%e3%83%9c%e3%82%af%e3%81%a8%e3%82%ad%e3%83%9f%e3%81%a8%e3%80%8d/\" rel=\"bookmark\">【中文歌詞翻譯】Snow Man「ボクとキミと」</a></h2>, <h2 class=\"entry-title\"><a href=\"https://minniejplyrics.wordpress.com/2022/08/26/%e3%80%90%e4%b8%ad%e6%96%87%e6%ad%8c%e8%a9%9e%e7%bf%bb%e8%ad%af%e3%80%91hey-say-jump%e3%80%8cfate-or-destiny%e3%80%8d/\" rel=\"bookmark\">【中文歌詞翻譯】Hey! Say! JUMP「Fate or Destiny」</a></h2>, <h2 class=\"entry-title\"><a href=\"https://minniejplyrics.wordpress.com/2022/08/18/%e3%80%90%e4%b8%ad%e6%96%87%e6%ad%8c%e8%a9%9e%e7%bf%bb%e8%ad%af%e3%80%91king-prince%e3%80%8ctracetrace%e3%80%8d/\" rel=\"bookmark\">【中文歌詞翻譯】King &amp; Prince「TraceTrace」</a></h2>, <h2 class=\"entry-title\"><a href=\"https://minniejplyrics.wordpress.com/2022/07/30/%e3%80%90%e4%b8%ad%e6%96%87%e6%ad%8c%e8%a9%9e%e7%bf%bb%e8%ad%af%e3%80%91%e3%81%aa%e3%81%ab%e3%82%8f%e7%94%b7%e5%ad%90%e3%80%8cemerald%e3%80%8d/\" rel=\"bookmark\">【中文歌詞翻譯】なにわ男子「Emerald」</a></h2>, <h2 class=\"entry-title\"><a href=\"https://minniejplyrics.wordpress.com/2022/07/28/%e3%80%90%e4%b8%ad%e6%96%87%e6%ad%8c%e8%a9%9e%e7%bf%bb%e8%ad%af%e3%80%91snow-man%e3%80%8c%e5%83%95%e3%81%ab%e5%a4%a7%e5%88%87%e3%81%ab%e3%81%95%e3%82%8c%e3%81%a6%e3%81%ad%e3%80%82%e3%80%8d/\" rel=\"bookmark\">【中文歌詞翻譯】Snow Man「僕に大切にされてね。」</a></h2>, <h2 class=\"entry-title\"><a href=\"https://minniejplyrics.wordpress.com/2022/07/13/%e3%80%90%e4%b8%ad%e6%96%87%e6%ad%8c%e8%a9%9e%e7%bf%bb%e8%ad%af%e3%80%91king-prince%e3%80%8cdream-in%e3%80%8d/\" rel=\"bookmark\">【中文歌詞翻譯】King &amp; Prince「Dream in」</a></h2>, <h2 class=\"entry-title\"><a href=\"https://minniejplyrics.wordpress.com/2022/07/10/%e3%80%90%e4%b8%ad%e6%96%87%e6%ad%8c%e8%a9%9e%e7%bf%bb%e8%ad%af%e3%80%91%e3%82%b8%e3%83%a3%e3%83%8b%e3%83%bc%e3%82%bawest%e3%80%8c%e6%98%9f%e3%81%ae%e9%9b%a8%e3%80%8d/\" rel=\"bookmark\">【中文歌詞翻譯】ジャニーズWEST「星の雨」</a></h2>, <h2 class=\"entry-title\"><a href=\"https://minniejplyrics.wordpress.com/2022/07/06/%e3%80%90%e4%b8%ad%e6%96%87%e6%ad%8c%e8%a9%9e%e7%bf%bb%e8%ad%af%e3%80%91%e3%81%aa%e3%81%ab%e3%82%8f%e7%94%b7%e5%ad%90%e3%80%8ctimeless-love%e3%80%8d/\" rel=\"bookmark\">【中文歌詞翻譯】なにわ男子「Timeless Love」</a></h2>]\n"
     ]
    }
   ],
   "source": [
    "titles = home.find_all(\"h2\",class_=\"entry-title\") #找到第一頁所有歌\n",
    "print(titles)"
   ]
  },
  {
   "cell_type": "code",
   "execution_count": null,
   "metadata": {},
   "outputs": [],
   "source": []
  },
  {
   "cell_type": "code",
   "execution_count": 8,
   "metadata": {},
   "outputs": [
    {
     "name": "stdout",
     "output_type": "stream",
     "text": [
      "【中文歌詞翻譯】King & Prince「ツキヨミ」\n",
      "【中文歌詞翻譯】なにわ男子「ハッピーサプライズ」\n",
      "【中文歌詞翻譯】Snow Man「ボクとキミと」\n",
      "【中文歌詞翻譯】Hey! Say! JUMP「Fate or Destiny」\n",
      "【中文歌詞翻譯】King & Prince「TraceTrace」\n",
      "【中文歌詞翻譯】なにわ男子「Emerald」\n",
      "【中文歌詞翻譯】Snow Man「僕に大切にされてね。」\n",
      "【中文歌詞翻譯】King & Prince「Dream in」\n",
      "【中文歌詞翻譯】ジャニーズWEST「星の雨」\n",
      "【中文歌詞翻譯】なにわ男子「Timeless Love」\n"
     ]
    },
    {
     "data": {
      "text/plain": [
       "['【中文歌詞翻譯】King & Prince「ツキヨミ」',\n",
       " '【中文歌詞翻譯】なにわ男子「ハッピーサプライズ」',\n",
       " '【中文歌詞翻譯】Snow Man「ボクとキミと」',\n",
       " '【中文歌詞翻譯】Hey! Say! JUMP「Fate or\\xa0Destiny」',\n",
       " '【中文歌詞翻譯】King & Prince「TraceTrace」',\n",
       " '【中文歌詞翻譯】なにわ男子「Emerald」',\n",
       " '【中文歌詞翻譯】Snow Man「僕に大切にされてね。」',\n",
       " '【中文歌詞翻譯】King & Prince「Dream\\xa0in」',\n",
       " '【中文歌詞翻譯】ジャニーズWEST「星の雨」',\n",
       " '【中文歌詞翻譯】なにわ男子「Timeless Love」']"
      ]
     },
     "execution_count": 8,
     "metadata": {},
     "output_type": "execute_result"
    }
   ],
   "source": [
    "songs = []\n",
    "for title in titles:\n",
    "    print(title.a.string) #第一頁所有歌印出\n",
    "    songs.append(title.a.string)\n",
    "songs\n"
   ]
  },
  {
   "cell_type": "code",
   "execution_count": 9,
   "metadata": {},
   "outputs": [
    {
     "name": "stdout",
     "output_type": "stream",
     "text": [
      "['「ツキヨミ」']\n",
      "['「ハッピーサプライズ」']\n",
      "['「ボクとキミと」']\n",
      "['「Fate or\\xa0Destiny」']\n",
      "['「TraceTrace」']\n",
      "['「Emerald」']\n",
      "['「僕に大切にされてね。」']\n",
      "['「Dream\\xa0in」']\n",
      "['「星の雨」']\n",
      "['「Timeless Love」']\n"
     ]
    }
   ],
   "source": [
    "songs = []\n",
    "for title in titles:\n",
    "    #print(title.a.string) #第一頁所有歌名印出\n",
    "    song = re.findall(\"「[^\\x00-\\xff]+」|「[a-zA-Z .\\xa0]+」|「[^\\x00-\\xff]+[a-zA-Z .]+」\",title.a.string)#正則化\n",
    "    print(song)"
   ]
  },
  {
   "cell_type": "markdown",
   "metadata": {},
   "source": [
    "# 嘗試依團體翻頁找歌"
   ]
  },
  {
   "cell_type": "code",
   "execution_count": 10,
   "metadata": {},
   "outputs": [
    {
     "data": {
      "text/plain": [
       "['なにわ男子',\n",
       " 'ジャニーズWEST',\n",
       " 'Hey! Say! JUMP',\n",
       " 'King & Prince',\n",
       " 'SEVENTEEN',\n",
       " 'Snow Man']"
      ]
     },
     "execution_count": 10,
     "metadata": {},
     "output_type": "execute_result"
    }
   ],
   "source": [
    "#嘗試翻頁，從文章分類下的團體下手\n",
    "groups_list = [\"cat-item cat-item-651000862\",\"cat-item cat-item-212885610\",\"cat-item cat-item-1863887\",\"cat-item cat-item-53466192\",\"cat-item cat-item-92515\",\"cat-item cat-item-2597269\"]\n",
    "groups = []\n",
    "for group in groups_list:\n",
    "    groups.append(home.find(\"li\",class_= group).a.string)\n",
    "#groups = root.find_all(\"li\",class_= \"cat-item cat-item-651000862\")\n",
    "groups"
   ]
  },
  {
   "cell_type": "markdown",
   "metadata": {},
   "source": [
    "## 翻頁進每個團體"
   ]
  },
  {
   "cell_type": "code",
   "execution_count": 11,
   "metadata": {},
   "outputs": [
    {
     "name": "stdout",
     "output_type": "stream",
     "text": [
      "輸入團體名稱(なにわ男子、ジャニーズWEST、Hey! Say! JUMP、King & Prince、SEVENTEEN、Snow Man)なにわ男子\n"
     ]
    }
   ],
   "source": [
    "group = input(\"輸入團體名稱(なにわ男子、ジャニーズWEST、Hey! Say! JUMP、King & Prince、SEVENTEEN、Snow Man)\")#輸入"
   ]
  },
  {
   "cell_type": "code",
   "execution_count": 12,
   "metadata": {},
   "outputs": [
    {
     "name": "stdout",
     "output_type": "stream",
     "text": [
      "なにわ男子\n",
      "cat-item cat-item-651000862\n"
     ]
    }
   ],
   "source": [
    "#將輸入團體對照相應代碼\n",
    "n = 0\n",
    "for i in groups:\n",
    "    if i == group:\n",
    "        print(group)#group name test\n",
    "        print(groups_list[n])#group code test\n",
    "        groupcode = groups_list[n]\n",
    "    n = n + 1"
   ]
  },
  {
   "cell_type": "code",
   "execution_count": 13,
   "metadata": {},
   "outputs": [],
   "source": [
    "#依團體更新網址\n",
    "url = home.find(\"li\",class_= groupcode).a[\"href\"]#find new url and updata\n",
    "with req.urlopen(url) as response:\n",
    "    data = response.read().decode(\"utf-8\")\n",
    "#print(data)"
   ]
  },
  {
   "cell_type": "code",
   "execution_count": 14,
   "metadata": {},
   "outputs": [
    {
     "name": "stdout",
     "output_type": "stream",
     "text": [
      "なにわ男子 – 櫻色落日\n"
     ]
    }
   ],
   "source": [
    "#解析原始碼\n",
    "import bs4\n",
    "grouplink = bs4.BeautifulSoup(data,\"html.parser\") #解析\n",
    "print(grouplink.title.string) #嘗試抓網站名稱\n"
   ]
  },
  {
   "cell_type": "markdown",
   "metadata": {},
   "source": [
    "## 找出團體的歌"
   ]
  },
  {
   "cell_type": "code",
   "execution_count": 15,
   "metadata": {},
   "outputs": [
    {
     "name": "stdout",
     "output_type": "stream",
     "text": [
      "[['「ハッピーサプライズ」'], ['「Emerald」'], ['「Timeless Love」'], ['「シンシア」'], ['「サチアレ」'], ['「The Answer」'], ['「Soda Pop Love」'], ['「僕空～足跡のない未来～」'], ['「夢わたし」'], ['「ダイヤモンドスマイル」']]\n"
     ]
    },
    {
     "data": {
      "text/plain": [
       "[<h2 class=\"entry-title\"><a href=\"https://minniejplyrics.wordpress.com/2022/10/28/%e3%80%90%e4%b8%ad%e6%96%87%e6%ad%8c%e8%a9%9e%e7%bf%bb%e8%ad%af%e3%80%91%e3%81%aa%e3%81%ab%e3%82%8f%e7%94%b7%e5%ad%90%e3%80%8c%e3%83%8f%e3%83%83%e3%83%94%e3%83%bc%e3%82%b5%e3%83%97%e3%83%a9%e3%82%a4/\" rel=\"bookmark\">【中文歌詞翻譯】なにわ男子「ハッピーサプライズ」</a></h2>,\n",
       " <h2 class=\"entry-title\"><a href=\"https://minniejplyrics.wordpress.com/2022/07/30/%e3%80%90%e4%b8%ad%e6%96%87%e6%ad%8c%e8%a9%9e%e7%bf%bb%e8%ad%af%e3%80%91%e3%81%aa%e3%81%ab%e3%82%8f%e7%94%b7%e5%ad%90%e3%80%8cemerald%e3%80%8d/\" rel=\"bookmark\">【中文歌詞翻譯】なにわ男子「Emerald」</a></h2>,\n",
       " <h2 class=\"entry-title\"><a href=\"https://minniejplyrics.wordpress.com/2022/07/06/%e3%80%90%e4%b8%ad%e6%96%87%e6%ad%8c%e8%a9%9e%e7%bf%bb%e8%ad%af%e3%80%91%e3%81%aa%e3%81%ab%e3%82%8f%e7%94%b7%e5%ad%90%e3%80%8ctimeless-love%e3%80%8d/\" rel=\"bookmark\">【中文歌詞翻譯】なにわ男子「Timeless Love」</a></h2>,\n",
       " <h2 class=\"entry-title\"><a href=\"https://minniejplyrics.wordpress.com/2022/07/04/%e3%80%90%e4%b8%ad%e6%96%87%e6%ad%8c%e8%a9%9e%e7%bf%bb%e8%ad%af%e3%80%91%e3%81%aa%e3%81%ab%e3%82%8f%e7%94%b7%e5%ad%90%e3%80%8c%e3%82%b7%e3%83%b3%e3%82%b7%e3%82%a2%e3%80%8d/\" rel=\"bookmark\">【中文歌詞翻譯】なにわ男子「シンシア」</a></h2>,\n",
       " <h2 class=\"entry-title\"><a href=\"https://minniejplyrics.wordpress.com/2022/04/24/%e3%80%90%e4%b8%ad%e6%96%87%e6%ad%8c%e8%a9%9e%e7%bf%bb%e8%ad%af%e3%80%91%e3%81%aa%e3%81%ab%e3%82%8f%e7%94%b7%e5%ad%90%e3%80%8c%e3%82%b5%e3%83%81%e3%82%a2%e3%83%ac%e3%80%8d/\" rel=\"bookmark\">【中文歌詞翻譯】なにわ男子「サチアレ」</a></h2>,\n",
       " <h2 class=\"entry-title\"><a href=\"https://minniejplyrics.wordpress.com/2022/04/23/%e3%80%90%e4%b8%ad%e6%96%87%e6%ad%8c%e8%a9%9e%e7%bf%bb%e8%ad%af%e3%80%91%e3%81%aa%e3%81%ab%e3%82%8f%e7%94%b7%e5%ad%90%e3%80%8cthe-answer%e3%80%8d/\" rel=\"bookmark\">【中文歌詞翻譯】なにわ男子「The Answer」</a></h2>,\n",
       " <h2 class=\"entry-title\"><a href=\"https://minniejplyrics.wordpress.com/2022/02/06/%e3%80%90%e4%b8%ad%e6%96%87%e6%ad%8c%e8%a9%9e%e7%bf%bb%e8%ad%af%e3%80%91%e3%81%aa%e3%81%ab%e3%82%8f%e7%94%b7%e5%ad%90%e3%80%8csoda-pop-love%e3%80%8d/\" rel=\"bookmark\">【中文歌詞翻譯】なにわ男子「Soda Pop Love」</a></h2>,\n",
       " <h2 class=\"entry-title\"><a href=\"https://minniejplyrics.wordpress.com/2022/01/24/%e3%80%90%e4%b8%ad%e6%96%87%e6%ad%8c%e8%a9%9e%e7%bf%bb%e8%ad%af%e3%80%91%e3%81%aa%e3%81%ab%e3%82%8f%e7%94%b7%e5%ad%90%e3%80%8c%e5%83%95%e7%a9%ba%ef%bd%9e%e8%b6%b3%e8%b7%a1%e3%81%ae%e3%81%aa%e3%81%84/\" rel=\"bookmark\">【中文歌詞翻譯】なにわ男子「僕空～足跡のない未来～」</a></h2>,\n",
       " <h2 class=\"entry-title\"><a href=\"https://minniejplyrics.wordpress.com/2022/01/23/%e3%80%90%e4%b8%ad%e6%96%87%e6%ad%8c%e8%a9%9e%e7%bf%bb%e8%ad%af%e3%80%91%e3%81%aa%e3%81%ab%e3%82%8f%e7%94%b7%e5%ad%90%e3%80%8c%e5%a4%a2%e3%82%8f%e3%81%9f%e3%81%97%e3%80%8d/\" rel=\"bookmark\">【中文歌詞翻譯】なにわ男子「夢わたし」</a></h2>,\n",
       " <h2 class=\"entry-title\"><a href=\"https://minniejplyrics.wordpress.com/2021/12/26/%e3%80%90%e4%b8%ad%e6%96%87%e6%ad%8c%e8%a9%9e%e7%bf%bb%e8%ad%af%e3%80%91%e3%81%aa%e3%81%ab%e3%82%8f%e7%94%b7%e5%ad%90%e3%80%8c%e3%83%80%e3%82%a4%e3%83%a4%e3%83%a2%e3%83%b3%e3%83%89%e3%82%b9%e3%83%9e/\" rel=\"bookmark\">【中文歌詞翻譯】なにわ男子「ダイヤモンドスマイル」</a></h2>]"
      ]
     },
     "execution_count": 15,
     "metadata": {},
     "output_type": "execute_result"
    }
   ],
   "source": [
    "songs = []\n",
    "songs_link = []\n",
    "songs_list = grouplink.find_all(\"h2\",class_=\"entry-title\")\n",
    "for song in songs_list:\n",
    "    songs.append(re.findall(\"「[^\\x00-\\xff]+」|「[a-zA-Z .\\xa0]+」|「[^\\x00-\\xff]+[a-zA-Z .]+」\",song.a.string))\n",
    "    songs_link.append(song.a[\"href\"])\n",
    "print(songs)\n",
    "songs_list\n",
    "\n"
   ]
  },
  {
   "cell_type": "code",
   "execution_count": 16,
   "metadata": {},
   "outputs": [
    {
     "name": "stdout",
     "output_type": "stream",
     "text": [
      "輸入歌名(前面有印出的喔)「僕空～足跡のない未来～」\n"
     ]
    }
   ],
   "source": [
    "song = input(\"輸入歌名(前面有印出的喔)\") \n"
   ]
  },
  {
   "cell_type": "code",
   "execution_count": 17,
   "metadata": {},
   "outputs": [
    {
     "name": "stdout",
     "output_type": "stream",
     "text": [
      "「僕空～足跡のない未来～」\n",
      "['「ハッピーサプライズ」']\n",
      "['「Emerald」']\n"
     ]
    },
    {
     "ename": "IndexError",
     "evalue": "list index out of range",
     "output_type": "error",
     "traceback": [
      "\u001b[1;31m---------------------------------------------------------------------------\u001b[0m",
      "\u001b[1;31mIndexError\u001b[0m                                Traceback (most recent call last)",
      "Input \u001b[1;32mIn [17]\u001b[0m, in \u001b[0;36m<cell line: 4>\u001b[1;34m()\u001b[0m\n\u001b[0;32m      4\u001b[0m \u001b[38;5;28;01mfor\u001b[39;00m i \u001b[38;5;129;01min\u001b[39;00m songs:\n\u001b[0;32m      5\u001b[0m     \u001b[38;5;28mprint\u001b[39m(i)\n\u001b[1;32m----> 6\u001b[0m     \u001b[38;5;28;01mif\u001b[39;00m \u001b[43mi\u001b[49m\u001b[43m[\u001b[49m\u001b[43ms\u001b[49m\u001b[43m]\u001b[49m \u001b[38;5;241m==\u001b[39m song:\n\u001b[0;32m      7\u001b[0m         \u001b[38;5;28mprint\u001b[39m(song)\n\u001b[0;32m      8\u001b[0m         song_link \u001b[38;5;241m=\u001b[39m songs_link[s]\n",
      "\u001b[1;31mIndexError\u001b[0m: list index out of range"
     ]
    }
   ],
   "source": [
    "print(song)\n",
    "\n",
    "s = 0\n",
    "for i in songs:\n",
    "    print(i)\n",
    "    if i[s] == song:\n",
    "        print(song)\n",
    "        song_link = songs_link[s]\n",
    "    s = s + 1\n",
    "print(song_link)"
   ]
  },
  {
   "cell_type": "code",
   "execution_count": 385,
   "metadata": {},
   "outputs": [],
   "source": [
    "url = song_link#find new url and updata\n",
    "with req.urlopen(url) as response:\n",
    "    data = response.read().decode(\"utf-8\")\n",
    "#print(data)"
   ]
  },
  {
   "cell_type": "code",
   "execution_count": 18,
   "metadata": {},
   "outputs": [
    {
     "name": "stdout",
     "output_type": "stream",
     "text": [
      "なにわ男子 – 櫻色落日\n"
     ]
    }
   ],
   "source": [
    "#解析原始碼\n",
    "import bs4\n",
    "lyriclink = bs4.BeautifulSoup(data,\"html.parser\") #解析\n",
    "print(lyriclink.title.string) #嘗試抓網站名稱"
   ]
  },
  {
   "cell_type": "markdown",
   "metadata": {},
   "source": [
    "### 歌詞"
   ]
  },
  {
   "cell_type": "code",
   "execution_count": 19,
   "metadata": {},
   "outputs": [
    {
     "data": {
      "text/plain": [
       "[]"
      ]
     },
     "execution_count": 19,
     "metadata": {},
     "output_type": "execute_result"
    }
   ],
   "source": [
    "lyric = lyriclink.find(\"div\", class_=\"entry-content\").find_all(\"strong\")\n",
    "lyric \n",
    "#疑問:怎麼去掉<strong>，只取出歌詞\n",
    "#lyric.strong.string\n",
    "#re.findall(\"[^\\x00-\\xff ]+\",lyrics)\n",
    "#|<strong>[^\\x00-\\xff …]+[a-zA-Z ]+|<strong>[a-zA-Z -]+"
   ]
  },
  {
   "cell_type": "code",
   "execution_count": 20,
   "metadata": {},
   "outputs": [
    {
     "data": {
      "text/plain": [
       "bs4.element.ResultSet"
      ]
     },
     "execution_count": 20,
     "metadata": {},
     "output_type": "execute_result"
    }
   ],
   "source": [
    "type(lyric)"
   ]
  },
  {
   "cell_type": "markdown",
   "metadata": {},
   "source": [
    "# 整理資料"
   ]
  },
  {
   "cell_type": "code",
   "execution_count": 21,
   "metadata": {},
   "outputs": [],
   "source": [
    "groups_dict = {}\n",
    "url = \"https://minniejplyrics.wordpress.com/\"#back home page\n",
    "with req.urlopen(url) as response:\n",
    "    data = response.read().decode(\"utf-8\")\n",
    "home = bs4.BeautifulSoup(data,\"html.parser\") #解析"
   ]
  },
  {
   "cell_type": "code",
   "execution_count": 22,
   "metadata": {},
   "outputs": [
    {
     "data": {
      "text/plain": [
       "['なにわ男子',\n",
       " 'ジャニーズWEST',\n",
       " 'Hey! Say! JUMP',\n",
       " 'King & Prince',\n",
       " 'SEVENTEEN',\n",
       " 'Snow Man']"
      ]
     },
     "execution_count": 22,
     "metadata": {},
     "output_type": "execute_result"
    }
   ],
   "source": [
    "#列出所有團體(等等要把牠們變KEY)\n",
    "groups_code = [\"cat-item cat-item-651000862\",\"cat-item cat-item-212885610\",\"cat-item cat-item-1863887\",\"cat-item cat-item-53466192\",\"cat-item cat-item-92515\",\"cat-item cat-item-2597269\"]\n",
    "groups_list = []\n",
    "for group in groups_code:\n",
    "    groups_list.append(home.find(\"li\",class_= group).a.string)\n",
    "groups_list"
   ]
  },
  {
   "cell_type": "code",
   "execution_count": 23,
   "metadata": {},
   "outputs": [
    {
     "data": {
      "text/plain": [
       "{'なにわ男子': [['「ハッピーサプライズ」'],\n",
       "  ['「Emerald」'],\n",
       "  ['「Timeless Love」'],\n",
       "  ['「シンシア」'],\n",
       "  ['「サチアレ」'],\n",
       "  ['「The Answer」'],\n",
       "  ['「Soda Pop Love」'],\n",
       "  ['「僕空～足跡のない未来～」'],\n",
       "  ['「夢わたし」'],\n",
       "  ['「ダイヤモンドスマイル」']],\n",
       " 'ジャニーズWEST': [['「ハッピーサプライズ」'],\n",
       "  ['「Emerald」'],\n",
       "  ['「Timeless Love」'],\n",
       "  ['「シンシア」'],\n",
       "  ['「サチアレ」'],\n",
       "  ['「The Answer」'],\n",
       "  ['「Soda Pop Love」'],\n",
       "  ['「僕空～足跡のない未来～」'],\n",
       "  ['「夢わたし」'],\n",
       "  ['「ダイヤモンドスマイル」']],\n",
       " 'Hey! Say! JUMP': [['「ハッピーサプライズ」'],\n",
       "  ['「Emerald」'],\n",
       "  ['「Timeless Love」'],\n",
       "  ['「シンシア」'],\n",
       "  ['「サチアレ」'],\n",
       "  ['「The Answer」'],\n",
       "  ['「Soda Pop Love」'],\n",
       "  ['「僕空～足跡のない未来～」'],\n",
       "  ['「夢わたし」'],\n",
       "  ['「ダイヤモンドスマイル」']],\n",
       " 'King & Prince': [['「ハッピーサプライズ」'],\n",
       "  ['「Emerald」'],\n",
       "  ['「Timeless Love」'],\n",
       "  ['「シンシア」'],\n",
       "  ['「サチアレ」'],\n",
       "  ['「The Answer」'],\n",
       "  ['「Soda Pop Love」'],\n",
       "  ['「僕空～足跡のない未来～」'],\n",
       "  ['「夢わたし」'],\n",
       "  ['「ダイヤモンドスマイル」']],\n",
       " 'SEVENTEEN': [['「ハッピーサプライズ」'],\n",
       "  ['「Emerald」'],\n",
       "  ['「Timeless Love」'],\n",
       "  ['「シンシア」'],\n",
       "  ['「サチアレ」'],\n",
       "  ['「The Answer」'],\n",
       "  ['「Soda Pop Love」'],\n",
       "  ['「僕空～足跡のない未来～」'],\n",
       "  ['「夢わたし」'],\n",
       "  ['「ダイヤモンドスマイル」']],\n",
       " 'Snow Man': [['「ハッピーサプライズ」'],\n",
       "  ['「Emerald」'],\n",
       "  ['「Timeless Love」'],\n",
       "  ['「シンシア」'],\n",
       "  ['「サチアレ」'],\n",
       "  ['「The Answer」'],\n",
       "  ['「Soda Pop Love」'],\n",
       "  ['「僕空～足跡のない未来～」'],\n",
       "  ['「夢わたし」'],\n",
       "  ['「ダイヤモンドスマイル」']]}"
      ]
     },
     "execution_count": 23,
     "metadata": {},
     "output_type": "execute_result"
    }
   ],
   "source": [
    "r = 0 #groupcode counter\n",
    "for g in groups_list:\n",
    "    url = home.find(\"li\",class_= groups_code[r]).a[\"href\"]#find new url and updata\n",
    "    with req.urlopen(url) as response:\n",
    "        data = response.read().decode(\"utf-8\")\n",
    "    group_link = bs4.BeautifulSoup(data,\"html.parser\") #解析\n",
    "    songslist = group_link.find_all(\"h2\",class_=\"entry-title\")#找出歌\n",
    "    songs = []\n",
    "    for song in songs_list:\n",
    "        songs.append(re.findall(\"「[^\\x00-\\xff]+」|「[a-zA-Z .\\xa0]+」|「[^\\x00-\\xff]+[a-zA-Z .]+」\",song.a.string))\n",
    "    groups_dict[g] = songs\n",
    "    r = r + 1#換團體\n",
    "groups_dict"
   ]
  },
  {
   "cell_type": "code",
   "execution_count": 25,
   "metadata": {},
   "outputs": [
    {
     "data": {
      "text/plain": [
       "dict"
      ]
     },
     "execution_count": 25,
     "metadata": {},
     "output_type": "execute_result"
    }
   ],
   "source": [
    "type(groups_dict)"
   ]
  },
  {
   "cell_type": "markdown",
   "metadata": {},
   "source": [
    "## 轉檔"
   ]
  },
  {
   "cell_type": "markdown",
   "metadata": {},
   "source": [
    "### json"
   ]
  },
  {
   "cell_type": "code",
   "execution_count": 24,
   "metadata": {},
   "outputs": [],
   "source": [
    "with open('Data.json', 'w', encoding='utf-8') as file:\n",
    "    json.dump(groups_dict, file, ensure_ascii=False)"
   ]
  },
  {
   "cell_type": "markdown",
   "metadata": {},
   "source": [
    "### csv"
   ]
  },
  {
   "cell_type": "code",
   "execution_count": 28,
   "metadata": {},
   "outputs": [],
   "source": [
    "\n",
    "(pd.DataFrame.from_dict(data=groups_dict, orient='index')\n",
    "   .to_csv('Data.csv', header=False))"
   ]
  },
  {
   "cell_type": "code",
   "execution_count": null,
   "metadata": {},
   "outputs": [],
   "source": []
  }
 ],
 "metadata": {
  "kernelspec": {
   "display_name": "Python 3 (ipykernel)",
   "language": "python",
   "name": "python3"
  },
  "language_info": {
   "codemirror_mode": {
    "name": "ipython",
    "version": 3
   },
   "file_extension": ".py",
   "mimetype": "text/x-python",
   "name": "python",
   "nbconvert_exporter": "python",
   "pygments_lexer": "ipython3",
   "version": "3.9.12"
  },
  "vscode": {
   "interpreter": {
    "hash": "369f2c481f4da34e4445cda3fffd2e751bd1c4d706f27375911949ba6bb62e1c"
   }
  }
 },
 "nbformat": 4,
 "nbformat_minor": 2
}
