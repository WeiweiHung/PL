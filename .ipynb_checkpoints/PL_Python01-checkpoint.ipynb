{
 "cells": [
  {
   "cell_type": "code",
   "execution_count": 4,
   "id": "07e4517f",
   "metadata": {},
   "outputs": [],
   "source": [
    "#例題\n",
    "str1 = \"將所得稅法第111條第2項所定之罰鍰1500元，依罰金罰鍰提高標準條例第1條、第3條之規定提高五倍為罰鍰7500元\""
   ]
  },
  {
   "cell_type": "code",
   "execution_count": 5,
   "id": "36ef7f26",
   "metadata": {},
   "outputs": [
    {
     "name": "stdout",
     "output_type": "stream",
     "text": [
      "將所得稅法第111條第2項所定之罰鍰1500元，依罰金罰鍰提高標準條例第1條、第3條之規定提高五倍為罰鍰7500元\n"
     ]
    }
   ],
   "source": [
    "print(str1)"
   ]
  },
  {
   "cell_type": "code",
   "execution_count": 6,
   "id": "0b23c8de",
   "metadata": {},
   "outputs": [],
   "source": [
    "money = 1500\n",
    "r = 5\n",
    "total_money = money*r"
   ]
  },
  {
   "cell_type": "code",
   "execution_count": 7,
   "id": "67394626",
   "metadata": {},
   "outputs": [
    {
     "name": "stdout",
     "output_type": "stream",
     "text": [
      "7500\n"
     ]
    }
   ],
   "source": [
    "print(total_money)"
   ]
  },
  {
   "cell_type": "code",
   "execution_count": 8,
   "id": "a8540ac5",
   "metadata": {},
   "outputs": [
    {
     "name": "stdout",
     "output_type": "stream",
     "text": [
      "總罰鍰為 7500 元\n"
     ]
    }
   ],
   "source": [
    "print(\"總罰鍰為\",total_money,\"元\")"
   ]
  },
  {
   "cell_type": "code",
   "execution_count": 9,
   "id": "b6cea2ff",
   "metadata": {},
   "outputs": [],
   "source": [
    "#練習一\n",
    "str2 = \"總判賠金額為25688，判賠比例為被告七成、原告三成\""
   ]
  },
  {
   "cell_type": "code",
   "execution_count": 10,
   "id": "23b08a4c",
   "metadata": {},
   "outputs": [],
   "source": [
    "t_money = 25688\n",
    "b_money = t_money*0.7  #被告\n",
    "r_money = t_money*0.3  #原告"
   ]
  },
  {
   "cell_type": "code",
   "execution_count": 13,
   "id": "0572c4ad",
   "metadata": {},
   "outputs": [
    {
     "name": "stdout",
     "output_type": "stream",
     "text": [
      "被告須繳罰金為 17981 元\n",
      "原告需繳罰金為 7706 元\n"
     ]
    }
   ],
   "source": [
    "print(\"被告須繳罰金為\",int(b_money),\"元\")\n",
    "print(\"原告需繳罰金為\",int(r_money),\"元\")"
   ]
  },
  {
   "cell_type": "code",
   "execution_count": 14,
   "id": "b4c68c2c",
   "metadata": {},
   "outputs": [
    {
     "name": "stdout",
     "output_type": "stream",
     "text": [
      "被告應付原告違約金1805元，利息以日利息0.0005計算，從判賠日1/19到3/19付款日，被告函違約金和利息應給原告多少\n"
     ]
    }
   ],
   "source": [
    "#練習二\n",
    "str3 = \"被告應付原告違約金1805元，利息以日利息複利0.0005計算，從判賠日1/19到3/19付款日，被告函違約金和利息應給原告多少\"\n",
    "print(str3)"
   ]
  },
  {
   "cell_type": "code",
   "execution_count": 20,
   "id": "9519d379",
   "metadata": {},
   "outputs": [
    {
     "name": "stdout",
     "output_type": "stream",
     "text": [
      "1859.956488708298\n"
     ]
    }
   ],
   "source": [
    "rmoney = 1805\n",
    "R = 0.0005\n",
    "\n",
    "tmoney = rmoney*(1 + )**60\n",
    "print(tmoney)"
   ]
  },
  {
   "cell_type": "code",
   "execution_count": null,
   "id": "99fa43b7",
   "metadata": {},
   "outputs": [],
   "source": []
  }
 ],
 "metadata": {
  "kernelspec": {
   "display_name": "Python 3 (ipykernel)",
   "language": "python",
   "name": "python3"
  },
  "language_info": {
   "codemirror_mode": {
    "name": "ipython",
    "version": 3
   },
   "file_extension": ".py",
   "mimetype": "text/x-python",
   "name": "python",
   "nbconvert_exporter": "python",
   "pygments_lexer": "ipython3",
   "version": "3.9.12"
  }
 },
 "nbformat": 4,
 "nbformat_minor": 5
}
