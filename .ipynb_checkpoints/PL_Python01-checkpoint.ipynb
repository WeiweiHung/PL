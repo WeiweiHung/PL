{
 "cells": [
  {
   "cell_type": "code",
   "execution_count": 4,
   "id": "a7c0d094",
   "metadata": {},
   "outputs": [],
   "source": [
    "#例題\n",
    "str1 = \"將所得稅法第111條第2項所定之罰鍰1500元，依罰金罰鍰提高標準條例第1條、第3條之規定提高五倍為罰鍰7500元\""
   ]
  },
  {
   "cell_type": "code",
   "execution_count": 5,
   "id": "b4c11da3",
   "metadata": {},
   "outputs": [
    {
     "name": "stdout",
     "output_type": "stream",
     "text": [
      "將所得稅法第111條第2項所定之罰鍰1500元，依罰金罰鍰提高標準條例第1條、第3條之規定提高五倍為罰鍰7500元\n"
     ]
    }
   ],
   "source": [
    "print(str1)"
   ]
  },
  {
   "cell_type": "code",
   "execution_count": 6,
   "id": "caf292f8",
   "metadata": {},
   "outputs": [],
   "source": [
    "money = 1500\n",
    "r = 5\n",
    "total_money = money*r"
   ]
  },
  {
   "cell_type": "code",
   "execution_count": 7,
   "id": "1dcf47ce",
   "metadata": {},
   "outputs": [
    {
     "name": "stdout",
     "output_type": "stream",
     "text": [
      "7500\n"
     ]
    }
   ],
   "source": [
    "print(total_money)"
   ]
  },
  {
   "cell_type": "code",
   "execution_count": 8,
   "id": "07cbd9b3",
   "metadata": {},
   "outputs": [
    {
     "name": "stdout",
     "output_type": "stream",
     "text": [
      "總罰鍰為 7500 元\n"
     ]
    }
   ],
   "source": [
    "print(\"總罰鍰為\",total_money,\"元\")"
   ]
  },
  {
   "cell_type": "code",
   "execution_count": 9,
   "id": "c4f90dcf",
   "metadata": {},
   "outputs": [],
   "source": [
    "#練習一\n",
    "str2 = \"總判賠金額為25688，判賠比例為被告七成、原告三成\""
   ]
  },
  {
   "cell_type": "code",
   "execution_count": 10,
   "id": "fc264237",
   "metadata": {},
   "outputs": [],
   "source": [
    "t_money = 25688\n",
    "b_money = t_money*0.7  #被告\n",
    "r_money = t_money*0.3  #原告"
   ]
  },
  {
   "cell_type": "code",
   "execution_count": 13,
   "id": "97d51dbe",
   "metadata": {},
   "outputs": [
    {
     "name": "stdout",
     "output_type": "stream",
     "text": [
      "被告須繳罰金為 17981 元\n",
      "原告需繳罰金為 7706 元\n"
     ]
    }
   ],
   "source": [
    "print(\"被告須繳罰金為\",int(b_money),\"元\")\n",
    "print(\"原告需繳罰金為\",int(r_money),\"元\")"
   ]
  },
  {
   "cell_type": "code",
   "execution_count": 14,
   "id": "0f7a6405",
   "metadata": {},
   "outputs": [
    {
     "name": "stdout",
     "output_type": "stream",
     "text": [
      "被告應付原告違約金1805元，利息以日利息0.0005計算，從判賠日1/19到3/19付款日，被告函違約金和利息應給原告多少\n"
     ]
    }
   ],
   "source": [
    "#練習二\n",
    "str3 = \"被告應付原告違約金11805元，利息以日利息複利0.0005計算，從判賠日1/19到3/19付款日，被告函違約金和利息應給原告多少\"\n",
    "print(str3)"
   ]
  },
  {
   "cell_type": "code",
   "execution_count": 25,
   "id": "6be3a6e8",
   "metadata": {},
   "outputs": [
    {
     "name": "stdout",
     "output_type": "stream",
     "text": [
      "被告應給原告 12378 元\n"
     ]
    }
   ],
   "source": [
    "rmoney = 11805\n",
    "R = 0.0005\n",
    "days = 59\n",
    "month = 2\n",
    "monthr = ((1 + month)*1/2)*150\n",
    "tmoney = rmoney*(1 + 0.0005*days) + monthr\n",
    "print(\"被告應給原告\",int(tmoney),\"元\")"
   ]
  },
  {
   "cell_type": "code",
   "execution_count": null,
   "id": "22265909",
   "metadata": {},
   "outputs": [],
   "source": [
    "#練習三\n",
    "str4 = \"輸入被告闖紅燈、原告闖紅燈、被告原告接闖紅燈，並顯示出各項判例判賠比例\"\n",
    "print(str4)"
   ]
  },
  {
   "cell_type": "code",
   "execution_count": 13,
   "id": "9276346a",
   "metadata": {},
   "outputs": [
    {
     "name": "stdout",
     "output_type": "stream",
     "text": [
      "請出入狀況：原告闖紅燈\n",
      "原告多被告少\n"
     ]
    }
   ],
   "source": [
    "event = input(\"請出入狀況：\")\n",
    "\n",
    "if event == \"被告闖紅燈\":\n",
    "    print(\"被告賠100%\")\n",
    "elif event == \"原告闖紅燈\":\n",
    "    print(\"原告多被告少\")\n",
    "elif event == \"被告原告皆闖紅燈\":\n",
    "    print(\"原告與被告各50%\")\n",
    "else :\n",
    "        print(\"請填入有效信息\")\n",
    "   "
   ]
  },
  {
   "cell_type": "code",
   "execution_count": null,
   "id": "85456cde",
   "metadata": {},
   "outputs": [],
   "source": []
  }
 ],
 "metadata": {
  "kernelspec": {
   "display_name": "Python 3",
   "language": "python",
   "name": "python3"
  },
  "language_info": {
   "codemirror_mode": {
    "name": "ipython",
    "version": 3
   },
   "file_extension": ".py",
   "mimetype": "text/x-python",
   "name": "python",
   "nbconvert_exporter": "python",
   "pygments_lexer": "ipython3",
   "version": "3.10.7 (tags/v3.10.7:6cc6b13, Sep  5 2022, 14:08:36) [MSC v.1933 64 bit (AMD64)]"
  },
  "vscode": {
   "interpreter": {
    "hash": "369f2c481f4da34e4445cda3fffd2e751bd1c4d706f27375911949ba6bb62e1c"
   }
  }
 },
 "nbformat": 4,
 "nbformat_minor": 5
}
