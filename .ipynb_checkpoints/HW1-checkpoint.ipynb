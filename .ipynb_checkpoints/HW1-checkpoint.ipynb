{
 "cells": [
  {
   "cell_type": "code",
   "execution_count": 12,
   "id": "f120900c",
   "metadata": {},
   "outputs": [
    {
     "data": {
      "text/plain": [
       "{'encoding': 'Big5', 'confidence': 0.99, 'language': 'Chinese'}"
      ]
     },
     "execution_count": 12,
     "metadata": {},
     "output_type": "execute_result"
    }
   ],
   "source": [
    "import pandas as pd\n",
    "# 由於csv檔內有python無法讀出之語言UFT-8\n",
    "\n",
    "## 先界定檔案所使用之語言\n",
    "import chardet\n",
    "with open(\"data.csv\", 'rb') as rawdata:\n",
    "    result = chardet.detect(rawdata.read(100000))\n",
    "result "
   ]
  },
  {
   "cell_type": "code",
   "execution_count": 13,
   "id": "db040542",
   "metadata": {},
   "outputs": [
    {
     "data": {
      "text/html": [
       "<div>\n",
       "<style scoped>\n",
       "    .dataframe tbody tr th:only-of-type {\n",
       "        vertical-align: middle;\n",
       "    }\n",
       "\n",
       "    .dataframe tbody tr th {\n",
       "        vertical-align: top;\n",
       "    }\n",
       "\n",
       "    .dataframe thead th {\n",
       "        text-align: right;\n",
       "    }\n",
       "</style>\n",
       "<table border=\"1\" class=\"dataframe\">\n",
       "  <thead>\n",
       "    <tr style=\"text-align: right;\">\n",
       "      <th></th>\n",
       "      <th>學號</th>\n",
       "      <th>性別</th>\n",
       "      <th>分發宿舍</th>\n",
       "      <th>分發寢室</th>\n",
       "      <th>分發床號</th>\n",
       "    </tr>\n",
       "  </thead>\n",
       "  <tbody>\n",
       "    <tr>\n",
       "      <th>0</th>\n",
       "      <td>40909026E</td>\n",
       "      <td>女</td>\n",
       "      <td>女一舍</td>\n",
       "      <td>5111</td>\n",
       "      <td>3</td>\n",
       "    </tr>\n",
       "    <tr>\n",
       "      <th>1</th>\n",
       "      <td>40920120L</td>\n",
       "      <td>女</td>\n",
       "      <td>女一舍</td>\n",
       "      <td>5111</td>\n",
       "      <td>4</td>\n",
       "    </tr>\n",
       "    <tr>\n",
       "      <th>2</th>\n",
       "      <td>40820124L</td>\n",
       "      <td>女</td>\n",
       "      <td>女一舍</td>\n",
       "      <td>5112</td>\n",
       "      <td>2</td>\n",
       "    </tr>\n",
       "    <tr>\n",
       "      <th>3</th>\n",
       "      <td>40826013L</td>\n",
       "      <td>女</td>\n",
       "      <td>女一舍</td>\n",
       "      <td>5112</td>\n",
       "      <td>3</td>\n",
       "    </tr>\n",
       "    <tr>\n",
       "      <th>4</th>\n",
       "      <td>40707218E</td>\n",
       "      <td>女</td>\n",
       "      <td>女一舍</td>\n",
       "      <td>5113</td>\n",
       "      <td>3</td>\n",
       "    </tr>\n",
       "  </tbody>\n",
       "</table>\n",
       "</div>"
      ],
      "text/plain": [
       "          學號 性別 分發宿舍  分發寢室  分發床號\n",
       "0  40909026E  女  女一舍  5111     3\n",
       "1  40920120L  女  女一舍  5111     4\n",
       "2  40820124L  女  女一舍  5112     2\n",
       "3  40826013L  女  女一舍  5112     3\n",
       "4  40707218E  女  女一舍  5113     3"
      ]
     },
     "execution_count": 13,
     "metadata": {},
     "output_type": "execute_result"
    }
   ],
   "source": [
    "## 讓pd讀檔並切換語言參數\n",
    "data = pd.read_csv(\"data.csv\",encoding = \"Big5\")\n",
    "data.head() #test"
   ]
  },
  {
   "cell_type": "code",
   "execution_count": 18,
   "id": "b3cbae50",
   "metadata": {},
   "outputs": [],
   "source": [
    "#製作寢室查詢器\n",
    "\n",
    "## 分類資料\n",
    "dormitory = data[\"分發宿舍\"] \n",
    "student = data[\"學號\"] \n",
    "gender = data[\"性別\"] \n",
    "dormitory = data[\"分發宿舍\"] \n",
    "room = data[\"分發寢室\"] \n",
    "bed = data[\"分發床號\"]"
   ]
  },
  {
   "cell_type": "code",
   "execution_count": 29,
   "id": "60d45c5e",
   "metadata": {},
   "outputs": [
    {
     "name": "stdout",
     "output_type": "stream",
     "text": [
      "False\n"
     ]
    }
   ],
   "source": [
    "### 測試和集\n",
    "filt = (bed == \"3\")&(dormitory == \"女一舍\")\n",
    "print(filt)## 這是啥？沒有女一又三號床的？"
   ]
  },
  {
   "cell_type": "code",
   "execution_count": 48,
   "id": "386cd26c",
   "metadata": {},
   "outputs": [
    {
     "name": "stdout",
     "output_type": "stream",
     "text": [
      "請輸入學號41071205H\n",
      "41071205H\n"
     ]
    }
   ],
   "source": [
    "## 輸入學號、設定大小寫\n",
    "sub = input(\"請輸入學號\")\n",
    "sub = str.upper(sub)"
   ]
  },
  {
   "cell_type": "code",
   "execution_count": 52,
   "id": "9c72e639",
   "metadata": {},
   "outputs": [
    {
     "name": "stdout",
     "output_type": "stream",
     "text": [
      "請輸入學號41071205H\n"
     ]
    },
    {
     "ename": "TypeError",
     "evalue": "'types.GenericAlias' object is not iterable",
     "output_type": "error",
     "traceback": [
      "\u001b[1;31m---------------------------------------------------------------------------\u001b[0m",
      "\u001b[1;31mTypeError\u001b[0m                                 Traceback (most recent call last)",
      "Input \u001b[1;32mIn [52]\u001b[0m, in \u001b[0;36m<cell line: 5>\u001b[1;34m()\u001b[0m\n\u001b[0;32m      3\u001b[0m sub \u001b[38;5;241m=\u001b[39m \u001b[38;5;28mstr\u001b[39m\u001b[38;5;241m.\u001b[39mupper(sub)\n\u001b[0;32m      4\u001b[0m n \u001b[38;5;241m=\u001b[39m \u001b[38;5;241m0\u001b[39m\n\u001b[1;32m----> 5\u001b[0m \u001b[38;5;28;01mfor\u001b[39;00m sub \u001b[38;5;129;01min\u001b[39;00m student:\n\u001b[0;32m      6\u001b[0m     \u001b[38;5;28;01mif\u001b[39;00m sub \u001b[38;5;241m==\u001b[39m student:\n\u001b[0;32m      7\u001b[0m         \u001b[38;5;28mprint\u001b[39m(data\u001b[38;5;241m.\u001b[39mloc[n])\n",
      "\u001b[1;31mTypeError\u001b[0m: 'types.GenericAlias' object is not iterable"
     ]
    }
   ],
   "source": [
    "## 輸入學號、設定大小寫\n",
    "sub = input(\"請輸入學號\")\n",
    "sub = str.upper(sub)\n",
    "n = 0\n",
    "for sub in student:\n",
    "    if sub == student:\n",
    "        print(data.loc[n])\n",
    "    else:\n",
    "        n = n + 1\n"
   ]
  },
  {
   "cell_type": "code",
   "execution_count": 40,
   "id": "fad65cee",
   "metadata": {},
   "outputs": [],
   "source": []
  },
  {
   "cell_type": "code",
   "execution_count": null,
   "id": "c9bc14fa",
   "metadata": {},
   "outputs": [],
   "source": []
  }
 ],
 "metadata": {
  "kernelspec": {
   "display_name": "Python 3 (ipykernel)",
   "language": "python",
   "name": "python3"
  },
  "language_info": {
   "codemirror_mode": {
    "name": "ipython",
    "version": 3
   },
   "file_extension": ".py",
   "mimetype": "text/x-python",
   "name": "python",
   "nbconvert_exporter": "python",
   "pygments_lexer": "ipython3",
   "version": "3.9.12"
  }
 },
 "nbformat": 4,
 "nbformat_minor": 5
}
