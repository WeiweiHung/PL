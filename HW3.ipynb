{
 "cells": [
  {
   "cell_type": "markdown",
   "metadata": {},
   "source": [
    "[使用的網站](https://minniejplyrics.wordpress.com/)"
   ]
  },
  {
   "cell_type": "code",
   "execution_count": 28,
   "metadata": {},
   "outputs": [],
   "source": [
    "import urllib.request as req #導入連線網站的模組\n",
    "import json\n",
    "import csv\n",
    "import pandas as pd\n",
    "import re\n",
    "#抓取網頁\n",
    "url = \"https://minniejplyrics.wordpress.com/\"\n",
    "with req.urlopen(url) as response:\n",
    "    data = response.read().decode(\"utf-8\")\n",
    "#print(data) #(備註:並無出現教學影片中的連線錯誤問題，所以沒再加request headers)"
   ]
  },
  {
   "cell_type": "code",
   "execution_count": 29,
   "metadata": {},
   "outputs": [
    {
     "name": "stdout",
     "output_type": "stream",
     "text": [
      "櫻色落日\n"
     ]
    }
   ],
   "source": [
    "#解析原始碼\n",
    "import bs4\n",
    "home = bs4.BeautifulSoup(data,\"html.parser\") #解析\n",
    "print(home.title.string) #嘗試抓網站名稱"
   ]
  },
  {
   "cell_type": "markdown",
   "metadata": {},
   "source": [
    "# 印出的首頁的歌"
   ]
  },
  {
   "cell_type": "code",
   "execution_count": 30,
   "metadata": {},
   "outputs": [
    {
     "name": "stdout",
     "output_type": "stream",
     "text": [
      "【中文歌詞翻譯】King & Prince「ツキヨミ」\n"
     ]
    }
   ],
   "source": [
    "title_test = home.find(\"h2\",class_=\"entry-title\") #備註:class後有底線。find()找到第一個符合條件的\n",
    "print(title_test.a.string)"
   ]
  },
  {
   "cell_type": "code",
   "execution_count": 31,
   "metadata": {},
   "outputs": [
    {
     "name": "stdout",
     "output_type": "stream",
     "text": [
      "[<h2 class=\"entry-title\"><a href=\"https://minniejplyrics.wordpress.com/2022/10/29/%e3%80%90%e4%b8%ad%e6%96%87%e6%ad%8c%e8%a9%9e%e7%bf%bb%e8%ad%af%e3%80%91king-prince%e3%80%8c%e3%83%84%e3%82%ad%e3%83%a8%e3%83%9f%e3%80%8d/\" rel=\"bookmark\">【中文歌詞翻譯】King &amp; Prince「ツキヨミ」</a></h2>, <h2 class=\"entry-title\"><a href=\"https://minniejplyrics.wordpress.com/2022/10/28/%e3%80%90%e4%b8%ad%e6%96%87%e6%ad%8c%e8%a9%9e%e7%bf%bb%e8%ad%af%e3%80%91%e3%81%aa%e3%81%ab%e3%82%8f%e7%94%b7%e5%ad%90%e3%80%8c%e3%83%8f%e3%83%83%e3%83%94%e3%83%bc%e3%82%b5%e3%83%97%e3%83%a9%e3%82%a4/\" rel=\"bookmark\">【中文歌詞翻譯】なにわ男子「ハッピーサプライズ」</a></h2>, <h2 class=\"entry-title\"><a href=\"https://minniejplyrics.wordpress.com/2022/09/02/%e3%80%90%e4%b8%ad%e6%96%87%e6%ad%8c%e8%a9%9e%e7%bf%bb%e8%ad%af%e3%80%91snow-man%e3%80%8c%e3%83%9c%e3%82%af%e3%81%a8%e3%82%ad%e3%83%9f%e3%81%a8%e3%80%8d/\" rel=\"bookmark\">【中文歌詞翻譯】Snow Man「ボクとキミと」</a></h2>, <h2 class=\"entry-title\"><a href=\"https://minniejplyrics.wordpress.com/2022/08/26/%e3%80%90%e4%b8%ad%e6%96%87%e6%ad%8c%e8%a9%9e%e7%bf%bb%e8%ad%af%e3%80%91hey-say-jump%e3%80%8cfate-or-destiny%e3%80%8d/\" rel=\"bookmark\">【中文歌詞翻譯】Hey! Say! JUMP「Fate or Destiny」</a></h2>, <h2 class=\"entry-title\"><a href=\"https://minniejplyrics.wordpress.com/2022/08/18/%e3%80%90%e4%b8%ad%e6%96%87%e6%ad%8c%e8%a9%9e%e7%bf%bb%e8%ad%af%e3%80%91king-prince%e3%80%8ctracetrace%e3%80%8d/\" rel=\"bookmark\">【中文歌詞翻譯】King &amp; Prince「TraceTrace」</a></h2>, <h2 class=\"entry-title\"><a href=\"https://minniejplyrics.wordpress.com/2022/07/30/%e3%80%90%e4%b8%ad%e6%96%87%e6%ad%8c%e8%a9%9e%e7%bf%bb%e8%ad%af%e3%80%91%e3%81%aa%e3%81%ab%e3%82%8f%e7%94%b7%e5%ad%90%e3%80%8cemerald%e3%80%8d/\" rel=\"bookmark\">【中文歌詞翻譯】なにわ男子「Emerald」</a></h2>, <h2 class=\"entry-title\"><a href=\"https://minniejplyrics.wordpress.com/2022/07/28/%e3%80%90%e4%b8%ad%e6%96%87%e6%ad%8c%e8%a9%9e%e7%bf%bb%e8%ad%af%e3%80%91snow-man%e3%80%8c%e5%83%95%e3%81%ab%e5%a4%a7%e5%88%87%e3%81%ab%e3%81%95%e3%82%8c%e3%81%a6%e3%81%ad%e3%80%82%e3%80%8d/\" rel=\"bookmark\">【中文歌詞翻譯】Snow Man「僕に大切にされてね。」</a></h2>, <h2 class=\"entry-title\"><a href=\"https://minniejplyrics.wordpress.com/2022/07/13/%e3%80%90%e4%b8%ad%e6%96%87%e6%ad%8c%e8%a9%9e%e7%bf%bb%e8%ad%af%e3%80%91king-prince%e3%80%8cdream-in%e3%80%8d/\" rel=\"bookmark\">【中文歌詞翻譯】King &amp; Prince「Dream in」</a></h2>, <h2 class=\"entry-title\"><a href=\"https://minniejplyrics.wordpress.com/2022/07/10/%e3%80%90%e4%b8%ad%e6%96%87%e6%ad%8c%e8%a9%9e%e7%bf%bb%e8%ad%af%e3%80%91%e3%82%b8%e3%83%a3%e3%83%8b%e3%83%bc%e3%82%bawest%e3%80%8c%e6%98%9f%e3%81%ae%e9%9b%a8%e3%80%8d/\" rel=\"bookmark\">【中文歌詞翻譯】ジャニーズWEST「星の雨」</a></h2>, <h2 class=\"entry-title\"><a href=\"https://minniejplyrics.wordpress.com/2022/07/06/%e3%80%90%e4%b8%ad%e6%96%87%e6%ad%8c%e8%a9%9e%e7%bf%bb%e8%ad%af%e3%80%91%e3%81%aa%e3%81%ab%e3%82%8f%e7%94%b7%e5%ad%90%e3%80%8ctimeless-love%e3%80%8d/\" rel=\"bookmark\">【中文歌詞翻譯】なにわ男子「Timeless Love」</a></h2>]\n"
     ]
    }
   ],
   "source": [
    "titles = home.find_all(\"h2\",class_=\"entry-title\") #找到第一頁所有歌\n",
    "print(titles)"
   ]
  },
  {
   "cell_type": "code",
   "execution_count": null,
   "metadata": {},
   "outputs": [],
   "source": []
  },
  {
   "cell_type": "code",
   "execution_count": 32,
   "metadata": {},
   "outputs": [
    {
     "name": "stdout",
     "output_type": "stream",
     "text": [
      "【中文歌詞翻譯】King & Prince「ツキヨミ」\n",
      "【中文歌詞翻譯】なにわ男子「ハッピーサプライズ」\n",
      "【中文歌詞翻譯】Snow Man「ボクとキミと」\n",
      "【中文歌詞翻譯】Hey! Say! JUMP「Fate or Destiny」\n",
      "【中文歌詞翻譯】King & Prince「TraceTrace」\n",
      "【中文歌詞翻譯】なにわ男子「Emerald」\n",
      "【中文歌詞翻譯】Snow Man「僕に大切にされてね。」\n",
      "【中文歌詞翻譯】King & Prince「Dream in」\n",
      "【中文歌詞翻譯】ジャニーズWEST「星の雨」\n",
      "【中文歌詞翻譯】なにわ男子「Timeless Love」\n"
     ]
    },
    {
     "data": {
      "text/plain": [
       "['【中文歌詞翻譯】King & Prince「ツキヨミ」',\n",
       " '【中文歌詞翻譯】なにわ男子「ハッピーサプライズ」',\n",
       " '【中文歌詞翻譯】Snow Man「ボクとキミと」',\n",
       " '【中文歌詞翻譯】Hey! Say! JUMP「Fate or\\xa0Destiny」',\n",
       " '【中文歌詞翻譯】King & Prince「TraceTrace」',\n",
       " '【中文歌詞翻譯】なにわ男子「Emerald」',\n",
       " '【中文歌詞翻譯】Snow Man「僕に大切にされてね。」',\n",
       " '【中文歌詞翻譯】King & Prince「Dream\\xa0in」',\n",
       " '【中文歌詞翻譯】ジャニーズWEST「星の雨」',\n",
       " '【中文歌詞翻譯】なにわ男子「Timeless Love」']"
      ]
     },
     "execution_count": 32,
     "metadata": {},
     "output_type": "execute_result"
    }
   ],
   "source": [
    "songs = []\n",
    "for title in titles:\n",
    "    print(title.a.string) #第一頁所有歌印出\n",
    "    songs.append(title.a.string)\n",
    "songs\n"
   ]
  },
  {
   "cell_type": "code",
   "execution_count": 33,
   "metadata": {},
   "outputs": [
    {
     "name": "stdout",
     "output_type": "stream",
     "text": [
      "['「ツキヨミ」']\n",
      "['「ハッピーサプライズ」']\n",
      "['「ボクとキミと」']\n",
      "['「Fate or\\xa0Destiny」']\n",
      "['「TraceTrace」']\n",
      "['「Emerald」']\n",
      "['「僕に大切にされてね。」']\n",
      "['「Dream\\xa0in」']\n",
      "['「星の雨」']\n",
      "['「Timeless Love」']\n"
     ]
    }
   ],
   "source": [
    "songs = []\n",
    "for title in titles:\n",
    "    #print(title.a.string) #第一頁所有歌名印出\n",
    "    song = re.findall(\"「[^\\x00-\\xff]+」|「[a-zA-Z .\\xa0]+」|「[^\\x00-\\xff]+[a-zA-Z .]+」\",title.a.string)#正則化\n",
    "    print(song)"
   ]
  },
  {
   "cell_type": "markdown",
   "metadata": {},
   "source": [
    "# 嘗試依團體翻頁找歌"
   ]
  },
  {
   "cell_type": "code",
   "execution_count": 34,
   "metadata": {},
   "outputs": [
    {
     "data": {
      "text/plain": [
       "['なにわ男子',\n",
       " 'ジャニーズWEST',\n",
       " 'Hey! Say! JUMP',\n",
       " 'King & Prince',\n",
       " 'SEVENTEEN',\n",
       " 'Snow Man']"
      ]
     },
     "execution_count": 34,
     "metadata": {},
     "output_type": "execute_result"
    }
   ],
   "source": [
    "#嘗試翻頁，從文章分類下的團體下手\n",
    "groups_list = [\"cat-item cat-item-651000862\",\"cat-item cat-item-212885610\",\"cat-item cat-item-1863887\",\"cat-item cat-item-53466192\",\"cat-item cat-item-92515\",\"cat-item cat-item-2597269\"]\n",
    "groups = []\n",
    "for group in groups_list:\n",
    "    groups.append(home.find(\"li\",class_= group).a.string)\n",
    "#groups = root.find_all(\"li\",class_= \"cat-item cat-item-651000862\")\n",
    "groups"
   ]
  },
  {
   "cell_type": "markdown",
   "metadata": {},
   "source": [
    "## 翻頁進每個團體"
   ]
  },
  {
   "cell_type": "code",
   "execution_count": 35,
   "metadata": {},
   "outputs": [
    {
     "name": "stdout",
     "output_type": "stream",
     "text": [
      "輸入團體名稱(なにわ男子、ジャニーズWEST、Hey! Say! JUMP、King & Prince、SEVENTEEN、Snow Man)なにわ男子\n"
     ]
    }
   ],
   "source": [
    "group = input(\"輸入團體名稱(なにわ男子、ジャニーズWEST、Hey! Say! JUMP、King & Prince、SEVENTEEN、Snow Man)\")#輸入"
   ]
  },
  {
   "cell_type": "code",
   "execution_count": 36,
   "metadata": {},
   "outputs": [
    {
     "name": "stdout",
     "output_type": "stream",
     "text": [
      "なにわ男子\n",
      "cat-item cat-item-651000862\n"
     ]
    }
   ],
   "source": [
    "#將輸入團體對照相應代碼\n",
    "n = 0\n",
    "for i in groups:\n",
    "    if i == group:\n",
    "        print(group)#group name test\n",
    "        print(groups_list[n])#group code test\n",
    "        groupcode = groups_list[n]\n",
    "    n = n + 1"
   ]
  },
  {
   "cell_type": "code",
   "execution_count": 37,
   "metadata": {},
   "outputs": [],
   "source": [
    "#依團體更新網址\n",
    "url = home.find(\"li\",class_= groupcode).a[\"href\"]#find new url and updata\n",
    "with req.urlopen(url) as response:\n",
    "    data = response.read().decode(\"utf-8\")\n",
    "#print(data)"
   ]
  },
  {
   "cell_type": "code",
   "execution_count": 38,
   "metadata": {},
   "outputs": [
    {
     "name": "stdout",
     "output_type": "stream",
     "text": [
      "なにわ男子 – 櫻色落日\n"
     ]
    }
   ],
   "source": [
    "#解析原始碼\n",
    "import bs4\n",
    "grouplink = bs4.BeautifulSoup(data,\"html.parser\") #解析\n",
    "print(grouplink.title.string) #嘗試抓網站名稱\n"
   ]
  },
  {
   "cell_type": "markdown",
   "metadata": {},
   "source": [
    "## 找出團體的歌"
   ]
  },
  {
   "cell_type": "code",
   "execution_count": 436,
   "metadata": {},
   "outputs": [
    {
     "name": "stdout",
     "output_type": "stream",
     "text": [
      "[['「ボクとキミと」'], ['「僕に大切にされてね。」'], ['「オレンジkiss」'], ['「ブラザービート」'], ['「D.D.」'], ['「Christmas wishes」'], ['「HELLO HELLO」'], ['「Secret Touch」']]\n",
      "[<h2 class=\"entry-title\"><a href=\"https://minniejplyrics.wordpress.com/2022/09/02/%e3%80%90%e4%b8%ad%e6%96%87%e6%ad%8c%e8%a9%9e%e7%bf%bb%e8%ad%af%e3%80%91snow-man%e3%80%8c%e3%83%9c%e3%82%af%e3%81%a8%e3%82%ad%e3%83%9f%e3%81%a8%e3%80%8d/\" rel=\"bookmark\">【中文歌詞翻譯】Snow Man「ボクとキミと」</a></h2>, <h2 class=\"entry-title\"><a href=\"https://minniejplyrics.wordpress.com/2022/07/28/%e3%80%90%e4%b8%ad%e6%96%87%e6%ad%8c%e8%a9%9e%e7%bf%bb%e8%ad%af%e3%80%91snow-man%e3%80%8c%e5%83%95%e3%81%ab%e5%a4%a7%e5%88%87%e3%81%ab%e3%81%95%e3%82%8c%e3%81%a6%e3%81%ad%e3%80%82%e3%80%8d/\" rel=\"bookmark\">【中文歌詞翻譯】Snow Man「僕に大切にされてね。」</a></h2>, <h2 class=\"entry-title\"><a href=\"https://minniejplyrics.wordpress.com/2022/06/22/%e3%80%90%e4%b8%ad%e6%96%87%e6%ad%8c%e8%a9%9e%e7%bf%bb%e8%ad%af%e3%80%91snow-man%e3%80%8c%e3%82%aa%e3%83%ac%e3%83%b3%e3%82%b8kiss%e3%80%8d/\" rel=\"bookmark\">【中文歌詞翻譯】Snow Man「オレンジkiss」</a></h2>, <h2 class=\"entry-title\"><a href=\"https://minniejplyrics.wordpress.com/2022/04/22/%e3%80%90%e4%b8%ad%e6%96%87%e6%ad%8c%e8%a9%9e%e7%bf%bb%e8%ad%af%e3%80%91snow-man%e3%80%8c%e3%83%96%e3%83%a9%e3%82%b6%e3%83%bc%e3%83%93%e3%83%bc%e3%83%88%e3%80%8d/\" rel=\"bookmark\">【中文歌詞翻譯】Snow Man「ブラザービート」</a></h2>, <h2 class=\"entry-title\"><a href=\"https://minniejplyrics.wordpress.com/2022/01/08/%e3%80%90%e4%b8%ad%e6%96%87%e6%ad%8c%e8%a9%9e%e7%bf%bb%e8%ad%af%e3%80%91snow-man%e3%80%8cd-d-%e3%80%8d/\" rel=\"bookmark\">【中文歌詞翻譯】Snow Man「D.D.」</a></h2>, <h2 class=\"entry-title\"><a href=\"https://minniejplyrics.wordpress.com/2021/12/12/%e3%80%90%e4%b8%ad%e6%96%87%e6%ad%8c%e8%a9%9e%e7%bf%bb%e8%ad%af%e3%80%91snow-man%e3%80%8cchristmas-wishes%e3%80%8d/\" rel=\"bookmark\">【中文歌詞翻譯】Snow Man「Christmas wishes」</a></h2>, <h2 class=\"entry-title\"><a href=\"https://minniejplyrics.wordpress.com/2021/12/04/%e3%80%90%e4%b8%ad%e6%96%87%e6%ad%8c%e8%a9%9e%e7%bf%bb%e8%ad%af%e3%80%91snow-man%e3%80%8chello-hello%e3%80%8d/\" rel=\"bookmark\">【中文歌詞翻譯】Snow Man「HELLO HELLO」</a></h2>, <h2 class=\"entry-title\"><a href=\"https://minniejplyrics.wordpress.com/2021/12/02/%e3%80%90%e4%b8%ad%e6%96%87%e6%ad%8c%e8%a9%9e%e7%bf%bb%e8%ad%af%e3%80%91snow-man%e3%80%8csecret-touch%e3%80%8d/\" rel=\"bookmark\">【中文歌詞翻譯】Snow Man「Secret Touch」</a></h2>]\n",
      "['https://minniejplyrics.wordpress.com/2022/09/02/%e3%80%90%e4%b8%ad%e6%96%87%e6%ad%8c%e8%a9%9e%e7%bf%bb%e8%ad%af%e3%80%91snow-man%e3%80%8c%e3%83%9c%e3%82%af%e3%81%a8%e3%82%ad%e3%83%9f%e3%81%a8%e3%80%8d/', 'https://minniejplyrics.wordpress.com/2022/07/28/%e3%80%90%e4%b8%ad%e6%96%87%e6%ad%8c%e8%a9%9e%e7%bf%bb%e8%ad%af%e3%80%91snow-man%e3%80%8c%e5%83%95%e3%81%ab%e5%a4%a7%e5%88%87%e3%81%ab%e3%81%95%e3%82%8c%e3%81%a6%e3%81%ad%e3%80%82%e3%80%8d/', 'https://minniejplyrics.wordpress.com/2022/06/22/%e3%80%90%e4%b8%ad%e6%96%87%e6%ad%8c%e8%a9%9e%e7%bf%bb%e8%ad%af%e3%80%91snow-man%e3%80%8c%e3%82%aa%e3%83%ac%e3%83%b3%e3%82%b8kiss%e3%80%8d/', 'https://minniejplyrics.wordpress.com/2022/04/22/%e3%80%90%e4%b8%ad%e6%96%87%e6%ad%8c%e8%a9%9e%e7%bf%bb%e8%ad%af%e3%80%91snow-man%e3%80%8c%e3%83%96%e3%83%a9%e3%82%b6%e3%83%bc%e3%83%93%e3%83%bc%e3%83%88%e3%80%8d/', 'https://minniejplyrics.wordpress.com/2022/01/08/%e3%80%90%e4%b8%ad%e6%96%87%e6%ad%8c%e8%a9%9e%e7%bf%bb%e8%ad%af%e3%80%91snow-man%e3%80%8cd-d-%e3%80%8d/', 'https://minniejplyrics.wordpress.com/2021/12/12/%e3%80%90%e4%b8%ad%e6%96%87%e6%ad%8c%e8%a9%9e%e7%bf%bb%e8%ad%af%e3%80%91snow-man%e3%80%8cchristmas-wishes%e3%80%8d/', 'https://minniejplyrics.wordpress.com/2021/12/04/%e3%80%90%e4%b8%ad%e6%96%87%e6%ad%8c%e8%a9%9e%e7%bf%bb%e8%ad%af%e3%80%91snow-man%e3%80%8chello-hello%e3%80%8d/', 'https://minniejplyrics.wordpress.com/2021/12/02/%e3%80%90%e4%b8%ad%e6%96%87%e6%ad%8c%e8%a9%9e%e7%bf%bb%e8%ad%af%e3%80%91snow-man%e3%80%8csecret-touch%e3%80%8d/']\n"
     ]
    }
   ],
   "source": [
    "songs = []\n",
    "songs_link = []\n",
    "songs_list = grouplink.find_all(\"h2\",class_=\"entry-title\")\n",
    "for song in songs_list:\n",
    "    songs.append(re.findall(\"「[^\\x00-\\xff]+」|「[a-zA-Z .\\xa0]+」|「[^\\x00-\\xff]+[a-zA-Z .]+」\",song.a.string))\n",
    "    songs_link.append(song.a[\"href\"])\n",
    "print(songs)\n",
    "print(songs_list)\n",
    "print(songs_link )\n",
    "\n"
   ]
  },
  {
   "cell_type": "code",
   "execution_count": 39,
   "metadata": {},
   "outputs": [
    {
     "name": "stdout",
     "output_type": "stream",
     "text": [
      "輸入歌名ボクとキミと\n"
     ]
    }
   ],
   "source": [
    "song =\"「\" + input(\"輸入歌名\") + \"」\"\n"
   ]
  },
  {
   "cell_type": "code",
   "execution_count": 40,
   "metadata": {},
   "outputs": [
    {
     "ename": "NameError",
     "evalue": "name 'songlink' is not defined",
     "output_type": "error",
     "traceback": [
      "\u001b[1;31m---------------------------------------------------------------------------\u001b[0m",
      "\u001b[1;31mNameError\u001b[0m                                 Traceback (most recent call last)",
      "Input \u001b[1;32mIn [40]\u001b[0m, in \u001b[0;36m<cell line: 6>\u001b[1;34m()\u001b[0m\n\u001b[0;32m      4\u001b[0m         songlink \u001b[38;5;241m=\u001b[39m songs_link[s]\n\u001b[0;32m      5\u001b[0m     s \u001b[38;5;241m=\u001b[39m s \u001b[38;5;241m+\u001b[39m \u001b[38;5;241m1\u001b[39m\n\u001b[1;32m----> 6\u001b[0m \u001b[38;5;28mprint\u001b[39m(\u001b[43msonglink\u001b[49m)\n",
      "\u001b[1;31mNameError\u001b[0m: name 'songlink' is not defined"
     ]
    }
   ],
   "source": [
    "\n",
    "s = 0\n",
    "for i in songs:\n",
    "    if i == song:\n",
    "        songlink = songs_link[s]\n",
    "    s = s + 1\n",
    "print(songlink)"
   ]
  },
  {
   "cell_type": "code",
   "execution_count": 41,
   "metadata": {},
   "outputs": [
    {
     "ename": "NameError",
     "evalue": "name 'songlink' is not defined",
     "output_type": "error",
     "traceback": [
      "\u001b[1;31m---------------------------------------------------------------------------\u001b[0m",
      "\u001b[1;31mNameError\u001b[0m                                 Traceback (most recent call last)",
      "Input \u001b[1;32mIn [41]\u001b[0m, in \u001b[0;36m<cell line: 1>\u001b[1;34m()\u001b[0m\n\u001b[1;32m----> 1\u001b[0m url \u001b[38;5;241m=\u001b[39m \u001b[43msonglink\u001b[49m\u001b[38;5;66;03m#find new url and updata\u001b[39;00m\n\u001b[0;32m      2\u001b[0m \u001b[38;5;28;01mwith\u001b[39;00m req\u001b[38;5;241m.\u001b[39murlopen(url) \u001b[38;5;28;01mas\u001b[39;00m response:\n\u001b[0;32m      3\u001b[0m     data \u001b[38;5;241m=\u001b[39m response\u001b[38;5;241m.\u001b[39mread()\u001b[38;5;241m.\u001b[39mdecode(\u001b[38;5;124m\"\u001b[39m\u001b[38;5;124mutf-8\u001b[39m\u001b[38;5;124m\"\u001b[39m)\n",
      "\u001b[1;31mNameError\u001b[0m: name 'songlink' is not defined"
     ]
    }
   ],
   "source": [
    "url = songlink#find new url and updata\n",
    "with req.urlopen(url) as response:\n",
    "    data = response.read().decode(\"utf-8\")\n",
    "#print(data)"
   ]
  },
  {
   "cell_type": "code",
   "execution_count": 42,
   "metadata": {},
   "outputs": [
    {
     "name": "stdout",
     "output_type": "stream",
     "text": [
      "なにわ男子 – 櫻色落日\n"
     ]
    }
   ],
   "source": [
    "#解析原始碼\n",
    "import bs4\n",
    "lyriclink = bs4.BeautifulSoup(data,\"html.parser\") #解析\n",
    "print(lyriclink.title.string) #嘗試抓網站名稱"
   ]
  },
  {
   "cell_type": "markdown",
   "metadata": {},
   "source": [
    "### 歌詞"
   ]
  },
  {
   "cell_type": "code",
   "execution_count": 43,
   "metadata": {},
   "outputs": [
    {
     "data": {
      "text/plain": [
       "[]"
      ]
     },
     "execution_count": 43,
     "metadata": {},
     "output_type": "execute_result"
    }
   ],
   "source": [
    "lyric = lyriclink.find(\"div\", class_=\"entry-content\").find_all(\"strong\")\n",
    "lyric \n",
    "#疑問:怎麼去掉<strong>，只取出歌詞\n",
    "#lyric.strong.string\n",
    "#re.findall(\"[^\\x00-\\xff ]+\",lyrics)\n",
    "#|<strong>[^\\x00-\\xff …]+[a-zA-Z ]+|<strong>[a-zA-Z -]+"
   ]
  },
  {
   "cell_type": "code",
   "execution_count": 44,
   "metadata": {},
   "outputs": [
    {
     "data": {
      "text/plain": [
       "bs4.element.ResultSet"
      ]
     },
     "execution_count": 44,
     "metadata": {},
     "output_type": "execute_result"
    }
   ],
   "source": [
    "type(lyric)"
   ]
  },
  {
   "cell_type": "markdown",
   "metadata": {},
   "source": [
    "# 整理資料"
   ]
  },
  {
   "cell_type": "code",
   "execution_count": 45,
   "metadata": {},
   "outputs": [],
   "source": [
    "groups_dict = {}\n",
    "url = \"https://minniejplyrics.wordpress.com/\"#back home page\n",
    "with req.urlopen(url) as response:\n",
    "    data = response.read().decode(\"utf-8\")\n",
    "home = bs4.BeautifulSoup(data,\"html.parser\") #解析"
   ]
  },
  {
   "cell_type": "code",
   "execution_count": 46,
   "metadata": {},
   "outputs": [
    {
     "data": {
      "text/plain": [
       "['なにわ男子',\n",
       " 'ジャニーズWEST',\n",
       " 'Hey! Say! JUMP',\n",
       " 'King & Prince',\n",
       " 'SEVENTEEN',\n",
       " 'Snow Man']"
      ]
     },
     "execution_count": 46,
     "metadata": {},
     "output_type": "execute_result"
    }
   ],
   "source": [
    "#列出所有團體(等等要把牠們變KEY)\n",
    "groups_code = [\"cat-item cat-item-651000862\",\"cat-item cat-item-212885610\",\"cat-item cat-item-1863887\",\"cat-item cat-item-53466192\",\"cat-item cat-item-92515\",\"cat-item cat-item-2597269\"]\n",
    "groups_list = []\n",
    "for group in groups_code:\n",
    "    groups_list.append(home.find(\"li\",class_= group).a.string)\n",
    "groups_list"
   ]
  },
  {
   "cell_type": "code",
   "execution_count": 47,
   "metadata": {},
   "outputs": [
    {
     "data": {
      "text/plain": [
       "{'なにわ男子': [['「ハッピーサプライズ」'],\n",
       "  ['「Emerald」'],\n",
       "  ['「Timeless Love」'],\n",
       "  ['「シンシア」'],\n",
       "  ['「サチアレ」'],\n",
       "  ['「The Answer」'],\n",
       "  ['「Soda Pop Love」'],\n",
       "  ['「僕空～足跡のない未来～」'],\n",
       "  ['「夢わたし」'],\n",
       "  ['「ダイヤモンドスマイル」']],\n",
       " 'ジャニーズWEST': [['「星の雨」'], ['「黎明」'], ['「証拠」']],\n",
       " 'Hey! Say! JUMP': [['「Fate or\\xa0Destiny」'], ['「春玄鳥」'], ['「恋をするんだ」']],\n",
       " 'King & Prince': [['「ツキヨミ」'],\n",
       "  ['「TraceTrace」'],\n",
       "  ['「Dream\\xa0in」'],\n",
       "  ['「ichiban」'],\n",
       "  ['「踊るように人生を。」'],\n",
       "  [],\n",
       "  ['「恋降る月夜に君想ふ」'],\n",
       "  []],\n",
       " 'SEVENTEEN': [['「あいのちから」']],\n",
       " 'Snow Man': [['「ボクとキミと」'],\n",
       "  ['「僕に大切にされてね。」'],\n",
       "  ['「オレンジkiss」'],\n",
       "  ['「ブラザービート」'],\n",
       "  ['「D.D.」'],\n",
       "  ['「Christmas wishes」'],\n",
       "  ['「HELLO HELLO」'],\n",
       "  ['「Secret Touch」']]}"
      ]
     },
     "execution_count": 47,
     "metadata": {},
     "output_type": "execute_result"
    }
   ],
   "source": [
    "r = 0 #groupcode counter\n",
    "for g in groups_list:\n",
    "    url = home.find(\"li\",class_= groups_code[r]).a[\"href\"]#find new url and updata\n",
    "    #print(url)\n",
    "    with req.urlopen(url) as response:\n",
    "        data = response.read().decode(\"utf-8\")\n",
    "    group_link = bs4.BeautifulSoup(data,\"html.parser\") #解析\n",
    "    songslist = group_link.find_all(\"h2\",class_=\"entry-title\")#找出歌\n",
    "    #print(songslist)\n",
    "    songs = []\n",
    "    for song in songslist:\n",
    "        songs.append(re.findall(\"「[^\\x00-\\xff]+」|「[a-zA-Z .\\xa0]+」|「[^\\x00-\\xff]+[a-zA-Z .]+」\",song.a.string))\n",
    "    groups_dict[g] = songs\n",
    "    r = r + 1#換團體\n",
    "groups_dict"
   ]
  },
  {
   "cell_type": "code",
   "execution_count": 48,
   "metadata": {},
   "outputs": [
    {
     "data": {
      "text/plain": [
       "dict"
      ]
     },
     "execution_count": 48,
     "metadata": {},
     "output_type": "execute_result"
    }
   ],
   "source": [
    "type(groups_dict)"
   ]
  },
  {
   "cell_type": "markdown",
   "metadata": {},
   "source": [
    "## 轉檔"
   ]
  },
  {
   "cell_type": "markdown",
   "metadata": {},
   "source": [
    "### json"
   ]
  },
  {
   "cell_type": "code",
   "execution_count": 49,
   "metadata": {},
   "outputs": [],
   "source": [
    "with open('Data.json', 'w', encoding='utf-8') as file:\n",
    "    json.dump(groups_dict, file, ensure_ascii=False)"
   ]
  },
  {
   "cell_type": "markdown",
   "metadata": {},
   "source": [
    "### csv"
   ]
  },
  {
   "cell_type": "code",
   "execution_count": null,
   "metadata": {},
   "outputs": [],
   "source": [
    "(pd.DataFrame.from_dict(data=mydict, orient='index')\n",
    "   .to_csv('dict_file.csv', header=False))"
   ]
  }
 ],
 "metadata": {
  "kernelspec": {
   "display_name": "Python 3 (ipykernel)",
   "language": "python",
   "name": "python3"
  },
  "language_info": {
   "codemirror_mode": {
    "name": "ipython",
    "version": 3
   },
   "file_extension": ".py",
   "mimetype": "text/x-python",
   "name": "python",
   "nbconvert_exporter": "python",
   "pygments_lexer": "ipython3",
   "version": "3.9.12"
  },
  "vscode": {
   "interpreter": {
    "hash": "369f2c481f4da34e4445cda3fffd2e751bd1c4d706f27375911949ba6bb62e1c"
   }
  }
 },
 "nbformat": 4,
 "nbformat_minor": 2
}
