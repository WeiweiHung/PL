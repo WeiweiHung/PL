{
 "cells": [
  {
   "cell_type": "markdown",
   "metadata": {},
   "source": [
    "[使用的網站](https://minniejplyrics.wordpress.com/)"
   ]
  },
  {
   "cell_type": "code",
   "execution_count": 87,
   "metadata": {},
   "outputs": [],
   "source": [
    "import urllib.request as req #導入連線網站的模組\n",
    "import json\n",
    "import csv\n",
    "import pandas as pd\n",
    "import re\n",
    "#抓取網頁\n",
    "url = \"https://minniejplyrics.wordpress.com/\"\n",
    "with req.urlopen(url) as response:\n",
    "    data = response.read().decode(\"utf-8\")\n",
    "#print(data) #(備註:並無出現教學影片中的連線錯誤問題，所以沒再加request headers)"
   ]
  },
  {
   "cell_type": "code",
   "execution_count": 88,
   "metadata": {},
   "outputs": [
    {
     "name": "stdout",
     "output_type": "stream",
     "text": [
      "櫻色落日\n"
     ]
    }
   ],
   "source": [
    "#解析原始碼\n",
    "import bs4\n",
    "home = bs4.BeautifulSoup(data,\"html.parser\") #解析\n",
    "print(home.title.string) #嘗試抓網站名稱"
   ]
  },
  {
   "cell_type": "markdown",
   "metadata": {},
   "source": [
    "# 印出的首頁的歌"
   ]
  },
  {
   "cell_type": "code",
   "execution_count": 89,
   "metadata": {},
   "outputs": [
    {
     "name": "stdout",
     "output_type": "stream",
     "text": [
      "【中文歌詞翻譯】King & Prince「ツキヨミ」\n"
     ]
    }
   ],
   "source": [
    "title_test = home.find(\"h2\",class_=\"entry-title\") #備註:class後有底線。find()找到第一個符合條件的\n",
    "print(title_test.a.string)"
   ]
  },
  {
   "cell_type": "code",
   "execution_count": 90,
   "metadata": {},
   "outputs": [
    {
     "name": "stdout",
     "output_type": "stream",
     "text": [
      "[<h2 class=\"entry-title\"><a href=\"https://minniejplyrics.wordpress.com/2022/10/29/%e3%80%90%e4%b8%ad%e6%96%87%e6%ad%8c%e8%a9%9e%e7%bf%bb%e8%ad%af%e3%80%91king-prince%e3%80%8c%e3%83%84%e3%82%ad%e3%83%a8%e3%83%9f%e3%80%8d/\" rel=\"bookmark\">【中文歌詞翻譯】King &amp; Prince「ツキヨミ」</a></h2>, <h2 class=\"entry-title\"><a href=\"https://minniejplyrics.wordpress.com/2022/10/28/%e3%80%90%e4%b8%ad%e6%96%87%e6%ad%8c%e8%a9%9e%e7%bf%bb%e8%ad%af%e3%80%91%e3%81%aa%e3%81%ab%e3%82%8f%e7%94%b7%e5%ad%90%e3%80%8c%e3%83%8f%e3%83%83%e3%83%94%e3%83%bc%e3%82%b5%e3%83%97%e3%83%a9%e3%82%a4/\" rel=\"bookmark\">【中文歌詞翻譯】なにわ男子「ハッピーサプライズ」</a></h2>, <h2 class=\"entry-title\"><a href=\"https://minniejplyrics.wordpress.com/2022/09/02/%e3%80%90%e4%b8%ad%e6%96%87%e6%ad%8c%e8%a9%9e%e7%bf%bb%e8%ad%af%e3%80%91snow-man%e3%80%8c%e3%83%9c%e3%82%af%e3%81%a8%e3%82%ad%e3%83%9f%e3%81%a8%e3%80%8d/\" rel=\"bookmark\">【中文歌詞翻譯】Snow Man「ボクとキミと」</a></h2>, <h2 class=\"entry-title\"><a href=\"https://minniejplyrics.wordpress.com/2022/08/26/%e3%80%90%e4%b8%ad%e6%96%87%e6%ad%8c%e8%a9%9e%e7%bf%bb%e8%ad%af%e3%80%91hey-say-jump%e3%80%8cfate-or-destiny%e3%80%8d/\" rel=\"bookmark\">【中文歌詞翻譯】Hey! Say! JUMP「Fate or Destiny」</a></h2>, <h2 class=\"entry-title\"><a href=\"https://minniejplyrics.wordpress.com/2022/08/18/%e3%80%90%e4%b8%ad%e6%96%87%e6%ad%8c%e8%a9%9e%e7%bf%bb%e8%ad%af%e3%80%91king-prince%e3%80%8ctracetrace%e3%80%8d/\" rel=\"bookmark\">【中文歌詞翻譯】King &amp; Prince「TraceTrace」</a></h2>, <h2 class=\"entry-title\"><a href=\"https://minniejplyrics.wordpress.com/2022/07/30/%e3%80%90%e4%b8%ad%e6%96%87%e6%ad%8c%e8%a9%9e%e7%bf%bb%e8%ad%af%e3%80%91%e3%81%aa%e3%81%ab%e3%82%8f%e7%94%b7%e5%ad%90%e3%80%8cemerald%e3%80%8d/\" rel=\"bookmark\">【中文歌詞翻譯】なにわ男子「Emerald」</a></h2>, <h2 class=\"entry-title\"><a href=\"https://minniejplyrics.wordpress.com/2022/07/28/%e3%80%90%e4%b8%ad%e6%96%87%e6%ad%8c%e8%a9%9e%e7%bf%bb%e8%ad%af%e3%80%91snow-man%e3%80%8c%e5%83%95%e3%81%ab%e5%a4%a7%e5%88%87%e3%81%ab%e3%81%95%e3%82%8c%e3%81%a6%e3%81%ad%e3%80%82%e3%80%8d/\" rel=\"bookmark\">【中文歌詞翻譯】Snow Man「僕に大切にされてね。」</a></h2>, <h2 class=\"entry-title\"><a href=\"https://minniejplyrics.wordpress.com/2022/07/13/%e3%80%90%e4%b8%ad%e6%96%87%e6%ad%8c%e8%a9%9e%e7%bf%bb%e8%ad%af%e3%80%91king-prince%e3%80%8cdream-in%e3%80%8d/\" rel=\"bookmark\">【中文歌詞翻譯】King &amp; Prince「Dream in」</a></h2>, <h2 class=\"entry-title\"><a href=\"https://minniejplyrics.wordpress.com/2022/07/10/%e3%80%90%e4%b8%ad%e6%96%87%e6%ad%8c%e8%a9%9e%e7%bf%bb%e8%ad%af%e3%80%91%e3%82%b8%e3%83%a3%e3%83%8b%e3%83%bc%e3%82%bawest%e3%80%8c%e6%98%9f%e3%81%ae%e9%9b%a8%e3%80%8d/\" rel=\"bookmark\">【中文歌詞翻譯】ジャニーズWEST「星の雨」</a></h2>, <h2 class=\"entry-title\"><a href=\"https://minniejplyrics.wordpress.com/2022/07/06/%e3%80%90%e4%b8%ad%e6%96%87%e6%ad%8c%e8%a9%9e%e7%bf%bb%e8%ad%af%e3%80%91%e3%81%aa%e3%81%ab%e3%82%8f%e7%94%b7%e5%ad%90%e3%80%8ctimeless-love%e3%80%8d/\" rel=\"bookmark\">【中文歌詞翻譯】なにわ男子「Timeless Love」</a></h2>]\n"
     ]
    }
   ],
   "source": [
    "titles = home.find_all(\"h2\",class_=\"entry-title\") #找到第一頁所有歌\n",
    "print(titles)"
   ]
  },
  {
   "cell_type": "code",
   "execution_count": 91,
   "metadata": {},
   "outputs": [
    {
     "name": "stdout",
     "output_type": "stream",
     "text": [
      "【中文歌詞翻譯】King & Prince「ツキヨミ」\n",
      "【中文歌詞翻譯】なにわ男子「ハッピーサプライズ」\n",
      "【中文歌詞翻譯】Snow Man「ボクとキミと」\n",
      "【中文歌詞翻譯】Hey! Say! JUMP「Fate or Destiny」\n",
      "【中文歌詞翻譯】King & Prince「TraceTrace」\n",
      "【中文歌詞翻譯】なにわ男子「Emerald」\n",
      "【中文歌詞翻譯】Snow Man「僕に大切にされてね。」\n",
      "【中文歌詞翻譯】King & Prince「Dream in」\n",
      "【中文歌詞翻譯】ジャニーズWEST「星の雨」\n",
      "【中文歌詞翻譯】なにわ男子「Timeless Love」\n"
     ]
    },
    {
     "data": {
      "text/plain": [
       "['【中文歌詞翻譯】King & Prince「ツキヨミ」',\n",
       " '【中文歌詞翻譯】なにわ男子「ハッピーサプライズ」',\n",
       " '【中文歌詞翻譯】Snow Man「ボクとキミと」',\n",
       " '【中文歌詞翻譯】Hey! Say! JUMP「Fate or\\xa0Destiny」',\n",
       " '【中文歌詞翻譯】King & Prince「TraceTrace」',\n",
       " '【中文歌詞翻譯】なにわ男子「Emerald」',\n",
       " '【中文歌詞翻譯】Snow Man「僕に大切にされてね。」',\n",
       " '【中文歌詞翻譯】King & Prince「Dream\\xa0in」',\n",
       " '【中文歌詞翻譯】ジャニーズWEST「星の雨」',\n",
       " '【中文歌詞翻譯】なにわ男子「Timeless Love」']"
      ]
     },
     "execution_count": 91,
     "metadata": {},
     "output_type": "execute_result"
    }
   ],
   "source": [
    "songs = []\n",
    "for title in titles:\n",
    "    print(title.a.string) #第一頁所有歌印出\n",
    "    songs.append(title.a.string)\n",
    "songs"
   ]
  },
  {
   "cell_type": "code",
   "execution_count": 92,
   "metadata": {},
   "outputs": [
    {
     "name": "stdout",
     "output_type": "stream",
     "text": [
      "['「ツキヨミ」']\n",
      "['「ハッピーサプライズ」']\n",
      "['「ボクとキミと」']\n",
      "['「Fate or\\xa0Destiny」']\n",
      "['「TraceTrace」']\n",
      "['「Emerald」']\n",
      "['「僕に大切にされてね。」']\n",
      "['「Dream\\xa0in」']\n",
      "['「星の雨」']\n",
      "['「Timeless Love」']\n"
     ]
    }
   ],
   "source": [
    "songs = []\n",
    "for title in titles:\n",
    "    #print(title.a.string) #第一頁所有歌名印出\n",
    "    song = re.findall(\"「[^\\x00-\\xff]+」|「[a-zA-Z .\\xa0]+」|「[^\\x00-\\xff]+[a-zA-Z .]+」\",title.a.string)#正則化\n",
    "    print(song)"
   ]
  },
  {
   "cell_type": "markdown",
   "metadata": {},
   "source": [
    "# 嘗試依團體翻頁找歌"
   ]
  },
  {
   "cell_type": "code",
   "execution_count": 93,
   "metadata": {},
   "outputs": [
    {
     "data": {
      "text/plain": [
       "['なにわ男子',\n",
       " 'ジャニーズWEST',\n",
       " 'Hey! Say! JUMP',\n",
       " 'King & Prince',\n",
       " 'SEVENTEEN',\n",
       " 'Snow Man']"
      ]
     },
     "execution_count": 93,
     "metadata": {},
     "output_type": "execute_result"
    }
   ],
   "source": [
    "#嘗試翻頁，從文章分類下的團體下手\n",
    "groups_list = [\"cat-item cat-item-651000862\",\"cat-item cat-item-212885610\",\"cat-item cat-item-1863887\",\"cat-item cat-item-53466192\",\"cat-item cat-item-92515\",\"cat-item cat-item-2597269\"]\n",
    "groups = []\n",
    "for group in groups_list:\n",
    "    groups.append(home.find(\"li\",class_= group).a.string)\n",
    "#groups = root.find_all(\"li\",class_= \"cat-item cat-item-651000862\")\n",
    "groups"
   ]
  },
  {
   "cell_type": "markdown",
   "metadata": {},
   "source": [
    "## 翻頁進每個團體"
   ]
  },
  {
   "cell_type": "code",
   "execution_count": 94,
   "metadata": {},
   "outputs": [
    {
     "name": "stdout",
     "output_type": "stream",
     "text": [
      "輸入團體名稱(なにわ男子、ジャニーズWEST、Hey! Say! JUMP、King & Prince、SEVENTEEN、Snow Man)なにわ男子\n"
     ]
    }
   ],
   "source": [
    "group = input(\"輸入團體名稱(なにわ男子、ジャニーズWEST、Hey! Say! JUMP、King & Prince、SEVENTEEN、Snow Man)\")#輸入"
   ]
  },
  {
   "cell_type": "code",
   "execution_count": 97,
   "metadata": {},
   "outputs": [
    {
     "name": "stdout",
     "output_type": "stream",
     "text": [
      "なにわ男子\n",
      "cat-item cat-item-651000862\n"
     ]
    }
   ],
   "source": [
    "#將輸入團體對照相應代碼\n",
    "n = 0\n",
    "for i in groups:\n",
    "    if i == group:\n",
    "        print(group)#group name test\n",
    "        print(groups_list[n])#group code test\n",
    "        groupcode = groups_list[n]\n",
    "    n = n + 1"
   ]
  },
  {
   "cell_type": "code",
   "execution_count": 98,
   "metadata": {},
   "outputs": [],
   "source": [
    "#依團體更新網址\n",
    "url = home.find(\"li\",class_= groupcode).a[\"href\"]#find new url and updata\n",
    "with req.urlopen(url) as response:\n",
    "    data = response.read().decode(\"utf-8\")\n",
    "#print(data)"
   ]
  },
  {
   "cell_type": "code",
   "execution_count": 99,
   "metadata": {},
   "outputs": [
    {
     "name": "stdout",
     "output_type": "stream",
     "text": [
      "なにわ男子 – 櫻色落日\n"
     ]
    }
   ],
   "source": [
    "#解析原始碼\n",
    "import bs4\n",
    "grouplink = bs4.BeautifulSoup(data,\"html.parser\") #解析\n",
    "print(grouplink.title.string) #嘗試抓網站名稱\n"
   ]
  },
  {
   "cell_type": "markdown",
   "metadata": {},
   "source": [
    "## 找出團體的歌"
   ]
  },
  {
   "cell_type": "code",
   "execution_count": 100,
   "metadata": {},
   "outputs": [
    {
     "name": "stdout",
     "output_type": "stream",
     "text": [
      "[['「ハッピーサプライズ」'], ['「Emerald」'], ['「Timeless Love」'], ['「シンシア」'], ['「サチアレ」'], ['「The Answer」'], ['「Soda Pop Love」'], ['「僕空～足跡のない未来～」'], ['「夢わたし」'], ['「ダイヤモンドスマイル」']]\n",
      "[<h2 class=\"entry-title\"><a href=\"https://minniejplyrics.wordpress.com/2022/10/28/%e3%80%90%e4%b8%ad%e6%96%87%e6%ad%8c%e8%a9%9e%e7%bf%bb%e8%ad%af%e3%80%91%e3%81%aa%e3%81%ab%e3%82%8f%e7%94%b7%e5%ad%90%e3%80%8c%e3%83%8f%e3%83%83%e3%83%94%e3%83%bc%e3%82%b5%e3%83%97%e3%83%a9%e3%82%a4/\" rel=\"bookmark\">【中文歌詞翻譯】なにわ男子「ハッピーサプライズ」</a></h2>, <h2 class=\"entry-title\"><a href=\"https://minniejplyrics.wordpress.com/2022/07/30/%e3%80%90%e4%b8%ad%e6%96%87%e6%ad%8c%e8%a9%9e%e7%bf%bb%e8%ad%af%e3%80%91%e3%81%aa%e3%81%ab%e3%82%8f%e7%94%b7%e5%ad%90%e3%80%8cemerald%e3%80%8d/\" rel=\"bookmark\">【中文歌詞翻譯】なにわ男子「Emerald」</a></h2>, <h2 class=\"entry-title\"><a href=\"https://minniejplyrics.wordpress.com/2022/07/06/%e3%80%90%e4%b8%ad%e6%96%87%e6%ad%8c%e8%a9%9e%e7%bf%bb%e8%ad%af%e3%80%91%e3%81%aa%e3%81%ab%e3%82%8f%e7%94%b7%e5%ad%90%e3%80%8ctimeless-love%e3%80%8d/\" rel=\"bookmark\">【中文歌詞翻譯】なにわ男子「Timeless Love」</a></h2>, <h2 class=\"entry-title\"><a href=\"https://minniejplyrics.wordpress.com/2022/07/04/%e3%80%90%e4%b8%ad%e6%96%87%e6%ad%8c%e8%a9%9e%e7%bf%bb%e8%ad%af%e3%80%91%e3%81%aa%e3%81%ab%e3%82%8f%e7%94%b7%e5%ad%90%e3%80%8c%e3%82%b7%e3%83%b3%e3%82%b7%e3%82%a2%e3%80%8d/\" rel=\"bookmark\">【中文歌詞翻譯】なにわ男子「シンシア」</a></h2>, <h2 class=\"entry-title\"><a href=\"https://minniejplyrics.wordpress.com/2022/04/24/%e3%80%90%e4%b8%ad%e6%96%87%e6%ad%8c%e8%a9%9e%e7%bf%bb%e8%ad%af%e3%80%91%e3%81%aa%e3%81%ab%e3%82%8f%e7%94%b7%e5%ad%90%e3%80%8c%e3%82%b5%e3%83%81%e3%82%a2%e3%83%ac%e3%80%8d/\" rel=\"bookmark\">【中文歌詞翻譯】なにわ男子「サチアレ」</a></h2>, <h2 class=\"entry-title\"><a href=\"https://minniejplyrics.wordpress.com/2022/04/23/%e3%80%90%e4%b8%ad%e6%96%87%e6%ad%8c%e8%a9%9e%e7%bf%bb%e8%ad%af%e3%80%91%e3%81%aa%e3%81%ab%e3%82%8f%e7%94%b7%e5%ad%90%e3%80%8cthe-answer%e3%80%8d/\" rel=\"bookmark\">【中文歌詞翻譯】なにわ男子「The Answer」</a></h2>, <h2 class=\"entry-title\"><a href=\"https://minniejplyrics.wordpress.com/2022/02/06/%e3%80%90%e4%b8%ad%e6%96%87%e6%ad%8c%e8%a9%9e%e7%bf%bb%e8%ad%af%e3%80%91%e3%81%aa%e3%81%ab%e3%82%8f%e7%94%b7%e5%ad%90%e3%80%8csoda-pop-love%e3%80%8d/\" rel=\"bookmark\">【中文歌詞翻譯】なにわ男子「Soda Pop Love」</a></h2>, <h2 class=\"entry-title\"><a href=\"https://minniejplyrics.wordpress.com/2022/01/24/%e3%80%90%e4%b8%ad%e6%96%87%e6%ad%8c%e8%a9%9e%e7%bf%bb%e8%ad%af%e3%80%91%e3%81%aa%e3%81%ab%e3%82%8f%e7%94%b7%e5%ad%90%e3%80%8c%e5%83%95%e7%a9%ba%ef%bd%9e%e8%b6%b3%e8%b7%a1%e3%81%ae%e3%81%aa%e3%81%84/\" rel=\"bookmark\">【中文歌詞翻譯】なにわ男子「僕空～足跡のない未来～」</a></h2>, <h2 class=\"entry-title\"><a href=\"https://minniejplyrics.wordpress.com/2022/01/23/%e3%80%90%e4%b8%ad%e6%96%87%e6%ad%8c%e8%a9%9e%e7%bf%bb%e8%ad%af%e3%80%91%e3%81%aa%e3%81%ab%e3%82%8f%e7%94%b7%e5%ad%90%e3%80%8c%e5%a4%a2%e3%82%8f%e3%81%9f%e3%81%97%e3%80%8d/\" rel=\"bookmark\">【中文歌詞翻譯】なにわ男子「夢わたし」</a></h2>, <h2 class=\"entry-title\"><a href=\"https://minniejplyrics.wordpress.com/2021/12/26/%e3%80%90%e4%b8%ad%e6%96%87%e6%ad%8c%e8%a9%9e%e7%bf%bb%e8%ad%af%e3%80%91%e3%81%aa%e3%81%ab%e3%82%8f%e7%94%b7%e5%ad%90%e3%80%8c%e3%83%80%e3%82%a4%e3%83%a4%e3%83%a2%e3%83%b3%e3%83%89%e3%82%b9%e3%83%9e/\" rel=\"bookmark\">【中文歌詞翻譯】なにわ男子「ダイヤモンドスマイル」</a></h2>]\n",
      "['https://minniejplyrics.wordpress.com/2022/10/28/%e3%80%90%e4%b8%ad%e6%96%87%e6%ad%8c%e8%a9%9e%e7%bf%bb%e8%ad%af%e3%80%91%e3%81%aa%e3%81%ab%e3%82%8f%e7%94%b7%e5%ad%90%e3%80%8c%e3%83%8f%e3%83%83%e3%83%94%e3%83%bc%e3%82%b5%e3%83%97%e3%83%a9%e3%82%a4/', 'https://minniejplyrics.wordpress.com/2022/07/30/%e3%80%90%e4%b8%ad%e6%96%87%e6%ad%8c%e8%a9%9e%e7%bf%bb%e8%ad%af%e3%80%91%e3%81%aa%e3%81%ab%e3%82%8f%e7%94%b7%e5%ad%90%e3%80%8cemerald%e3%80%8d/', 'https://minniejplyrics.wordpress.com/2022/07/06/%e3%80%90%e4%b8%ad%e6%96%87%e6%ad%8c%e8%a9%9e%e7%bf%bb%e8%ad%af%e3%80%91%e3%81%aa%e3%81%ab%e3%82%8f%e7%94%b7%e5%ad%90%e3%80%8ctimeless-love%e3%80%8d/', 'https://minniejplyrics.wordpress.com/2022/07/04/%e3%80%90%e4%b8%ad%e6%96%87%e6%ad%8c%e8%a9%9e%e7%bf%bb%e8%ad%af%e3%80%91%e3%81%aa%e3%81%ab%e3%82%8f%e7%94%b7%e5%ad%90%e3%80%8c%e3%82%b7%e3%83%b3%e3%82%b7%e3%82%a2%e3%80%8d/', 'https://minniejplyrics.wordpress.com/2022/04/24/%e3%80%90%e4%b8%ad%e6%96%87%e6%ad%8c%e8%a9%9e%e7%bf%bb%e8%ad%af%e3%80%91%e3%81%aa%e3%81%ab%e3%82%8f%e7%94%b7%e5%ad%90%e3%80%8c%e3%82%b5%e3%83%81%e3%82%a2%e3%83%ac%e3%80%8d/', 'https://minniejplyrics.wordpress.com/2022/04/23/%e3%80%90%e4%b8%ad%e6%96%87%e6%ad%8c%e8%a9%9e%e7%bf%bb%e8%ad%af%e3%80%91%e3%81%aa%e3%81%ab%e3%82%8f%e7%94%b7%e5%ad%90%e3%80%8cthe-answer%e3%80%8d/', 'https://minniejplyrics.wordpress.com/2022/02/06/%e3%80%90%e4%b8%ad%e6%96%87%e6%ad%8c%e8%a9%9e%e7%bf%bb%e8%ad%af%e3%80%91%e3%81%aa%e3%81%ab%e3%82%8f%e7%94%b7%e5%ad%90%e3%80%8csoda-pop-love%e3%80%8d/', 'https://minniejplyrics.wordpress.com/2022/01/24/%e3%80%90%e4%b8%ad%e6%96%87%e6%ad%8c%e8%a9%9e%e7%bf%bb%e8%ad%af%e3%80%91%e3%81%aa%e3%81%ab%e3%82%8f%e7%94%b7%e5%ad%90%e3%80%8c%e5%83%95%e7%a9%ba%ef%bd%9e%e8%b6%b3%e8%b7%a1%e3%81%ae%e3%81%aa%e3%81%84/', 'https://minniejplyrics.wordpress.com/2022/01/23/%e3%80%90%e4%b8%ad%e6%96%87%e6%ad%8c%e8%a9%9e%e7%bf%bb%e8%ad%af%e3%80%91%e3%81%aa%e3%81%ab%e3%82%8f%e7%94%b7%e5%ad%90%e3%80%8c%e5%a4%a2%e3%82%8f%e3%81%9f%e3%81%97%e3%80%8d/', 'https://minniejplyrics.wordpress.com/2021/12/26/%e3%80%90%e4%b8%ad%e6%96%87%e6%ad%8c%e8%a9%9e%e7%bf%bb%e8%ad%af%e3%80%91%e3%81%aa%e3%81%ab%e3%82%8f%e7%94%b7%e5%ad%90%e3%80%8c%e3%83%80%e3%82%a4%e3%83%a4%e3%83%a2%e3%83%b3%e3%83%89%e3%82%b9%e3%83%9e/']\n"
     ]
    }
   ],
   "source": [
    "songs = []\n",
    "songs_link = []\n",
    "songs_list = grouplink.find_all(\"h2\",class_=\"entry-title\")\n",
    "for song in songs_list:\n",
    "    songs.append(re.findall(\"「[^\\x00-\\xff]+」|「[a-zA-Z .\\xa0]+」|「[^\\x00-\\xff]+[a-zA-Z .]+」\",song.a.string))\n",
    "    songs_link.append(song.a[\"href\"])\n",
    "print(songs)\n",
    "print(songs_list)\n",
    "print(songs_link)"
   ]
  },
  {
   "cell_type": "code",
   "execution_count": null,
   "metadata": {},
   "outputs": [],
   "source": [
    "song =\"「\" + input(\"輸入歌名\") + \"」\"\n"
   ]
  },
  {
   "cell_type": "code",
   "execution_count": 102,
   "metadata": {},
   "outputs": [],
   "source": [
    "song = '「ハッピーサプライズ」'"
   ]
  },
  {
   "cell_type": "code",
   "execution_count": 104,
   "metadata": {},
   "outputs": [
    {
     "data": {
      "text/plain": [
       "'「ハッピーサプライズ」'"
      ]
     },
     "execution_count": 104,
     "metadata": {},
     "output_type": "execute_result"
    }
   ],
   "source": [
    "song"
   ]
  },
  {
   "cell_type": "code",
   "execution_count": 105,
   "metadata": {},
   "outputs": [
    {
     "data": {
      "text/plain": [
       "[['「ハッピーサプライズ」'],\n",
       " ['「Emerald」'],\n",
       " ['「Timeless Love」'],\n",
       " ['「シンシア」'],\n",
       " ['「サチアレ」'],\n",
       " ['「The Answer」'],\n",
       " ['「Soda Pop Love」'],\n",
       " ['「僕空～足跡のない未来～」'],\n",
       " ['「夢わたし」'],\n",
       " ['「ダイヤモンドスマイル」']]"
      ]
     },
     "execution_count": 105,
     "metadata": {},
     "output_type": "execute_result"
    }
   ],
   "source": [
    "songs"
   ]
  },
  {
   "cell_type": "code",
   "execution_count": 109,
   "metadata": {},
   "outputs": [
    {
     "data": {
      "text/plain": [
       "list"
      ]
     },
     "execution_count": 109,
     "metadata": {},
     "output_type": "execute_result"
    }
   ],
   "source": [
    "type(songs)"
   ]
  },
  {
   "cell_type": "code",
   "execution_count": 117,
   "metadata": {},
   "outputs": [
    {
     "name": "stdout",
     "output_type": "stream",
     "text": [
      "<class 'str'>\n",
      "「ハッピーサプライズ」\n",
      "<class 'str'>\n",
      "「Emerald」\n",
      "<class 'str'>\n",
      "「Timeless Love」\n",
      "<class 'str'>\n",
      "「シンシア」\n",
      "<class 'str'>\n",
      "「サチアレ」\n",
      "<class 'str'>\n",
      "「The Answer」\n",
      "<class 'str'>\n",
      "「Soda Pop Love」\n",
      "<class 'str'>\n",
      "「僕空～足跡のない未来～」\n",
      "<class 'str'>\n",
      "「夢わたし」\n",
      "<class 'str'>\n",
      "「ダイヤモンドスマイル」\n"
     ]
    }
   ],
   "source": [
    "s = 0\n",
    "for i in songs:\n",
    "    print( type(i[0]) )\n",
    "    print( i[0] )\n",
    "    if i[0] == song:\n",
    "        songlink = songs_link[s]\n",
    "    s = s + 1\n",
    "#print(songlink)"
   ]
  },
  {
   "cell_type": "code",
   "execution_count": 118,
   "metadata": {},
   "outputs": [
    {
     "data": {
      "text/plain": [
       "'https://minniejplyrics.wordpress.com/2022/10/28/%e3%80%90%e4%b8%ad%e6%96%87%e6%ad%8c%e8%a9%9e%e7%bf%bb%e8%ad%af%e3%80%91%e3%81%aa%e3%81%ab%e3%82%8f%e7%94%b7%e5%ad%90%e3%80%8c%e3%83%8f%e3%83%83%e3%83%94%e3%83%bc%e3%82%b5%e3%83%97%e3%83%a9%e3%82%a4/'"
      ]
     },
     "execution_count": 118,
     "metadata": {},
     "output_type": "execute_result"
    }
   ],
   "source": [
    "songlink"
   ]
  },
  {
   "cell_type": "code",
   "execution_count": 119,
   "metadata": {},
   "outputs": [],
   "source": [
    "url = songlink#find new url and updata\n",
    "with req.urlopen(url) as response:\n",
    "    data = response.read().decode(\"utf-8\")\n",
    "#print(data)"
   ]
  },
  {
   "cell_type": "code",
   "execution_count": 120,
   "metadata": {},
   "outputs": [
    {
     "name": "stdout",
     "output_type": "stream",
     "text": [
      "【中文歌詞翻譯】なにわ男子「ハッピーサプライズ」 – 櫻色落日\n"
     ]
    }
   ],
   "source": [
    "#解析原始碼\n",
    "import bs4\n",
    "lyriclink = bs4.BeautifulSoup(data,\"html.parser\") #解析\n",
    "print(lyriclink.title.string) #嘗試抓網站名稱"
   ]
  },
  {
   "cell_type": "markdown",
   "metadata": {},
   "source": [
    "### 歌詞"
   ]
  },
  {
   "cell_type": "code",
   "execution_count": 123,
   "metadata": {},
   "outputs": [
    {
     "data": {
      "text/plain": [
       "[<strong>「ハッピーサプライズ」（快樂驚喜）</strong>,\n",
       " <strong>かじかむ手　握った時</strong>,\n",
       " <strong>「ありがとう」って　君は笑った</strong>,\n",
       " <strong>そんな風に　僕もいつか</strong>,\n",
       " <strong>素直になれるだろうか</strong>,\n",
       " <strong>去年よりも　早めの雪</strong>,\n",
       " <strong>粉のように　空に舞って</strong>,\n",
       " <strong>気づけばもう　街は忙しなく</strong>,\n",
       " <strong>色を変えていたんだ</strong>,\n",
       " <strong>特別な1日を君に</strong>,\n",
       " <strong>リボンをかけて渡そう</strong>,\n",
       " <strong>ロウソク1つ吹き消すたびに</strong>,\n",
       " <strong>愛しさが増すよ</strong>,\n",
       " <strong>Happy winter winter snow light</strong>,\n",
       " <strong>めいっぱいの愛を</strong>,\n",
       " <strong>君に贈ろう　見合ってほらsmile</strong>,\n",
       " <strong>一瞬も　止まらない恋だった</strong>,\n",
       " <strong>スピード上げたままsweet so sweet</strong>,\n",
       " <strong>Oh happy winter snow light</strong>,\n",
       " <strong>白く光って</strong>,\n",
       " <strong>鳴り止まない心の音</strong>,\n",
       " <strong>そのまま目を閉じて　扉を開けるよ</strong>,\n",
       " <strong>さあ今から　始まる2人だけの</strong>,\n",
       " <strong>ハッピーサプライズ</strong>,\n",
       " <strong>特別な1日を君に</strong>,\n",
       " <strong>心を込めて贈ろう</strong>,\n",
       " <strong>ロウソク1つ吹き消すたびに</strong>,\n",
       " <strong>思い出が灯る</strong>,\n",
       " <strong>happy winter snow light</strong>,\n",
       " <strong>雪の魔法で</strong>,\n",
       " <strong>聖なる鐘が鳴る夜に</strong>,\n",
       " <strong>Happy winter winter snow light</strong>,\n",
       " <strong>めいっぱいの愛を</strong>,\n",
       " <strong>君に贈ろう見合ってほらsmile</strong>,\n",
       " <strong>一瞬も止まらない恋だった</strong>,\n",
       " <strong>スピード上げたままsweet so sweet</strong>,\n",
       " <strong>Oh happy winter snow light</strong>,\n",
       " <strong>白く光って</strong>,\n",
       " <strong>鳴り止まない心の音</strong>,\n",
       " <strong>そのまま目を閉じて　扉を開けるよ</strong>,\n",
       " <strong>さあ今から　始まる2人だけの</strong>,\n",
       " <strong>ハッピーサプライズ<br/></strong>]"
      ]
     },
     "execution_count": 123,
     "metadata": {},
     "output_type": "execute_result"
    }
   ],
   "source": [
    "lyric = lyriclink.find(\"div\", class_=\"entry-content\").find_all(\"strong\")\n",
    "lyric\n",
    "#疑問:怎麼去掉<strong>，只取出歌詞\n",
    "#lyric.strong.string\n",
    "#re.findall(\"[^\\x00-\\xff ]+\",lyrics)\n",
    "#|<strong>[^\\x00-\\xff …]+[a-zA-Z ]+|<strong>[a-zA-Z -]+"
   ]
  },
  {
   "cell_type": "code",
   "execution_count": 78,
   "metadata": {},
   "outputs": [
    {
     "data": {
      "text/plain": [
       "bs4.element.ResultSet"
      ]
     },
     "execution_count": 78,
     "metadata": {},
     "output_type": "execute_result"
    }
   ],
   "source": [
    "type(lyric)"
   ]
  },
  {
   "cell_type": "markdown",
   "metadata": {},
   "source": [
    "# 整理資料"
   ]
  },
  {
   "cell_type": "code",
   "execution_count": 79,
   "metadata": {},
   "outputs": [],
   "source": [
    "groups_dict = {}\n",
    "url = \"https://minniejplyrics.wordpress.com/\"#back home page\n",
    "with req.urlopen(url) as response:\n",
    "    data = response.read().decode(\"utf-8\")\n",
    "home = bs4.BeautifulSoup(data,\"html.parser\") #解析"
   ]
  },
  {
   "cell_type": "code",
   "execution_count": 80,
   "metadata": {},
   "outputs": [
    {
     "data": {
      "text/plain": [
       "['なにわ男子',\n",
       " 'ジャニーズWEST',\n",
       " 'Hey! Say! JUMP',\n",
       " 'King & Prince',\n",
       " 'SEVENTEEN',\n",
       " 'Snow Man']"
      ]
     },
     "execution_count": 80,
     "metadata": {},
     "output_type": "execute_result"
    }
   ],
   "source": [
    "#列出所有團體(等等要把牠們變KEY)\n",
    "groups_code = [\"cat-item cat-item-651000862\",\"cat-item cat-item-212885610\",\"cat-item cat-item-1863887\",\"cat-item cat-item-53466192\",\"cat-item cat-item-92515\",\"cat-item cat-item-2597269\"]\n",
    "groups_list = []\n",
    "for group in groups_code:\n",
    "    groups_list.append(home.find(\"li\",class_= group).a.string)\n",
    "groups_list"
   ]
  },
  {
   "cell_type": "code",
   "execution_count": 83,
   "metadata": {},
   "outputs": [
    {
     "data": {
      "text/plain": [
       "{'なにわ男子': [['「ハッピーサプライズ」'],\n",
       "  ['「Emerald」'],\n",
       "  ['「Timeless Love」'],\n",
       "  ['「シンシア」'],\n",
       "  ['「サチアレ」'],\n",
       "  ['「The Answer」'],\n",
       "  ['「Soda Pop Love」'],\n",
       "  ['「僕空～足跡のない未来～」'],\n",
       "  ['「夢わたし」'],\n",
       "  ['「ダイヤモンドスマイル」']],\n",
       " 'ジャニーズWEST': [['「星の雨」'], ['「黎明」'], ['「証拠」']],\n",
       " 'Hey! Say! JUMP': [['「Fate or\\xa0Destiny」'], ['「春玄鳥」'], ['「恋をするんだ」']],\n",
       " 'King & Prince': [['「ツキヨミ」'],\n",
       "  ['「TraceTrace」'],\n",
       "  ['「Dream\\xa0in」'],\n",
       "  ['「ichiban」'],\n",
       "  ['「踊るように人生を。」'],\n",
       "  [],\n",
       "  ['「恋降る月夜に君想ふ」'],\n",
       "  []],\n",
       " 'SEVENTEEN': [['「あいのちから」']],\n",
       " 'Snow Man': [['「ボクとキミと」'],\n",
       "  ['「僕に大切にされてね。」'],\n",
       "  ['「オレンジkiss」'],\n",
       "  ['「ブラザービート」'],\n",
       "  ['「D.D.」'],\n",
       "  ['「Christmas wishes」'],\n",
       "  ['「HELLO HELLO」'],\n",
       "  ['「Secret Touch」']]}"
      ]
     },
     "execution_count": 83,
     "metadata": {},
     "output_type": "execute_result"
    }
   ],
   "source": [
    "r = 0 #groupcode counter\n",
    "for g in groups_list:\n",
    "    url = home.find(\"li\",class_= groups_code[r]).a[\"href\"]#find new url and updata\n",
    "    #print(url)\n",
    "    with req.urlopen(url) as response:\n",
    "        data = response.read().decode(\"utf-8\")\n",
    "    group_link = bs4.BeautifulSoup(data,\"html.parser\") #解析\n",
    "    songslist = group_link.find_all(\"h2\",class_=\"entry-title\")#找出歌\n",
    "    #print(songslist)\n",
    "    songs = []\n",
    "    for song in songslist:\n",
    "        songs.append(re.findall(\"「[^\\x00-\\xff]+」|「[a-zA-Z .\\xa0]+」|「[^\\x00-\\xff]+[a-zA-Z .]+」\",song.a.string))\n",
    "    groups_dict[g] = songs\n",
    "    r = r + 1#換團體\n",
    "groups_dict"
   ]
  },
  {
   "cell_type": "markdown",
   "metadata": {},
   "source": [
    "## 轉檔"
   ]
  },
  {
   "cell_type": "markdown",
   "metadata": {},
   "source": [
    "### json"
   ]
  },
  {
   "cell_type": "code",
   "execution_count": 84,
   "metadata": {},
   "outputs": [],
   "source": [
    "with open('Data.json', 'w', encoding='utf-8') as file:\n",
    "    json.dump(groups_dict, file, ensure_ascii=False)"
   ]
  },
  {
   "cell_type": "markdown",
   "metadata": {},
   "source": [
    "### csv"
   ]
  },
  {
   "cell_type": "code",
   "execution_count": 86,
   "metadata": {},
   "outputs": [],
   "source": [
    "(pd.DataFrame.from_dict(data=groups_dict, orient='index')\n",
    "   .to_csv('Data.csv', header=1))"
   ]
  },
  {
   "cell_type": "code",
   "execution_count": null,
   "metadata": {},
   "outputs": [],
   "source": []
  }
 ],
 "metadata": {
  "kernelspec": {
   "display_name": "Python 3 (ipykernel)",
   "language": "python",
   "name": "python3"
  },
  "language_info": {
   "codemirror_mode": {
    "name": "ipython",
    "version": 3
   },
   "file_extension": ".py",
   "mimetype": "text/x-python",
   "name": "python",
   "nbconvert_exporter": "python",
   "pygments_lexer": "ipython3",
   "version": "3.9.12"
  },
  "vscode": {
   "interpreter": {
    "hash": "369f2c481f4da34e4445cda3fffd2e751bd1c4d706f27375911949ba6bb62e1c"
   }
  }
 },
 "nbformat": 4,
 "nbformat_minor": 2
}
