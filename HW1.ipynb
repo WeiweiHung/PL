{
 "cells": [
  {
   "cell_type": "code",
   "execution_count": 3,
   "id": "f120900c",
   "metadata": {},
   "outputs": [
    {
     "data": {
      "text/plain": [
       "{'encoding': 'Big5', 'confidence': 0.99, 'language': 'Chinese'}"
      ]
     },
     "execution_count": 3,
     "metadata": {},
     "output_type": "execute_result"
    }
   ],
   "source": [
    "import pandas as pd\n",
    "# 由於csv檔內有python無法讀出之語言UFT-8\n",
    "\n",
    "## 先界定檔案所使用之語言\n",
    "import chardet\n",
    "with open(\"data.csv\", 'rb') as rawdata:\n",
    "    result = chardet.detect(rawdata.read(100000))\n",
    "result "
   ]
  },
  {
   "cell_type": "code",
   "execution_count": 4,
   "id": "db040542",
   "metadata": {},
   "outputs": [
    {
     "data": {
      "text/html": [
       "<div>\n",
       "<style scoped>\n",
       "    .dataframe tbody tr th:only-of-type {\n",
       "        vertical-align: middle;\n",
       "    }\n",
       "\n",
       "    .dataframe tbody tr th {\n",
       "        vertical-align: top;\n",
       "    }\n",
       "\n",
       "    .dataframe thead th {\n",
       "        text-align: right;\n",
       "    }\n",
       "</style>\n",
       "<table border=\"1\" class=\"dataframe\">\n",
       "  <thead>\n",
       "    <tr style=\"text-align: right;\">\n",
       "      <th></th>\n",
       "      <th>學號</th>\n",
       "      <th>性別</th>\n",
       "      <th>分發宿舍</th>\n",
       "      <th>分發寢室</th>\n",
       "      <th>分發床號</th>\n",
       "    </tr>\n",
       "  </thead>\n",
       "  <tbody>\n",
       "    <tr>\n",
       "      <th>0</th>\n",
       "      <td>40909026E</td>\n",
       "      <td>女</td>\n",
       "      <td>女一舍</td>\n",
       "      <td>5111</td>\n",
       "      <td>3</td>\n",
       "    </tr>\n",
       "    <tr>\n",
       "      <th>1</th>\n",
       "      <td>40920120L</td>\n",
       "      <td>女</td>\n",
       "      <td>女一舍</td>\n",
       "      <td>5111</td>\n",
       "      <td>4</td>\n",
       "    </tr>\n",
       "    <tr>\n",
       "      <th>2</th>\n",
       "      <td>40820124L</td>\n",
       "      <td>女</td>\n",
       "      <td>女一舍</td>\n",
       "      <td>5112</td>\n",
       "      <td>2</td>\n",
       "    </tr>\n",
       "    <tr>\n",
       "      <th>3</th>\n",
       "      <td>40826013L</td>\n",
       "      <td>女</td>\n",
       "      <td>女一舍</td>\n",
       "      <td>5112</td>\n",
       "      <td>3</td>\n",
       "    </tr>\n",
       "    <tr>\n",
       "      <th>4</th>\n",
       "      <td>40707218E</td>\n",
       "      <td>女</td>\n",
       "      <td>女一舍</td>\n",
       "      <td>5113</td>\n",
       "      <td>3</td>\n",
       "    </tr>\n",
       "  </tbody>\n",
       "</table>\n",
       "</div>"
      ],
      "text/plain": [
       "          學號 性別 分發宿舍  分發寢室  分發床號\n",
       "0  40909026E  女  女一舍  5111     3\n",
       "1  40920120L  女  女一舍  5111     4\n",
       "2  40820124L  女  女一舍  5112     2\n",
       "3  40826013L  女  女一舍  5112     3\n",
       "4  40707218E  女  女一舍  5113     3"
      ]
     },
     "execution_count": 4,
     "metadata": {},
     "output_type": "execute_result"
    }
   ],
   "source": [
    "## 讓pd讀檔並切換語言參數\n",
    "data = pd.read_csv(\"data.csv\",encoding = \"Big5\")\n",
    "data.head() #test"
   ]
  },
  {
   "cell_type": "code",
   "execution_count": 25,
   "id": "0c0eed4b",
   "metadata": {},
   "outputs": [
    {
     "data": {
      "text/html": [
       "<div>\n",
       "<style scoped>\n",
       "    .dataframe tbody tr th:only-of-type {\n",
       "        vertical-align: middle;\n",
       "    }\n",
       "\n",
       "    .dataframe tbody tr th {\n",
       "        vertical-align: top;\n",
       "    }\n",
       "\n",
       "    .dataframe thead th {\n",
       "        text-align: right;\n",
       "    }\n",
       "</style>\n",
       "<table border=\"1\" class=\"dataframe\">\n",
       "  <thead>\n",
       "    <tr style=\"text-align: right;\">\n",
       "      <th></th>\n",
       "      <th>學號</th>\n",
       "      <th>性別</th>\n",
       "      <th>分發宿舍</th>\n",
       "      <th>分發寢室</th>\n",
       "      <th>分發床號</th>\n",
       "    </tr>\n",
       "  </thead>\n",
       "  <tbody>\n",
       "    <tr>\n",
       "      <th>0</th>\n",
       "      <td>40909026E</td>\n",
       "      <td>女</td>\n",
       "      <td>女一舍</td>\n",
       "      <td>5111</td>\n",
       "      <td>3</td>\n",
       "    </tr>\n",
       "    <tr>\n",
       "      <th>3</th>\n",
       "      <td>40826013L</td>\n",
       "      <td>女</td>\n",
       "      <td>女一舍</td>\n",
       "      <td>5112</td>\n",
       "      <td>3</td>\n",
       "    </tr>\n",
       "    <tr>\n",
       "      <th>4</th>\n",
       "      <td>40707218E</td>\n",
       "      <td>女</td>\n",
       "      <td>女一舍</td>\n",
       "      <td>5113</td>\n",
       "      <td>3</td>\n",
       "    </tr>\n",
       "    <tr>\n",
       "      <th>7</th>\n",
       "      <td>40830043A</td>\n",
       "      <td>女</td>\n",
       "      <td>女一舍</td>\n",
       "      <td>5116</td>\n",
       "      <td>3</td>\n",
       "    </tr>\n",
       "    <tr>\n",
       "      <th>11</th>\n",
       "      <td>40957004O</td>\n",
       "      <td>女</td>\n",
       "      <td>女一舍</td>\n",
       "      <td>5118</td>\n",
       "      <td>3</td>\n",
       "    </tr>\n",
       "    <tr>\n",
       "      <th>...</th>\n",
       "      <td>...</td>\n",
       "      <td>...</td>\n",
       "      <td>...</td>\n",
       "      <td>...</td>\n",
       "      <td>...</td>\n",
       "    </tr>\n",
       "    <tr>\n",
       "      <th>875</th>\n",
       "      <td>40806132E</td>\n",
       "      <td>女</td>\n",
       "      <td>女一舍</td>\n",
       "      <td>5421</td>\n",
       "      <td>3</td>\n",
       "    </tr>\n",
       "    <tr>\n",
       "      <th>881</th>\n",
       "      <td>41022061L</td>\n",
       "      <td>女</td>\n",
       "      <td>女一舍</td>\n",
       "      <td>5422</td>\n",
       "      <td>3</td>\n",
       "    </tr>\n",
       "    <tr>\n",
       "      <th>887</th>\n",
       "      <td>40884250I</td>\n",
       "      <td>女</td>\n",
       "      <td>女一舍</td>\n",
       "      <td>5423</td>\n",
       "      <td>3</td>\n",
       "    </tr>\n",
       "    <tr>\n",
       "      <th>893</th>\n",
       "      <td>41060031T</td>\n",
       "      <td>女</td>\n",
       "      <td>女一舍</td>\n",
       "      <td>5430</td>\n",
       "      <td>3</td>\n",
       "    </tr>\n",
       "    <tr>\n",
       "      <th>899</th>\n",
       "      <td>41005027E</td>\n",
       "      <td>女</td>\n",
       "      <td>女一舍</td>\n",
       "      <td>5447</td>\n",
       "      <td>3</td>\n",
       "    </tr>\n",
       "  </tbody>\n",
       "</table>\n",
       "<p>154 rows × 5 columns</p>\n",
       "</div>"
      ],
      "text/plain": [
       "            學號 性別 分發宿舍  分發寢室  分發床號\n",
       "0    40909026E  女  女一舍  5111     3\n",
       "3    40826013L  女  女一舍  5112     3\n",
       "4    40707218E  女  女一舍  5113     3\n",
       "7    40830043A  女  女一舍  5116     3\n",
       "11   40957004O  女  女一舍  5118     3\n",
       "..         ... ..  ...   ...   ...\n",
       "875  40806132E  女  女一舍  5421     3\n",
       "881  41022061L  女  女一舍  5422     3\n",
       "887  40884250I  女  女一舍  5423     3\n",
       "893  41060031T  女  女一舍  5430     3\n",
       "899  41005027E  女  女一舍  5447     3\n",
       "\n",
       "[154 rows x 5 columns]"
      ]
     },
     "execution_count": 25,
     "metadata": {},
     "output_type": "execute_result"
    }
   ],
   "source": [
    "##老師示範如何和集\n",
    "data[ (data[\"分發床號\"] == 3) & (data[\"分發宿舍\"] == \"女一舍\") ]"
   ]
  },
  {
   "cell_type": "code",
   "execution_count": 30,
   "id": "b3cbae50",
   "metadata": {},
   "outputs": [
    {
     "name": "stdout",
     "output_type": "stream",
     "text": [
      "請輸入學號41071205h\n"
     ]
    },
    {
     "data": {
      "text/html": [
       "<div>\n",
       "<style scoped>\n",
       "    .dataframe tbody tr th:only-of-type {\n",
       "        vertical-align: middle;\n",
       "    }\n",
       "\n",
       "    .dataframe tbody tr th {\n",
       "        vertical-align: top;\n",
       "    }\n",
       "\n",
       "    .dataframe thead th {\n",
       "        text-align: right;\n",
       "    }\n",
       "</style>\n",
       "<table border=\"1\" class=\"dataframe\">\n",
       "  <thead>\n",
       "    <tr style=\"text-align: right;\">\n",
       "      <th></th>\n",
       "      <th>學號</th>\n",
       "      <th>性別</th>\n",
       "      <th>分發宿舍</th>\n",
       "      <th>分發寢室</th>\n",
       "      <th>分發床號</th>\n",
       "    </tr>\n",
       "  </thead>\n",
       "  <tbody>\n",
       "    <tr>\n",
       "      <th>317</th>\n",
       "      <td>41071205H</td>\n",
       "      <td>女</td>\n",
       "      <td>女一舍</td>\n",
       "      <td>5230</td>\n",
       "      <td>3</td>\n",
       "    </tr>\n",
       "  </tbody>\n",
       "</table>\n",
       "</div>"
      ],
      "text/plain": [
       "            學號 性別 分發宿舍  分發寢室  分發床號\n",
       "317  41071205H  女  女一舍  5230     3"
      ]
     },
     "execution_count": 30,
     "metadata": {},
     "output_type": "execute_result"
    }
   ],
   "source": [
    "##嘗試出入學號找出\n",
    "s = str.upper(input(\"請輸入學號\"))\n",
    "data[data[\"學號\"] == s]"
   ]
  },
  {
   "cell_type": "code",
   "execution_count": 6,
   "id": "60d45c5e",
   "metadata": {},
   "outputs": [
    {
     "name": "stdout",
     "output_type": "stream",
     "text": [
      "0       False\n",
      "1       False\n",
      "2       False\n",
      "3       False\n",
      "4       False\n",
      "        ...  \n",
      "3093    False\n",
      "3094    False\n",
      "3095    False\n",
      "3096    False\n",
      "3097    False\n",
      "Length: 3098, dtype: bool\n"
     ]
    }
   ],
   "source": []
  },
  {
   "cell_type": "code",
   "execution_count": 13,
   "id": "752dea80",
   "metadata": {},
   "outputs": [
    {
     "data": {
      "text/plain": [
       "False"
      ]
     },
     "execution_count": 13,
     "metadata": {},
     "output_type": "execute_result"
    }
   ],
   "source": []
  },
  {
   "cell_type": "code",
   "execution_count": 22,
   "id": "038e0b4f",
   "metadata": {},
   "outputs": [
    {
     "data": {
      "text/plain": [
       "pandas.core.series.Series"
      ]
     },
     "execution_count": 22,
     "metadata": {},
     "output_type": "execute_result"
    }
   ],
   "source": []
  },
  {
   "cell_type": "code",
   "execution_count": 9,
   "id": "386cd26c",
   "metadata": {},
   "outputs": [
    {
     "name": "stdout",
     "output_type": "stream",
     "text": [
      "請輸入學號41071205H\n"
     ]
    }
   ],
   "source": []
  },
  {
   "cell_type": "code",
   "execution_count": 10,
   "id": "9c72e639",
   "metadata": {},
   "outputs": [
    {
     "name": "stdout",
     "output_type": "stream",
     "text": [
      "請輸入學號41071205H\n"
     ]
    }
   ],
   "source": []
  },
  {
   "cell_type": "code",
   "execution_count": 40,
   "id": "fad65cee",
   "metadata": {},
   "outputs": [],
   "source": []
  },
  {
   "cell_type": "code",
   "execution_count": null,
   "id": "c9bc14fa",
   "metadata": {},
   "outputs": [],
   "source": []
  }
 ],
 "metadata": {
  "kernelspec": {
   "display_name": "Python 3 (ipykernel)",
   "language": "python",
   "name": "python3"
  },
  "language_info": {
   "codemirror_mode": {
    "name": "ipython",
    "version": 3
   },
   "file_extension": ".py",
   "mimetype": "text/x-python",
   "name": "python",
   "nbconvert_exporter": "python",
   "pygments_lexer": "ipython3",
   "version": "3.9.12"
  }
 },
 "nbformat": 4,
 "nbformat_minor": 5
}
