{
 "cells": [
  {
   "cell_type": "code",
   "execution_count": 22,
   "id": "750f6002",
   "metadata": {},
   "outputs": [
    {
     "data": {
      "text/plain": [
       "{'encoding': 'Big5', 'confidence': 0.99, 'language': 'Chinese'}"
      ]
     },
     "execution_count": 22,
     "metadata": {},
     "output_type": "execute_result"
    }
   ],
   "source": [
    "import pandas as pd\n",
    "#由於csv檔內有python無法讀出之語言UFT-8\n",
    "\n",
    "##先界定檔案所使用之語言\n",
    "import chardet\n",
    "with open(\"data.csv\", 'rb') as rawdata:\n",
    "    result = chardet.detect(rawdata.read(100000))\n",
    "result "
   ]
  },
  {
   "cell_type": "code",
   "execution_count": 26,
   "id": "535e671b",
   "metadata": {},
   "outputs": [
    {
     "data": {
      "text/html": [
       "<div>\n",
       "<style scoped>\n",
       "    .dataframe tbody tr th:only-of-type {\n",
       "        vertical-align: middle;\n",
       "    }\n",
       "\n",
       "    .dataframe tbody tr th {\n",
       "        vertical-align: top;\n",
       "    }\n",
       "\n",
       "    .dataframe thead th {\n",
       "        text-align: right;\n",
       "    }\n",
       "</style>\n",
       "<table border=\"1\" class=\"dataframe\">\n",
       "  <thead>\n",
       "    <tr style=\"text-align: right;\">\n",
       "      <th></th>\n",
       "      <th>學號</th>\n",
       "      <th>性別</th>\n",
       "      <th>分發宿舍</th>\n",
       "      <th>分發寢室</th>\n",
       "      <th>分發床號</th>\n",
       "    </tr>\n",
       "  </thead>\n",
       "  <tbody>\n",
       "    <tr>\n",
       "      <th>0</th>\n",
       "      <td>40909026E</td>\n",
       "      <td>女</td>\n",
       "      <td>女一舍</td>\n",
       "      <td>5111</td>\n",
       "      <td>3</td>\n",
       "    </tr>\n",
       "    <tr>\n",
       "      <th>1</th>\n",
       "      <td>40920120L</td>\n",
       "      <td>女</td>\n",
       "      <td>女一舍</td>\n",
       "      <td>5111</td>\n",
       "      <td>4</td>\n",
       "    </tr>\n",
       "    <tr>\n",
       "      <th>2</th>\n",
       "      <td>40820124L</td>\n",
       "      <td>女</td>\n",
       "      <td>女一舍</td>\n",
       "      <td>5112</td>\n",
       "      <td>2</td>\n",
       "    </tr>\n",
       "    <tr>\n",
       "      <th>3</th>\n",
       "      <td>40826013L</td>\n",
       "      <td>女</td>\n",
       "      <td>女一舍</td>\n",
       "      <td>5112</td>\n",
       "      <td>3</td>\n",
       "    </tr>\n",
       "    <tr>\n",
       "      <th>4</th>\n",
       "      <td>40707218E</td>\n",
       "      <td>女</td>\n",
       "      <td>女一舍</td>\n",
       "      <td>5113</td>\n",
       "      <td>3</td>\n",
       "    </tr>\n",
       "  </tbody>\n",
       "</table>\n",
       "</div>"
      ],
      "text/plain": [
       "          學號 性別 分發宿舍  分發寢室  分發床號\n",
       "0  40909026E  女  女一舍  5111     3\n",
       "1  40920120L  女  女一舍  5111     4\n",
       "2  40820124L  女  女一舍  5112     2\n",
       "3  40826013L  女  女一舍  5112     3\n",
       "4  40707218E  女  女一舍  5113     3"
      ]
     },
     "execution_count": 26,
     "metadata": {},
     "output_type": "execute_result"
    }
   ],
   "source": [
    "##讓pd讀檔並切換語言參數\n",
    "data = pd.read_csv(\"data.csv\",encoding = \"Big5\")\n",
    "data.head() #test"
   ]
  },
  {
   "cell_type": "code",
   "execution_count": null,
   "id": "f428e207",
   "metadata": {},
   "outputs": [],
   "source": []
  },
  {
   "cell_type": "code",
   "execution_count": null,
   "id": "50dc1aab",
   "metadata": {},
   "outputs": [],
   "source": []
  }
 ],
 "metadata": {
  "kernelspec": {
   "display_name": "Python 3 (ipykernel)",
   "language": "python",
   "name": "python3"
  },
  "language_info": {
   "codemirror_mode": {
    "name": "ipython",
    "version": 3
   },
   "file_extension": ".py",
   "mimetype": "text/x-python",
   "name": "python",
   "nbconvert_exporter": "python",
   "pygments_lexer": "ipython3",
   "version": "3.9.12"
  }
 },
 "nbformat": 4,
 "nbformat_minor": 5
}
