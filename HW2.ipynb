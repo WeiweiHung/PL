{
 "cells": [
  {
   "cell_type": "markdown",
   "id": "b289e70e",
   "metadata": {},
   "source": [
    "# 我的課程查詢器\n",
    "## 原由\n",
    "由於我曾經在學重考，因此有雙重學籍的問題。一開始有想過兩邊學校同時一起讀，所以兩間學校的畢業學分甚麼該修、甚麼已經完成，這些資料一度使我非常混亂。\n",
    "所以我將兩間學校所有需要修習的科目依照年級、必選修、以及完成時間做出json檔。希望可以做出可以查詢各年級科目和是否完成，與剩餘多少學分。\n",
    "目前只完成查詢年級各科目的部分。"
   ]
  },
  {
   "cell_type": "code",
   "execution_count": 19,
   "id": "582b491f",
   "metadata": {},
   "outputs": [],
   "source": [
    "import json"
   ]
  },
  {
   "cell_type": "code",
   "execution_count": 2,
   "id": "a59972df",
   "metadata": {},
   "outputs": [
    {
     "name": "stdout",
     "output_type": "stream",
     "text": [
      "<_io.TextIOWrapper name='school.json' mode='r' encoding='utf-8'>\n"
     ]
    }
   ],
   "source": [
    "n = open(\"school.json\", encoding=\"utf-8\")##打開資料，並調整編成碼"
   ]
  },
  {
   "cell_type": "code",
   "execution_count": 21,
   "id": "f8165223",
   "metadata": {},
   "outputs": [],
   "source": [
    "school = json.load(n)##json轉dict並命名"
   ]
  },
  {
   "cell_type": "code",
   "execution_count": 22,
   "id": "15808851",
   "metadata": {},
   "outputs": [
    {
     "data": {
      "text/plain": [
       "dict"
      ]
     },
     "execution_count": 22,
     "metadata": {},
     "output_type": "execute_result"
    }
   ],
   "source": [
    "type(school)##確認資料型態"
   ]
  },
  {
   "cell_type": "code",
   "execution_count": 23,
   "id": "8bc27a66",
   "metadata": {},
   "outputs": [],
   "source": [
    "data = school.get(\"學校\")"
   ]
  },
  {
   "cell_type": "code",
   "execution_count": 24,
   "id": "f24422bd",
   "metadata": {},
   "outputs": [
    {
     "data": {
      "text/plain": [
       "list"
      ]
     },
     "execution_count": 24,
     "metadata": {},
     "output_type": "execute_result"
    }
   ],
   "source": [
    "type(data) ##發現層層包起(;Д;)"
   ]
  },
  {
   "cell_type": "code",
   "execution_count": 92,
   "id": "45a5730c",
   "metadata": {},
   "outputs": [
    {
     "name": "stdout",
     "output_type": "stream",
     "text": [
      "輸入學校: 師大\n",
      "輸入課程性質: 大一必修\n"
     ]
    }
   ],
   "source": [
    "# 輸入變數\n",
    "sch = input(\"輸入師大或實踐\")\n",
    "sub = input(\"輸入課程性質\")\n",
    "print(\"輸入學校:\",sch)\n",
    "print(\"輸入課程性質:\",sub)"
   ]
  },
  {
   "cell_type": "code",
   "execution_count": null,
   "id": "53f7863a",
   "metadata": {},
   "outputs": [
    {
     "name": "stdout",
     "output_type": "stream",
     "text": [
      "課程名稱： 電腦影像處理 完成時間： 110上\n",
      "課程名稱： 計算機概論 完成時間： None\n",
      "課程名稱： 人力資源發展概論 完成時間： None\n",
      "課程名稱： 基本設計 完成時間： None\n",
      "課程名稱： 電子電路 完成時間： None\n",
      "課程名稱： 人力資源管理 完成時間： None\n"
     ]
    }
   ],
   "source": [
    "# 設定計數器數值\n",
    "schlist = [\"師大\",\"實踐\"]\n",
    "sublist = ['校共同必修','通識','大一必修','大二必修','大三必修','大四必修','大一系選修','大二系選修','大三系選修','大四系選修','特色課程']\n",
    "n = 0 #在第一層迴圈的計數器\n",
    "r = 0 #在第二層迴圈的計數器\n",
    "p = 0 #在第三層迴圈的計數器\n",
    "\n",
    "# 測試迴圈邏輯正確\n",
    "for i in schlist:\n",
    "    if sch == schlist[n]:\n",
    "        for u in sublist:\n",
    "            if sub == sublist[r]:\n",
    "                for o in data[n].get(schlist[n])[r].get(sublist[r]):\n",
    "                    # print(data[n].get(schlist[n])[r].get(sublist[r])[p].get('完成時間'))\n",
    "                    time = data[n].get(schlist[n])[r].get(sublist[r])[p].get('完成時間')\n",
    "                    lesson = data[n].get(schlist[n])[r].get(sublist[r])[p].get('課程名稱')\n",
    "                    print(\"課程名稱：\",lesson,\"完成時間：\",time)\n",
    "                    p = p + 1\n",
    "                r = r + 1\n",
    "            else:\n",
    "                r = r + 1\n",
    "        n = n + 1\n",
    "    else:\n",
    "        n = n + 1"
   ]
  },
  {
   "cell_type": "code",
   "execution_count": null,
   "id": "6368b359",
   "metadata": {},
   "outputs": [
    {
     "name": "stdout",
     "output_type": "stream",
     "text": [
      "輸入學校: 實踐\n",
      "輸入課程性質: 大一必修\n"
     ]
    }
   ],
   "source": [
    "# 輸入變數\n",
    "sch = input(\"輸入師大或實踐\")\n",
    "sub = input(\"輸入課程性質\")\n",
    "print(\"輸入學校:\",sch)\n",
    "print(\"輸入課程性質:\",sub)"
   ]
  },
  {
   "cell_type": "code",
   "execution_count": null,
   "id": "958033b9",
   "metadata": {},
   "outputs": [],
   "source": [
    "# 定義 lesson(學校,課程性質)則印出課程名稱\n",
    "def lesson(sch,sub):\n",
    "    n = 0 #在第一層迴圈的計數器\n",
    "    r = 0 #在第二層迴圈的計數器\n",
    "    p = 0 #在第三層迴圈的計數器\n",
    "    for i in schlist:\n",
    "        if sch == schlist[n]:\n",
    "            for u in sublist:\n",
    "                if sub == sublist[r]:\n",
    "                # print(data[n].get(schlist[n])[r].get(sublist[r])) #測試\n",
    "                    for o in data[n].get(schlist[n])[r].get(sublist[r]):\n",
    "                        #rint(data[n].get(schlist[n])[r].get(sublist[r])[p].get('課程名稱')) #測試\n",
    "                        lesson = data[n].get(schlist[n])[r].get(sublist[r])[p].get('課程名稱')\n",
    "                        p = p + 1\n",
    "                        print(\"課程名稱：\",lesson)\n",
    "                    r = r + 1\n",
    "                else:\n",
    "                    r = r + 1\n",
    "            n = n + 1\n",
    "        else:\n",
    "            n = n + 1"
   ]
  },
  {
   "cell_type": "code",
   "execution_count": null,
   "id": "e06b2f82",
   "metadata": {},
   "outputs": [
    {
     "name": "stdout",
     "output_type": "stream",
     "text": [
      "課程名稱： 設計概論(一)\n",
      "課程名稱： 創作基礎(一)\n",
      "課程名稱： 設計概論(二)\n",
      "課程名稱： 創作基礎(二)\n",
      "課程名稱： 設計繪畫(一)\n",
      "課程名稱： 視覺心理學\n",
      "課程名稱： 設計繪畫(二)\n",
      "課程名稱： 3D電腦繪圖\n"
     ]
    }
   ],
   "source": [
    "lesson(sch,sub) "
   ]
  },
  {
   "cell_type": "code",
   "execution_count": null,
   "id": "d9679603",
   "metadata": {},
   "outputs": [
    {
     "name": "stdout",
     "output_type": "stream",
     "text": [
      "課程名稱： 電腦影像處理 學分數： 3\n",
      "課程名稱： 計算機概論 學分數： 3\n",
      "課程名稱： 人力資源發展概論 學分數： 3\n",
      "課程名稱： 基本設計 學分數： 3\n",
      "課程名稱： 電子電路 學分數： 3\n",
      "課程名稱： 人力資源管理 學分數： 3\n",
      "18\n"
     ]
    }
   ],
   "source": [
    "#做學分排序\n",
    "sch = \"師大\"\n",
    "sub = \"大一必修\"\n",
    "allsub = []\n",
    "n = 0 #在第一層迴圈的計數器\n",
    "r = 0 #在第二層迴圈的計數器\n",
    "p = 0 #在第三層迴圈的計數器\n",
    "for i in schlist:\n",
    "    if sch == schlist[n]:\n",
    "        for u in sublist:\n",
    "            if sub == sublist[r]:\n",
    "                for o in data[n].get(schlist[n])[r].get(sublist[r]):\n",
    "                    # print(data[n].get(schlist[n])[r].get(sublist[r])[p].get('完成時間'))\n",
    "                    time = data[n].get(schlist[n])[r].get(sublist[r])[p].get('學分數')\n",
    "                    lesson = data[n].get(schlist[n])[r].get(sublist[r])[p].get('課程名稱')\n",
    "                    allsub.append(time)\n",
    "                    print(\"課程名稱：\",lesson,\"學分數：\",time)\n",
    "                    p = p + 1\n",
    "                r = r + 1\n",
    "            else:\n",
    "                r = r + 1\n",
    "        n = n + 1\n",
    "    else:\n",
    "        n = n + 1\n",
    "print(sum(allsub))\n",
    "\n",
    "\n"
   ]
  },
  {
   "cell_type": "code",
   "execution_count": 26,
   "id": "04309e91",
   "metadata": {},
   "outputs": [],
   "source": [
    "schlist = [\"師大\",\"實踐\"]\n",
    "sublist = ['校共同必修','通識','大一必修','大二必修','大三必修','大四必修','大一系選修','大二系選修','大三系選修','大四系選修','特色課程']"
   ]
  },
  {
   "cell_type": "code",
   "execution_count": 58,
   "id": "f95f3e39",
   "metadata": {},
   "outputs": [
    {
     "data": {
      "text/plain": [
       "[{'課程名稱': '中文閱讀與思辯', '完成時間': '110上', '學分數': 2},\n",
       " {'課程名稱': '中文寫作與表達', '完成時間': '110下', '學分數': 2},\n",
       " {'課程名稱': '體育', '學分數': 4}]"
      ]
     },
     "execution_count": 58,
     "metadata": {},
     "output_type": "execute_result"
    }
   ],
   "source": [
    "data[0].get(\"師大\")[0].get(\"校共同必修\")[0]"
   ]
  },
  {
   "cell_type": "code",
   "execution_count": 74,
   "id": "c1455af0",
   "metadata": {},
   "outputs": [
    {
     "name": "stdout",
     "output_type": "stream",
     "text": [
      "8\n",
      "20\n",
      "18\n",
      "9\n",
      "10\n",
      "1\n",
      "3\n",
      "6\n",
      "21\n",
      "3\n"
     ]
    },
    {
     "ename": "IndexError",
     "evalue": "list index out of range",
     "output_type": "error",
     "traceback": [
      "\u001b[1;31m---------------------------------------------------------------------------\u001b[0m",
      "\u001b[1;31mIndexError\u001b[0m                                Traceback (most recent call last)",
      "Cell \u001b[1;32mIn [74], line 7\u001b[0m\n\u001b[0;32m      5\u001b[0m \u001b[39mfor\u001b[39;00m r \u001b[39min\u001b[39;00m sublist:\n\u001b[0;32m      6\u001b[0m     allsub \u001b[39m=\u001b[39m []\n\u001b[1;32m----> 7\u001b[0m     \u001b[39mfor\u001b[39;00m u \u001b[39min\u001b[39;00m data[\u001b[39m0\u001b[39m]\u001b[39m.\u001b[39mget(i)[v]\u001b[39m.\u001b[39mget(r):\n\u001b[0;32m      8\u001b[0m         subject \u001b[39m=\u001b[39m u\u001b[39m.\u001b[39mget(\u001b[39m\"\u001b[39m\u001b[39m學分數\u001b[39m\u001b[39m\"\u001b[39m)\n\u001b[0;32m      9\u001b[0m         allsub\u001b[39m.\u001b[39mappend(subject)\n",
      "\u001b[1;31mIndexError\u001b[0m: list index out of range"
     ]
    }
   ],
   "source": [
    "n = 0\n",
    "v = 0\n",
    "x = 0\n",
    "totalsub = []#裝各個性質的學分數\n",
    "for r in sublist:\n",
    "    allsub = []\n",
    "    for u in data[0].get(i)[v].get(r):\n",
    "        subject = u.get(\"學分數\")\n",
    "        allsub.append(subject)\n",
    "        #data[n].get(i)[v].get(r)\n",
    "        #print(subject)確認資料是否正確的測試劑\n",
    "    v = v + 1 \n",
    "    print(sum(allsub))\n",
    "    totalsub.append(sum(allsub))\n",
    "print(totalsub)"
   ]
  },
  {
   "cell_type": "code",
   "execution_count": 75,
   "id": "fb9444a9",
   "metadata": {},
   "outputs": [
    {
     "name": "stdout",
     "output_type": "stream",
     "text": [
      "[8, 20, 18, 9, 10, 1, 3, 6, 21, 3]\n"
     ]
    }
   ],
   "source": [
    "print(totalsub)##確認所有性質的課程學分數以相加"
   ]
  },
  {
   "cell_type": "code",
   "execution_count": 90,
   "id": "3f2acbe1",
   "metadata": {},
   "outputs": [
    {
     "data": {
      "text/plain": [
       "[(9, 21),\n",
       " (2, 20),\n",
       " (3, 18),\n",
       " (5, 10),\n",
       " (4, 9),\n",
       " (1, 8),\n",
       " (8, 6),\n",
       " (7, 3),\n",
       " (10, 3),\n",
       " (6, 1)]"
      ]
     },
     "execution_count": 90,
     "metadata": {},
     "output_type": "execute_result"
    }
   ],
   "source": [
    "allsub_enumerate_sorted = sorted(enumerate(totalsub, start = 1), key = lambda s: s[1], reverse = True)\n",
    "allsub_enumerate_sorted"
   ]
  },
  {
   "cell_type": "code",
   "execution_count": 91,
   "id": "304975af",
   "metadata": {},
   "outputs": [
    {
     "name": "stdout",
     "output_type": "stream",
     "text": [
      "大三系選修 共 21 學分\n",
      "通識 共 20 學分\n",
      "大一必修 共 18 學分\n",
      "大三必修 共 10 學分\n",
      "大二必修 共 9 學分\n",
      "校共同必修 共 8 學分\n",
      "大二系選修 共 6 學分\n",
      "大一系選修 共 3 學分\n",
      "大四系選修 共 3 學分\n",
      "大四必修 共 1 學分\n"
     ]
    }
   ],
   "source": [
    "##排序\n",
    "for i in allsub_enumerate_sorted:\n",
    "    j = i[0] - 1\n",
    "    print(sublist[j], \"共\", totalsub[j], \"學分\")"
   ]
  }
 ],
 "metadata": {
  "kernelspec": {
   "display_name": "Python 3",
   "language": "python",
   "name": "python3"
  },
  "language_info": {
   "codemirror_mode": {
    "name": "ipython",
    "version": 3
   },
   "file_extension": ".py",
   "mimetype": "text/x-python",
   "name": "python",
   "nbconvert_exporter": "python",
   "pygments_lexer": "ipython3",
   "version": "3.10.7 (tags/v3.10.7:6cc6b13, Sep  5 2022, 14:08:36) [MSC v.1933 64 bit (AMD64)]"
  },
  "vscode": {
   "interpreter": {
    "hash": "369f2c481f4da34e4445cda3fffd2e751bd1c4d706f27375911949ba6bb62e1c"
   }
  }
 },
 "nbformat": 4,
 "nbformat_minor": 5
}
