{
 "cells": [
  {
   "cell_type": "markdown",
   "id": "abb0ed5e",
   "metadata": {},
   "source": [
    "# 我的課程查詢器\n",
    "## 原由\n",
    "由於我曾經在學重考，因此有雙重學籍的問題。一開始有想過兩邊學校同時一起讀，所以兩間學校的畢業學分甚麼該修、甚麼已經完成，這些資料一度使我非常混亂"
   ]
  },
  {
   "cell_type": "code",
   "execution_count": 258,
   "id": "582b491f",
   "metadata": {},
   "outputs": [],
   "source": [
    "import json"
   ]
  },
  {
   "cell_type": "code",
   "execution_count": 259,
   "id": "a59972df",
   "metadata": {},
   "outputs": [],
   "source": [
    "n = open(\"school.json\", encoding=\"utf-8\")##打開資料，並調整編成碼"
   ]
  },
  {
   "cell_type": "code",
   "execution_count": 260,
   "id": "f8165223",
   "metadata": {},
   "outputs": [],
   "source": [
    "school = json.load(n)##json轉dict並命名"
   ]
  },
  {
   "cell_type": "code",
   "execution_count": 261,
   "id": "15808851",
   "metadata": {},
   "outputs": [
    {
     "data": {
      "text/plain": [
       "dict"
      ]
     },
     "execution_count": 261,
     "metadata": {},
     "output_type": "execute_result"
    }
   ],
   "source": [
    "type(school)##確認資料型態"
   ]
  },
  {
   "cell_type": "code",
   "execution_count": 262,
   "id": "8bc27a66",
   "metadata": {},
   "outputs": [],
   "source": [
    "data = school.get(\"學校\")"
   ]
  },
  {
   "cell_type": "code",
   "execution_count": 263,
   "id": "1c30eb47",
   "metadata": {},
   "outputs": [
    {
     "data": {
      "text/plain": [
       "list"
      ]
     },
     "execution_count": 263,
     "metadata": {},
     "output_type": "execute_result"
    }
   ],
   "source": [
    "type(data) ##發現層層包起(;Д;)"
   ]
  },
  {
   "cell_type": "code",
   "execution_count": 276,
   "id": "5ea0f45d",
   "metadata": {},
   "outputs": [],
   "source": [
    "# 設定計數器數值和變數\n",
    "schlist = [\"師大\",\"實踐\"]\n",
    "sublist = ['校共同必修','通識','大一必修','大二必修','大三必修','大四必修','大一系選修','大二系選修','大三系選修','大四系選修','特色課程']\n",
    "sch = \"實踐\"\n",
    "sub = \"大一必修\"\n",
    "n = 0 #在第一層迴圈的計數器\n",
    "r = 0 #在第二層迴圈的計數器\n",
    "p = 0 #在第三層迴圈的計數器\n",
    "#input(\"輸入師大或實踐\")"
   ]
  },
  {
   "cell_type": "code",
   "execution_count": 277,
   "id": "6e55c548",
   "metadata": {},
   "outputs": [
    {
     "name": "stdout",
     "output_type": "stream",
     "text": [
      "設計概論(一)\n",
      "創作基礎(一)\n",
      "設計概論(二)\n",
      "創作基礎(二)\n",
      "設計繪畫(一)\n",
      "視覺心理學\n",
      "設計繪畫(二)\n",
      "3D電腦繪圖\n"
     ]
    }
   ],
   "source": [
    "# 測試迴圈邏輯正確\n",
    "for i in schlist:\n",
    "    if sch == schlist[n]:\n",
    "        for u in sublist:\n",
    "            if sub == sublist[r]:\n",
    "                for o in data[n].get(schlist[n])[r].get(sublist[r]):\n",
    "                    print(data[n].get(schlist[n])[r].get(sublist[r])[p].get('課程名稱'))\n",
    "                    p = p + 1\n",
    "                r = r + 1\n",
    "            else:\n",
    "                r = r + 1\n",
    "        n = n + 1\n",
    "    else:\n",
    "        n = n + 1"
   ]
  },
  {
   "cell_type": "code",
   "execution_count": 287,
   "id": "bf9e8167",
   "metadata": {},
   "outputs": [],
   "source": [
    "# 定義 lesson(學校,課程性質)則印出課程名稱\n",
    "def lesson(sch,sub):\n",
    "    n = 0 #在第一層迴圈的計數器\n",
    "    r = 0 #在第二層迴圈的計數器\n",
    "    p = 0 #在第三層迴圈的計數器\n",
    "    for i in schlist:\n",
    "        if sch == schlist[n]:\n",
    "            for u in sublist:\n",
    "                if sub == sublist[r]:\n",
    "                # print(data[n].get(schlist[n])[r].get(sublist[r]))\n",
    "                    for o in data[n].get(schlist[n])[r].get(sublist[r]):\n",
    "                        #rint(data[n].get(schlist[n])[r].get(sublist[r])[p].get('課程名稱'))\n",
    "                        lesson = data[n].get(schlist[n])[r].get(sublist[r])[p].get('課程名稱')\n",
    "                        p = p + 1\n",
    "                        print(\"課程名稱：\",lesson)\n",
    "                    r = r + 1\n",
    "                else:\n",
    "                    r = r + 1\n",
    "            n = n + 1\n",
    "        else:\n",
    "            n = n + 1"
   ]
  },
  {
   "cell_type": "code",
   "execution_count": 288,
   "id": "3f9ce872",
   "metadata": {},
   "outputs": [],
   "source": [
    "sch = \"師大\"\n",
    "sub = \"大一必修\""
   ]
  },
  {
   "cell_type": "code",
   "execution_count": 289,
   "id": "3d2619a0",
   "metadata": {},
   "outputs": [
    {
     "name": "stdout",
     "output_type": "stream",
     "text": [
      "課程名稱： 電腦影像處理\n",
      "課程名稱： 計算機概論\n",
      "課程名稱： 人力資源發展概論\n",
      "課程名稱： 基本設計\n",
      "課程名稱： 電子電路\n",
      "課程名稱： 人力資源管理\n"
     ]
    }
   ],
   "source": [
    "lesson(sch,sub)"
   ]
  },
  {
   "cell_type": "code",
   "execution_count": null,
   "id": "0760950e",
   "metadata": {},
   "outputs": [],
   "source": []
  }
 ],
 "metadata": {
  "kernelspec": {
   "display_name": "Python 3 (ipykernel)",
   "language": "python",
   "name": "python3"
  },
  "language_info": {
   "codemirror_mode": {
    "name": "ipython",
    "version": 3
   },
   "file_extension": ".py",
   "mimetype": "text/x-python",
   "name": "python",
   "nbconvert_exporter": "python",
   "pygments_lexer": "ipython3",
   "version": "3.9.12"
  }
 },
 "nbformat": 4,
 "nbformat_minor": 5
}
