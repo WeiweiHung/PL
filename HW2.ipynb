{
 "cells": [
  {
   "cell_type": "markdown",
   "id": "b289e70e",
   "metadata": {},
   "source": [
    "# 我的課程查詢器\n",
    "## 原由\n",
    "由於我曾經在學重考，因此有雙重學籍的問題。一開始有想過兩邊學校同時一起讀，所以兩間學校的畢業學分甚麼該修、甚麼已經完成，這些資料一度使我非常混亂。\n",
    "所以我將兩間學校所有需要修習的科目依照年級、必選修、以及完成時間做出json檔。希望可以做出可以查詢各年級科目和是否完成，與剩餘多少學分。\n",
    "目前只完成查詢年級各科目的部分。"
   ]
  },
  {
   "cell_type": "code",
   "execution_count": 3,
   "id": "582b491f",
   "metadata": {},
   "outputs": [],
   "source": [
    "import json"
   ]
  },
  {
   "cell_type": "code",
   "execution_count": 4,
   "id": "a59972df",
   "metadata": {},
   "outputs": [],
   "source": [
    "n = open(\"school.json\", encoding=\"utf-8\")##打開資料，並調整編成碼"
   ]
  },
  {
   "cell_type": "code",
   "execution_count": 5,
   "id": "f8165223",
   "metadata": {},
   "outputs": [],
   "source": [
    "school = json.load(n)##json轉dict並命名"
   ]
  },
  {
   "cell_type": "code",
   "execution_count": 6,
   "id": "15808851",
   "metadata": {},
   "outputs": [
    {
     "data": {
      "text/plain": [
       "dict"
      ]
     },
     "execution_count": 6,
     "metadata": {},
     "output_type": "execute_result"
    }
   ],
   "source": [
    "type(school)##確認資料型態"
   ]
  },
  {
   "cell_type": "code",
   "execution_count": 7,
   "id": "8bc27a66",
   "metadata": {},
   "outputs": [],
   "source": [
    "data = school.get(\"學校\")"
   ]
  },
  {
   "cell_type": "code",
   "execution_count": 8,
   "id": "f24422bd",
   "metadata": {},
   "outputs": [
    {
     "data": {
      "text/plain": [
       "list"
      ]
     },
     "execution_count": 8,
     "metadata": {},
     "output_type": "execute_result"
    }
   ],
   "source": [
    "type(data) ##發現層層包起(;Д;)"
   ]
  },
  {
   "cell_type": "code",
   "execution_count": 9,
   "id": "45a5730c",
   "metadata": {},
   "outputs": [
    {
     "name": "stdout",
     "output_type": "stream",
     "text": [
      "輸入師大或實踐師大\n",
      "輸入課程性質大一必修\n"
     ]
    }
   ],
   "source": [
    "# 輸入變數\n",
    "sch = input(\"輸入師大或實踐\")\n",
    "sub = input(\"輸入課程性質\")"
   ]
  },
  {
   "cell_type": "code",
   "execution_count": 10,
   "id": "53f7863a",
   "metadata": {},
   "outputs": [
    {
     "name": "stdout",
     "output_type": "stream",
     "text": [
      "課程名稱： 電腦影像處理 完成時間： 110上\n",
      "課程名稱： 計算機概論 完成時間： None\n",
      "課程名稱： 人力資源發展概論 完成時間： None\n",
      "課程名稱： 基本設計 完成時間： None\n",
      "課程名稱： 電子電路 完成時間： None\n",
      "課程名稱： 人力資源管理 完成時間： None\n"
     ]
    }
   ],
   "source": [
    "# 設定計數器數值\n",
    "schlist = [\"師大\",\"實踐\"]\n",
    "sublist = ['校共同必修','通識','大一必修','大二必修','大三必修','大四必修','大一系選修','大二系選修','大三系選修','大四系選修','特色課程']\n",
    "n = 0 #在第一層迴圈的計數器\n",
    "r = 0 #在第二層迴圈的計數器\n",
    "p = 0 #在第三層迴圈的計數器\n",
    "\n",
    "# 測試迴圈邏輯正確\n",
    "for i in schlist:\n",
    "    if sch == schlist[n]:\n",
    "        for u in sublist:\n",
    "            if sub == sublist[r]:\n",
    "                for o in data[n].get(schlist[n])[r].get(sublist[r]):\n",
    "                    # print(data[n].get(schlist[n])[r].get(sublist[r])[p].get('完成時間'))\n",
    "                    time = data[n].get(schlist[n])[r].get(sublist[r])[p].get('完成時間')\n",
    "                    lesson = data[n].get(schlist[n])[r].get(sublist[r])[p].get('課程名稱')\n",
    "                    print(\"課程名稱：\",lesson,\"完成時間：\",time)\n",
    "                    p = p + 1\n",
    "                r = r + 1\n",
    "            else:\n",
    "                r = r + 1\n",
    "        n = n + 1\n",
    "    else:\n",
    "        n = n + 1"
   ]
  },
  {
   "cell_type": "code",
   "execution_count": 11,
   "id": "6368b359",
   "metadata": {},
   "outputs": [
    {
     "name": "stdout",
     "output_type": "stream",
     "text": [
      "輸入師大或實踐實踐\n",
      "輸入課程性質大二必修\n"
     ]
    }
   ],
   "source": [
    "# 輸入變數\n",
    "sch = input(\"輸入師大或實踐\")\n",
    "sub = input(\"輸入課程性質\")"
   ]
  },
  {
   "cell_type": "code",
   "execution_count": 12,
   "id": "958033b9",
   "metadata": {},
   "outputs": [],
   "source": [
    "# 定義 lesson(學校,課程性質)則印出課程名稱\n",
    "def lesson(sch,sub):\n",
    "    n = 0 #在第一層迴圈的計數器\n",
    "    r = 0 #在第二層迴圈的計數器\n",
    "    p = 0 #在第三層迴圈的計數器\n",
    "    for i in schlist:\n",
    "        if sch == schlist[n]:\n",
    "            for u in sublist:\n",
    "                if sub == sublist[r]:\n",
    "                # print(data[n].get(schlist[n])[r].get(sublist[r])) #測試\n",
    "                    for o in data[n].get(schlist[n])[r].get(sublist[r]):\n",
    "                        #rint(data[n].get(schlist[n])[r].get(sublist[r])[p].get('課程名稱')) #測試\n",
    "                        lesson = data[n].get(schlist[n])[r].get(sublist[r])[p].get('課程名稱')\n",
    "                        p = p + 1\n",
    "                        print(\"課程名稱：\",lesson)\n",
    "                    r = r + 1\n",
    "                else:\n",
    "                    r = r + 1\n",
    "            n = n + 1\n",
    "        else:\n",
    "            n = n + 1"
   ]
  },
  {
   "cell_type": "code",
   "execution_count": 13,
   "id": "e06b2f82",
   "metadata": {},
   "outputs": [
    {
     "name": "stdout",
     "output_type": "stream",
     "text": [
      "課程名稱： 電腦輔助設計(一)\n",
      "課程名稱： 電腦輔助設計(二)\n",
      "課程名稱： 跨域平台整合設計\n",
      "課程名稱： 後置特效處裡\n",
      "課程名稱： 專業英語聽講\n",
      "課程名稱： 媒體整合設計(一)\n",
      "課程名稱： 媒體設計史(一)\n",
      "課程名稱： 專業英語導讀\n",
      "課程名稱： 媒體整合設計(二)\n",
      "課程名稱： 媒體設計史(二)\n"
     ]
    }
   ],
   "source": [
    "lesson(sch,sub) "
   ]
  },
  {
   "cell_type": "code",
   "execution_count": null,
   "id": "ea4d23d8",
   "metadata": {},
   "outputs": [],
   "source": []
  }
 ],
 "metadata": {
  "kernelspec": {
   "display_name": "Python 3 (ipykernel)",
   "language": "python",
   "name": "python3"
  },
  "language_info": {
   "codemirror_mode": {
    "name": "ipython",
    "version": 3
   },
   "file_extension": ".py",
   "mimetype": "text/x-python",
   "name": "python",
   "nbconvert_exporter": "python",
   "pygments_lexer": "ipython3",
   "version": "3.9.12"
  }
 },
 "nbformat": 4,
 "nbformat_minor": 5
}
